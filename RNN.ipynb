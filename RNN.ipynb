{
 "cells": [
  {
   "cell_type": "code",
   "execution_count": 1,
   "id": "initial_id",
   "metadata": {
    "collapsed": true,
    "ExecuteTime": {
     "end_time": "2024-03-01T06:27:04.253351400Z",
     "start_time": "2024-03-01T06:27:04.238351900Z"
    }
   },
   "outputs": [],
   "source": [
    "# Building the Stock Predication Model for 2023 using RNN Neural Network"
   ]
  },
  {
   "cell_type": "code",
   "outputs": [],
   "source": [
    "# Importing pandas\n",
    "import pandas as pd"
   ],
   "metadata": {
    "collapsed": false,
    "ExecuteTime": {
     "end_time": "2024-03-01T10:10:24.938959400Z",
     "start_time": "2024-03-01T10:10:24.919960Z"
    }
   },
   "id": "c3a4dc2b45316190",
   "execution_count": 1
  },
  {
   "cell_type": "code",
   "outputs": [],
   "source": [
    "# Reading xlsx file using pandas\n",
    "df = pd.read_excel('Stocks.xlsx')"
   ],
   "metadata": {
    "collapsed": false,
    "ExecuteTime": {
     "end_time": "2024-03-01T10:10:25.788154Z",
     "start_time": "2024-03-01T10:10:24.936960300Z"
    }
   },
   "id": "e27025b0270f9b53",
   "execution_count": 2
  },
  {
   "cell_type": "code",
   "outputs": [
    {
     "data": {
      "text/plain": "      S.No.           SECTOR              Name  CMP Rs.     P/E  \\\n0         1         Trading      Adani Enterp.  2251.25   98.52   \n1         2         Trading     Mankind Pharma  1801.00   51.05   \n2         3         Trading          Redington   151.40    9.56   \n3         4         Trading    Aegis Logistics   294.55   20.31   \n4         5         Trading               MMTC    54.54   17.96   \n...     ...              ...               ...      ...     ...   \n4427   4428  Agro Chemicals   Crop Life Scienc    40.60   25.03   \n4428   4429  Agro Chemicals    Aristo Bio-Tech    85.00   16.26   \n4429   4430  Agro Chemicals    Super Crop Safe     9.28   24.71   \n4430   4431  Agro Chemicals   Bhaskar Agrochem    40.50  150.72   \n4431   4432  Agro Chemicals     Phyto Chem (I)    43.00     NaN   \n\n      Mar Cap Rs.Cr.   Div Yld %  NP Qtr Rs.Cr.  Qtr Profit Var %  \\\n0           256642.75       0.05         333.34            -40.38   \n1            72145.99       0.00         472.88             12.53   \n2            11834.76       4.79         311.64            -21.58   \n3            10338.72       1.96         150.01             35.97   \n4             8181.00       0.00          14.66             80.33   \n...               ...        ...            ...               ...   \n4427            69.59       0.00            NaN               NaN   \n4428            57.86       0.30           1.00               NaN   \n4429            37.32       0.00           0.18            148.65   \n4430            21.10       0.00          -2.03             -4.64   \n4431            18.49       0.00          -0.16           -108.08   \n\n      Sales Qtr Rs.Cr.  Qtr Sales Var %  ROCE %  6mth return %  3mth return %  \\\n0             22517.33           -41.02    9.49          13.17         -10.41   \n1              2453.35             8.67   20.70          27.66          -2.31   \n2             22220.15            16.64   24.92         -15.78          -5.85   \n3              1234.86           -42.58   15.90         -24.06         -20.57   \n4               214.47           -85.81   23.01          75.45          41.42   \n...                ...              ...     ...            ...            ...   \n4427               NaN              NaN   10.65            NaN            NaN   \n4428             88.81              NaN   16.11          39.24          15.60   \n4429              5.81            35.43    6.22          82.98           1.28   \n4430              7.33            36.75   12.22         -39.60         -31.54   \n4431              7.21           -42.18    7.55           4.88           8.79   \n\n        PEG  Current ratio  EV Rs.Cr.  CMP / FCF  CMP / Sales  \n0      3.60           0.80  306948.71    -116.58         2.42  \n1      4.29           2.86   71944.25     332.81         8.43  \n2      0.40           1.37   13883.59      37.51         0.14  \n3      1.12           3.86   10953.67    -147.89         1.36  \n4      0.37           1.48    7037.57       9.99         3.67  \n...     ...            ...        ...        ...          ...  \n4427    NaN           1.47      89.05     216.96         0.74  \n4428 -16.59           1.40      78.50     -63.05         0.27  \n4429  -0.90           1.65      54.28      99.93         1.55  \n4430 -15.04           1.03      36.61     -23.49         0.37  \n4431    NaN           1.32      34.67      10.71         0.89  \n\n[4432 rows x 19 columns]",
      "text/html": "<div>\n<style scoped>\n    .dataframe tbody tr th:only-of-type {\n        vertical-align: middle;\n    }\n\n    .dataframe tbody tr th {\n        vertical-align: top;\n    }\n\n    .dataframe thead th {\n        text-align: right;\n    }\n</style>\n<table border=\"1\" class=\"dataframe\">\n  <thead>\n    <tr style=\"text-align: right;\">\n      <th></th>\n      <th>S.No.</th>\n      <th>SECTOR</th>\n      <th>Name</th>\n      <th>CMP Rs.</th>\n      <th>P/E</th>\n      <th>Mar Cap Rs.Cr.</th>\n      <th>Div Yld %</th>\n      <th>NP Qtr Rs.Cr.</th>\n      <th>Qtr Profit Var %</th>\n      <th>Sales Qtr Rs.Cr.</th>\n      <th>Qtr Sales Var %</th>\n      <th>ROCE %</th>\n      <th>6mth return %</th>\n      <th>3mth return %</th>\n      <th>PEG</th>\n      <th>Current ratio</th>\n      <th>EV Rs.Cr.</th>\n      <th>CMP / FCF</th>\n      <th>CMP / Sales</th>\n    </tr>\n  </thead>\n  <tbody>\n    <tr>\n      <th>0</th>\n      <td>1</td>\n      <td>Trading</td>\n      <td>Adani Enterp.</td>\n      <td>2251.25</td>\n      <td>98.52</td>\n      <td>256642.75</td>\n      <td>0.05</td>\n      <td>333.34</td>\n      <td>-40.38</td>\n      <td>22517.33</td>\n      <td>-41.02</td>\n      <td>9.49</td>\n      <td>13.17</td>\n      <td>-10.41</td>\n      <td>3.60</td>\n      <td>0.80</td>\n      <td>306948.71</td>\n      <td>-116.58</td>\n      <td>2.42</td>\n    </tr>\n    <tr>\n      <th>1</th>\n      <td>2</td>\n      <td>Trading</td>\n      <td>Mankind Pharma</td>\n      <td>1801.00</td>\n      <td>51.05</td>\n      <td>72145.99</td>\n      <td>0.00</td>\n      <td>472.88</td>\n      <td>12.53</td>\n      <td>2453.35</td>\n      <td>8.67</td>\n      <td>20.70</td>\n      <td>27.66</td>\n      <td>-2.31</td>\n      <td>4.29</td>\n      <td>2.86</td>\n      <td>71944.25</td>\n      <td>332.81</td>\n      <td>8.43</td>\n    </tr>\n    <tr>\n      <th>2</th>\n      <td>3</td>\n      <td>Trading</td>\n      <td>Redington</td>\n      <td>151.40</td>\n      <td>9.56</td>\n      <td>11834.76</td>\n      <td>4.79</td>\n      <td>311.64</td>\n      <td>-21.58</td>\n      <td>22220.15</td>\n      <td>16.64</td>\n      <td>24.92</td>\n      <td>-15.78</td>\n      <td>-5.85</td>\n      <td>0.40</td>\n      <td>1.37</td>\n      <td>13883.59</td>\n      <td>37.51</td>\n      <td>0.14</td>\n    </tr>\n    <tr>\n      <th>3</th>\n      <td>4</td>\n      <td>Trading</td>\n      <td>Aegis Logistics</td>\n      <td>294.55</td>\n      <td>20.31</td>\n      <td>10338.72</td>\n      <td>1.96</td>\n      <td>150.01</td>\n      <td>35.97</td>\n      <td>1234.86</td>\n      <td>-42.58</td>\n      <td>15.90</td>\n      <td>-24.06</td>\n      <td>-20.57</td>\n      <td>1.12</td>\n      <td>3.86</td>\n      <td>10953.67</td>\n      <td>-147.89</td>\n      <td>1.36</td>\n    </tr>\n    <tr>\n      <th>4</th>\n      <td>5</td>\n      <td>Trading</td>\n      <td>MMTC</td>\n      <td>54.54</td>\n      <td>17.96</td>\n      <td>8181.00</td>\n      <td>0.00</td>\n      <td>14.66</td>\n      <td>80.33</td>\n      <td>214.47</td>\n      <td>-85.81</td>\n      <td>23.01</td>\n      <td>75.45</td>\n      <td>41.42</td>\n      <td>0.37</td>\n      <td>1.48</td>\n      <td>7037.57</td>\n      <td>9.99</td>\n      <td>3.67</td>\n    </tr>\n    <tr>\n      <th>...</th>\n      <td>...</td>\n      <td>...</td>\n      <td>...</td>\n      <td>...</td>\n      <td>...</td>\n      <td>...</td>\n      <td>...</td>\n      <td>...</td>\n      <td>...</td>\n      <td>...</td>\n      <td>...</td>\n      <td>...</td>\n      <td>...</td>\n      <td>...</td>\n      <td>...</td>\n      <td>...</td>\n      <td>...</td>\n      <td>...</td>\n      <td>...</td>\n    </tr>\n    <tr>\n      <th>4427</th>\n      <td>4428</td>\n      <td>Agro Chemicals</td>\n      <td>Crop Life Scienc</td>\n      <td>40.60</td>\n      <td>25.03</td>\n      <td>69.59</td>\n      <td>0.00</td>\n      <td>NaN</td>\n      <td>NaN</td>\n      <td>NaN</td>\n      <td>NaN</td>\n      <td>10.65</td>\n      <td>NaN</td>\n      <td>NaN</td>\n      <td>NaN</td>\n      <td>1.47</td>\n      <td>89.05</td>\n      <td>216.96</td>\n      <td>0.74</td>\n    </tr>\n    <tr>\n      <th>4428</th>\n      <td>4429</td>\n      <td>Agro Chemicals</td>\n      <td>Aristo Bio-Tech</td>\n      <td>85.00</td>\n      <td>16.26</td>\n      <td>57.86</td>\n      <td>0.30</td>\n      <td>1.00</td>\n      <td>NaN</td>\n      <td>88.81</td>\n      <td>NaN</td>\n      <td>16.11</td>\n      <td>39.24</td>\n      <td>15.60</td>\n      <td>-16.59</td>\n      <td>1.40</td>\n      <td>78.50</td>\n      <td>-63.05</td>\n      <td>0.27</td>\n    </tr>\n    <tr>\n      <th>4429</th>\n      <td>4430</td>\n      <td>Agro Chemicals</td>\n      <td>Super Crop Safe</td>\n      <td>9.28</td>\n      <td>24.71</td>\n      <td>37.32</td>\n      <td>0.00</td>\n      <td>0.18</td>\n      <td>148.65</td>\n      <td>5.81</td>\n      <td>35.43</td>\n      <td>6.22</td>\n      <td>82.98</td>\n      <td>1.28</td>\n      <td>-0.90</td>\n      <td>1.65</td>\n      <td>54.28</td>\n      <td>99.93</td>\n      <td>1.55</td>\n    </tr>\n    <tr>\n      <th>4430</th>\n      <td>4431</td>\n      <td>Agro Chemicals</td>\n      <td>Bhaskar Agrochem</td>\n      <td>40.50</td>\n      <td>150.72</td>\n      <td>21.10</td>\n      <td>0.00</td>\n      <td>-2.03</td>\n      <td>-4.64</td>\n      <td>7.33</td>\n      <td>36.75</td>\n      <td>12.22</td>\n      <td>-39.60</td>\n      <td>-31.54</td>\n      <td>-15.04</td>\n      <td>1.03</td>\n      <td>36.61</td>\n      <td>-23.49</td>\n      <td>0.37</td>\n    </tr>\n    <tr>\n      <th>4431</th>\n      <td>4432</td>\n      <td>Agro Chemicals</td>\n      <td>Phyto Chem (I)</td>\n      <td>43.00</td>\n      <td>NaN</td>\n      <td>18.49</td>\n      <td>0.00</td>\n      <td>-0.16</td>\n      <td>-108.08</td>\n      <td>7.21</td>\n      <td>-42.18</td>\n      <td>7.55</td>\n      <td>4.88</td>\n      <td>8.79</td>\n      <td>NaN</td>\n      <td>1.32</td>\n      <td>34.67</td>\n      <td>10.71</td>\n      <td>0.89</td>\n    </tr>\n  </tbody>\n</table>\n<p>4432 rows × 19 columns</p>\n</div>"
     },
     "execution_count": 3,
     "metadata": {},
     "output_type": "execute_result"
    }
   ],
   "source": [
    "df"
   ],
   "metadata": {
    "collapsed": false,
    "ExecuteTime": {
     "end_time": "2024-03-01T10:10:27.146760500Z",
     "start_time": "2024-03-01T10:10:27.086262100Z"
    }
   },
   "id": "d1404692fb1f4aa6",
   "execution_count": 3
  },
  {
   "cell_type": "code",
   "outputs": [
    {
     "data": {
      "text/plain": "      S.No.              Name  CMP Rs.     P/E  Mar Cap Rs.Cr.   Div Yld %  \\\n0         1     Adani Enterp.  2251.25   98.52        256642.75       0.05   \n1         2    Mankind Pharma  1801.00   51.05         72145.99       0.00   \n2         3         Redington   151.40    9.56         11834.76       4.79   \n3         4   Aegis Logistics   294.55   20.31         10338.72       1.96   \n4         5              MMTC    54.54   17.96          8181.00       0.00   \n...     ...               ...      ...     ...              ...        ...   \n4427   4428  Crop Life Scienc    40.60   25.03            69.59       0.00   \n4428   4429   Aristo Bio-Tech    85.00   16.26            57.86       0.30   \n4429   4430   Super Crop Safe     9.28   24.71            37.32       0.00   \n4430   4431  Bhaskar Agrochem    40.50  150.72            21.10       0.00   \n4431   4432    Phyto Chem (I)    43.00     NaN            18.49       0.00   \n\n      NP Qtr Rs.Cr.  Qtr Profit Var %  Sales Qtr Rs.Cr.  Qtr Sales Var %  \\\n0            333.34            -40.38          22517.33           -41.02   \n1            472.88             12.53           2453.35             8.67   \n2            311.64            -21.58          22220.15            16.64   \n3            150.01             35.97           1234.86           -42.58   \n4             14.66             80.33            214.47           -85.81   \n...             ...               ...               ...              ...   \n4427            NaN               NaN               NaN              NaN   \n4428           1.00               NaN             88.81              NaN   \n4429           0.18            148.65              5.81            35.43   \n4430          -2.03             -4.64              7.33            36.75   \n4431          -0.16           -108.08              7.21           -42.18   \n\n      ROCE %  6mth return %  3mth return %    PEG  Current ratio  EV Rs.Cr.  \\\n0       9.49          13.17         -10.41   3.60           0.80  306948.71   \n1      20.70          27.66          -2.31   4.29           2.86   71944.25   \n2      24.92         -15.78          -5.85   0.40           1.37   13883.59   \n3      15.90         -24.06         -20.57   1.12           3.86   10953.67   \n4      23.01          75.45          41.42   0.37           1.48    7037.57   \n...      ...            ...            ...    ...            ...        ...   \n4427   10.65            NaN            NaN    NaN           1.47      89.05   \n4428   16.11          39.24          15.60 -16.59           1.40      78.50   \n4429    6.22          82.98           1.28  -0.90           1.65      54.28   \n4430   12.22         -39.60         -31.54 -15.04           1.03      36.61   \n4431    7.55           4.88           8.79    NaN           1.32      34.67   \n\n      CMP / FCF  CMP / Sales  \n0       -116.58         2.42  \n1        332.81         8.43  \n2         37.51         0.14  \n3       -147.89         1.36  \n4          9.99         3.67  \n...         ...          ...  \n4427     216.96         0.74  \n4428     -63.05         0.27  \n4429      99.93         1.55  \n4430     -23.49         0.37  \n4431      10.71         0.89  \n\n[4432 rows x 18 columns]",
      "text/html": "<div>\n<style scoped>\n    .dataframe tbody tr th:only-of-type {\n        vertical-align: middle;\n    }\n\n    .dataframe tbody tr th {\n        vertical-align: top;\n    }\n\n    .dataframe thead th {\n        text-align: right;\n    }\n</style>\n<table border=\"1\" class=\"dataframe\">\n  <thead>\n    <tr style=\"text-align: right;\">\n      <th></th>\n      <th>S.No.</th>\n      <th>Name</th>\n      <th>CMP Rs.</th>\n      <th>P/E</th>\n      <th>Mar Cap Rs.Cr.</th>\n      <th>Div Yld %</th>\n      <th>NP Qtr Rs.Cr.</th>\n      <th>Qtr Profit Var %</th>\n      <th>Sales Qtr Rs.Cr.</th>\n      <th>Qtr Sales Var %</th>\n      <th>ROCE %</th>\n      <th>6mth return %</th>\n      <th>3mth return %</th>\n      <th>PEG</th>\n      <th>Current ratio</th>\n      <th>EV Rs.Cr.</th>\n      <th>CMP / FCF</th>\n      <th>CMP / Sales</th>\n    </tr>\n  </thead>\n  <tbody>\n    <tr>\n      <th>0</th>\n      <td>1</td>\n      <td>Adani Enterp.</td>\n      <td>2251.25</td>\n      <td>98.52</td>\n      <td>256642.75</td>\n      <td>0.05</td>\n      <td>333.34</td>\n      <td>-40.38</td>\n      <td>22517.33</td>\n      <td>-41.02</td>\n      <td>9.49</td>\n      <td>13.17</td>\n      <td>-10.41</td>\n      <td>3.60</td>\n      <td>0.80</td>\n      <td>306948.71</td>\n      <td>-116.58</td>\n      <td>2.42</td>\n    </tr>\n    <tr>\n      <th>1</th>\n      <td>2</td>\n      <td>Mankind Pharma</td>\n      <td>1801.00</td>\n      <td>51.05</td>\n      <td>72145.99</td>\n      <td>0.00</td>\n      <td>472.88</td>\n      <td>12.53</td>\n      <td>2453.35</td>\n      <td>8.67</td>\n      <td>20.70</td>\n      <td>27.66</td>\n      <td>-2.31</td>\n      <td>4.29</td>\n      <td>2.86</td>\n      <td>71944.25</td>\n      <td>332.81</td>\n      <td>8.43</td>\n    </tr>\n    <tr>\n      <th>2</th>\n      <td>3</td>\n      <td>Redington</td>\n      <td>151.40</td>\n      <td>9.56</td>\n      <td>11834.76</td>\n      <td>4.79</td>\n      <td>311.64</td>\n      <td>-21.58</td>\n      <td>22220.15</td>\n      <td>16.64</td>\n      <td>24.92</td>\n      <td>-15.78</td>\n      <td>-5.85</td>\n      <td>0.40</td>\n      <td>1.37</td>\n      <td>13883.59</td>\n      <td>37.51</td>\n      <td>0.14</td>\n    </tr>\n    <tr>\n      <th>3</th>\n      <td>4</td>\n      <td>Aegis Logistics</td>\n      <td>294.55</td>\n      <td>20.31</td>\n      <td>10338.72</td>\n      <td>1.96</td>\n      <td>150.01</td>\n      <td>35.97</td>\n      <td>1234.86</td>\n      <td>-42.58</td>\n      <td>15.90</td>\n      <td>-24.06</td>\n      <td>-20.57</td>\n      <td>1.12</td>\n      <td>3.86</td>\n      <td>10953.67</td>\n      <td>-147.89</td>\n      <td>1.36</td>\n    </tr>\n    <tr>\n      <th>4</th>\n      <td>5</td>\n      <td>MMTC</td>\n      <td>54.54</td>\n      <td>17.96</td>\n      <td>8181.00</td>\n      <td>0.00</td>\n      <td>14.66</td>\n      <td>80.33</td>\n      <td>214.47</td>\n      <td>-85.81</td>\n      <td>23.01</td>\n      <td>75.45</td>\n      <td>41.42</td>\n      <td>0.37</td>\n      <td>1.48</td>\n      <td>7037.57</td>\n      <td>9.99</td>\n      <td>3.67</td>\n    </tr>\n    <tr>\n      <th>...</th>\n      <td>...</td>\n      <td>...</td>\n      <td>...</td>\n      <td>...</td>\n      <td>...</td>\n      <td>...</td>\n      <td>...</td>\n      <td>...</td>\n      <td>...</td>\n      <td>...</td>\n      <td>...</td>\n      <td>...</td>\n      <td>...</td>\n      <td>...</td>\n      <td>...</td>\n      <td>...</td>\n      <td>...</td>\n      <td>...</td>\n    </tr>\n    <tr>\n      <th>4427</th>\n      <td>4428</td>\n      <td>Crop Life Scienc</td>\n      <td>40.60</td>\n      <td>25.03</td>\n      <td>69.59</td>\n      <td>0.00</td>\n      <td>NaN</td>\n      <td>NaN</td>\n      <td>NaN</td>\n      <td>NaN</td>\n      <td>10.65</td>\n      <td>NaN</td>\n      <td>NaN</td>\n      <td>NaN</td>\n      <td>1.47</td>\n      <td>89.05</td>\n      <td>216.96</td>\n      <td>0.74</td>\n    </tr>\n    <tr>\n      <th>4428</th>\n      <td>4429</td>\n      <td>Aristo Bio-Tech</td>\n      <td>85.00</td>\n      <td>16.26</td>\n      <td>57.86</td>\n      <td>0.30</td>\n      <td>1.00</td>\n      <td>NaN</td>\n      <td>88.81</td>\n      <td>NaN</td>\n      <td>16.11</td>\n      <td>39.24</td>\n      <td>15.60</td>\n      <td>-16.59</td>\n      <td>1.40</td>\n      <td>78.50</td>\n      <td>-63.05</td>\n      <td>0.27</td>\n    </tr>\n    <tr>\n      <th>4429</th>\n      <td>4430</td>\n      <td>Super Crop Safe</td>\n      <td>9.28</td>\n      <td>24.71</td>\n      <td>37.32</td>\n      <td>0.00</td>\n      <td>0.18</td>\n      <td>148.65</td>\n      <td>5.81</td>\n      <td>35.43</td>\n      <td>6.22</td>\n      <td>82.98</td>\n      <td>1.28</td>\n      <td>-0.90</td>\n      <td>1.65</td>\n      <td>54.28</td>\n      <td>99.93</td>\n      <td>1.55</td>\n    </tr>\n    <tr>\n      <th>4430</th>\n      <td>4431</td>\n      <td>Bhaskar Agrochem</td>\n      <td>40.50</td>\n      <td>150.72</td>\n      <td>21.10</td>\n      <td>0.00</td>\n      <td>-2.03</td>\n      <td>-4.64</td>\n      <td>7.33</td>\n      <td>36.75</td>\n      <td>12.22</td>\n      <td>-39.60</td>\n      <td>-31.54</td>\n      <td>-15.04</td>\n      <td>1.03</td>\n      <td>36.61</td>\n      <td>-23.49</td>\n      <td>0.37</td>\n    </tr>\n    <tr>\n      <th>4431</th>\n      <td>4432</td>\n      <td>Phyto Chem (I)</td>\n      <td>43.00</td>\n      <td>NaN</td>\n      <td>18.49</td>\n      <td>0.00</td>\n      <td>-0.16</td>\n      <td>-108.08</td>\n      <td>7.21</td>\n      <td>-42.18</td>\n      <td>7.55</td>\n      <td>4.88</td>\n      <td>8.79</td>\n      <td>NaN</td>\n      <td>1.32</td>\n      <td>34.67</td>\n      <td>10.71</td>\n      <td>0.89</td>\n    </tr>\n  </tbody>\n</table>\n<p>4432 rows × 18 columns</p>\n</div>"
     },
     "execution_count": 4,
     "metadata": {},
     "output_type": "execute_result"
    }
   ],
   "source": [
    "# Dropping SECTOR column\n",
    "df = df.drop(['SECTOR'], axis=1)\n",
    "df"
   ],
   "metadata": {
    "collapsed": false,
    "ExecuteTime": {
     "end_time": "2024-03-01T10:10:32.693759400Z",
     "start_time": "2024-03-01T10:10:32.662248500Z"
    }
   },
   "id": "9bac5cacd7160252",
   "execution_count": 4
  },
  {
   "cell_type": "code",
   "outputs": [
    {
     "data": {
      "text/plain": "S.No.                  0\nName                   0\nCMP Rs.                0\nP/E                 1191\nMar Cap Rs.Cr.         0\nDiv Yld %             20\nNP Qtr Rs.Cr.         81\nQtr Profit Var %     512\nSales Qtr Rs.Cr.      81\nQtr Sales Var %      853\nROCE %               161\n6mth return %        191\n3mth return %        120\nPEG                 1772\nCurrent ratio         27\nEV Rs.Cr.              9\nCMP / FCF            157\nCMP / Sales          286\ndtype: int64"
     },
     "execution_count": 5,
     "metadata": {},
     "output_type": "execute_result"
    }
   ],
   "source": [
    "# Viewing null columns\n",
    "df.isnull().sum()"
   ],
   "metadata": {
    "collapsed": false,
    "ExecuteTime": {
     "end_time": "2024-03-01T10:10:35.466712700Z",
     "start_time": "2024-03-01T10:10:35.451712500Z"
    }
   },
   "id": "9b86539d606cda",
   "execution_count": 5
  },
  {
   "cell_type": "code",
   "outputs": [],
   "source": [
    "# Inserting mean values to each  null cells\n",
    "df['P/E'] = df['P/E'].fillna(df['P/E'].mean())\n",
    "df['Div Yld\\xa0%'] = df['Div Yld\\xa0%'].fillna(df['Div Yld\\xa0%'].mean())\n",
    "df['NP Qtr\\xa0Rs.Cr.'] = df['NP Qtr\\xa0Rs.Cr.'].fillna(df['NP Qtr\\xa0Rs.Cr.'].mean())\n",
    "df['Qtr Profit Var\\xa0%'] = df['Qtr Profit Var\\xa0%'].fillna(df['Qtr Profit Var\\xa0%'].mean())\n",
    "df['Sales Qtr\\xa0Rs.Cr.'] = df['Sales Qtr\\xa0Rs.Cr.'].fillna(df['Sales Qtr\\xa0Rs.Cr.'].mean())\n",
    "df['Qtr Sales Var\\xa0%'] = df['Qtr Sales Var\\xa0%'].fillna(df['Qtr Sales Var\\xa0%'].mean())"
   ],
   "metadata": {
    "collapsed": false,
    "ExecuteTime": {
     "end_time": "2024-03-01T10:10:48.444522900Z",
     "start_time": "2024-03-01T10:10:48.420002200Z"
    }
   },
   "id": "5e0d5b8c04143823",
   "execution_count": 6
  },
  {
   "cell_type": "code",
   "outputs": [
    {
     "data": {
      "text/plain": "      S.No.              Name  CMP Rs.         P/E  Mar Cap Rs.Cr.   \\\n0         1     Adani Enterp.  2251.25   98.520000        256642.75   \n1         2    Mankind Pharma  1801.00   51.050000         72145.99   \n2         3         Redington   151.40    9.560000         11834.76   \n3         4   Aegis Logistics   294.55   20.310000         10338.72   \n4         5              MMTC    54.54   17.960000          8181.00   \n...     ...               ...      ...         ...              ...   \n4427   4428  Crop Life Scienc    40.60   25.030000            69.59   \n4428   4429   Aristo Bio-Tech    85.00   16.260000            57.86   \n4429   4430   Super Crop Safe     9.28   24.710000            37.32   \n4430   4431  Bhaskar Agrochem    40.50  150.720000            21.10   \n4431   4432    Phyto Chem (I)    43.00   84.714391            18.49   \n\n      Div Yld %  NP Qtr Rs.Cr.  Qtr Profit Var %  Sales Qtr Rs.Cr.  \\\n0          0.05     333.340000        -40.380000      22517.330000   \n1          0.00     472.880000         12.530000       2453.350000   \n2          4.79     311.640000        -21.580000      22220.150000   \n3          1.96     150.010000         35.970000       1234.860000   \n4          0.00      14.660000         80.330000        214.470000   \n...         ...            ...               ...               ...   \n4427       0.00      86.080246        218.801107        972.092868   \n4428       0.30       1.000000        218.801107         88.810000   \n4429       0.00       0.180000        148.650000          5.810000   \n4430       0.00      -2.030000         -4.640000          7.330000   \n4431       0.00      -0.160000       -108.080000          7.210000   \n\n      Qtr Sales Var %  ROCE %  6mth return %  3mth return %    PEG  \\\n0          -41.020000    9.49          13.17         -10.41   3.60   \n1            8.670000   20.70          27.66          -2.31   4.29   \n2           16.640000   24.92         -15.78          -5.85   0.40   \n3          -42.580000   15.90         -24.06         -20.57   1.12   \n4          -85.810000   23.01          75.45          41.42   0.37   \n...               ...     ...            ...            ...    ...   \n4427       260.598919   10.65            NaN            NaN    NaN   \n4428       260.598919   16.11          39.24          15.60 -16.59   \n4429        35.430000    6.22          82.98           1.28  -0.90   \n4430        36.750000   12.22         -39.60         -31.54 -15.04   \n4431       -42.180000    7.55           4.88           8.79    NaN   \n\n      Current ratio  EV Rs.Cr.  CMP / FCF  CMP / Sales  \n0              0.80  306948.71    -116.58         2.42  \n1              2.86   71944.25     332.81         8.43  \n2              1.37   13883.59      37.51         0.14  \n3              3.86   10953.67    -147.89         1.36  \n4              1.48    7037.57       9.99         3.67  \n...             ...        ...        ...          ...  \n4427           1.47      89.05     216.96         0.74  \n4428           1.40      78.50     -63.05         0.27  \n4429           1.65      54.28      99.93         1.55  \n4430           1.03      36.61     -23.49         0.37  \n4431           1.32      34.67      10.71         0.89  \n\n[4432 rows x 18 columns]",
      "text/html": "<div>\n<style scoped>\n    .dataframe tbody tr th:only-of-type {\n        vertical-align: middle;\n    }\n\n    .dataframe tbody tr th {\n        vertical-align: top;\n    }\n\n    .dataframe thead th {\n        text-align: right;\n    }\n</style>\n<table border=\"1\" class=\"dataframe\">\n  <thead>\n    <tr style=\"text-align: right;\">\n      <th></th>\n      <th>S.No.</th>\n      <th>Name</th>\n      <th>CMP Rs.</th>\n      <th>P/E</th>\n      <th>Mar Cap Rs.Cr.</th>\n      <th>Div Yld %</th>\n      <th>NP Qtr Rs.Cr.</th>\n      <th>Qtr Profit Var %</th>\n      <th>Sales Qtr Rs.Cr.</th>\n      <th>Qtr Sales Var %</th>\n      <th>ROCE %</th>\n      <th>6mth return %</th>\n      <th>3mth return %</th>\n      <th>PEG</th>\n      <th>Current ratio</th>\n      <th>EV Rs.Cr.</th>\n      <th>CMP / FCF</th>\n      <th>CMP / Sales</th>\n    </tr>\n  </thead>\n  <tbody>\n    <tr>\n      <th>0</th>\n      <td>1</td>\n      <td>Adani Enterp.</td>\n      <td>2251.25</td>\n      <td>98.520000</td>\n      <td>256642.75</td>\n      <td>0.05</td>\n      <td>333.340000</td>\n      <td>-40.380000</td>\n      <td>22517.330000</td>\n      <td>-41.020000</td>\n      <td>9.49</td>\n      <td>13.17</td>\n      <td>-10.41</td>\n      <td>3.60</td>\n      <td>0.80</td>\n      <td>306948.71</td>\n      <td>-116.58</td>\n      <td>2.42</td>\n    </tr>\n    <tr>\n      <th>1</th>\n      <td>2</td>\n      <td>Mankind Pharma</td>\n      <td>1801.00</td>\n      <td>51.050000</td>\n      <td>72145.99</td>\n      <td>0.00</td>\n      <td>472.880000</td>\n      <td>12.530000</td>\n      <td>2453.350000</td>\n      <td>8.670000</td>\n      <td>20.70</td>\n      <td>27.66</td>\n      <td>-2.31</td>\n      <td>4.29</td>\n      <td>2.86</td>\n      <td>71944.25</td>\n      <td>332.81</td>\n      <td>8.43</td>\n    </tr>\n    <tr>\n      <th>2</th>\n      <td>3</td>\n      <td>Redington</td>\n      <td>151.40</td>\n      <td>9.560000</td>\n      <td>11834.76</td>\n      <td>4.79</td>\n      <td>311.640000</td>\n      <td>-21.580000</td>\n      <td>22220.150000</td>\n      <td>16.640000</td>\n      <td>24.92</td>\n      <td>-15.78</td>\n      <td>-5.85</td>\n      <td>0.40</td>\n      <td>1.37</td>\n      <td>13883.59</td>\n      <td>37.51</td>\n      <td>0.14</td>\n    </tr>\n    <tr>\n      <th>3</th>\n      <td>4</td>\n      <td>Aegis Logistics</td>\n      <td>294.55</td>\n      <td>20.310000</td>\n      <td>10338.72</td>\n      <td>1.96</td>\n      <td>150.010000</td>\n      <td>35.970000</td>\n      <td>1234.860000</td>\n      <td>-42.580000</td>\n      <td>15.90</td>\n      <td>-24.06</td>\n      <td>-20.57</td>\n      <td>1.12</td>\n      <td>3.86</td>\n      <td>10953.67</td>\n      <td>-147.89</td>\n      <td>1.36</td>\n    </tr>\n    <tr>\n      <th>4</th>\n      <td>5</td>\n      <td>MMTC</td>\n      <td>54.54</td>\n      <td>17.960000</td>\n      <td>8181.00</td>\n      <td>0.00</td>\n      <td>14.660000</td>\n      <td>80.330000</td>\n      <td>214.470000</td>\n      <td>-85.810000</td>\n      <td>23.01</td>\n      <td>75.45</td>\n      <td>41.42</td>\n      <td>0.37</td>\n      <td>1.48</td>\n      <td>7037.57</td>\n      <td>9.99</td>\n      <td>3.67</td>\n    </tr>\n    <tr>\n      <th>...</th>\n      <td>...</td>\n      <td>...</td>\n      <td>...</td>\n      <td>...</td>\n      <td>...</td>\n      <td>...</td>\n      <td>...</td>\n      <td>...</td>\n      <td>...</td>\n      <td>...</td>\n      <td>...</td>\n      <td>...</td>\n      <td>...</td>\n      <td>...</td>\n      <td>...</td>\n      <td>...</td>\n      <td>...</td>\n      <td>...</td>\n    </tr>\n    <tr>\n      <th>4427</th>\n      <td>4428</td>\n      <td>Crop Life Scienc</td>\n      <td>40.60</td>\n      <td>25.030000</td>\n      <td>69.59</td>\n      <td>0.00</td>\n      <td>86.080246</td>\n      <td>218.801107</td>\n      <td>972.092868</td>\n      <td>260.598919</td>\n      <td>10.65</td>\n      <td>NaN</td>\n      <td>NaN</td>\n      <td>NaN</td>\n      <td>1.47</td>\n      <td>89.05</td>\n      <td>216.96</td>\n      <td>0.74</td>\n    </tr>\n    <tr>\n      <th>4428</th>\n      <td>4429</td>\n      <td>Aristo Bio-Tech</td>\n      <td>85.00</td>\n      <td>16.260000</td>\n      <td>57.86</td>\n      <td>0.30</td>\n      <td>1.000000</td>\n      <td>218.801107</td>\n      <td>88.810000</td>\n      <td>260.598919</td>\n      <td>16.11</td>\n      <td>39.24</td>\n      <td>15.60</td>\n      <td>-16.59</td>\n      <td>1.40</td>\n      <td>78.50</td>\n      <td>-63.05</td>\n      <td>0.27</td>\n    </tr>\n    <tr>\n      <th>4429</th>\n      <td>4430</td>\n      <td>Super Crop Safe</td>\n      <td>9.28</td>\n      <td>24.710000</td>\n      <td>37.32</td>\n      <td>0.00</td>\n      <td>0.180000</td>\n      <td>148.650000</td>\n      <td>5.810000</td>\n      <td>35.430000</td>\n      <td>6.22</td>\n      <td>82.98</td>\n      <td>1.28</td>\n      <td>-0.90</td>\n      <td>1.65</td>\n      <td>54.28</td>\n      <td>99.93</td>\n      <td>1.55</td>\n    </tr>\n    <tr>\n      <th>4430</th>\n      <td>4431</td>\n      <td>Bhaskar Agrochem</td>\n      <td>40.50</td>\n      <td>150.720000</td>\n      <td>21.10</td>\n      <td>0.00</td>\n      <td>-2.030000</td>\n      <td>-4.640000</td>\n      <td>7.330000</td>\n      <td>36.750000</td>\n      <td>12.22</td>\n      <td>-39.60</td>\n      <td>-31.54</td>\n      <td>-15.04</td>\n      <td>1.03</td>\n      <td>36.61</td>\n      <td>-23.49</td>\n      <td>0.37</td>\n    </tr>\n    <tr>\n      <th>4431</th>\n      <td>4432</td>\n      <td>Phyto Chem (I)</td>\n      <td>43.00</td>\n      <td>84.714391</td>\n      <td>18.49</td>\n      <td>0.00</td>\n      <td>-0.160000</td>\n      <td>-108.080000</td>\n      <td>7.210000</td>\n      <td>-42.180000</td>\n      <td>7.55</td>\n      <td>4.88</td>\n      <td>8.79</td>\n      <td>NaN</td>\n      <td>1.32</td>\n      <td>34.67</td>\n      <td>10.71</td>\n      <td>0.89</td>\n    </tr>\n  </tbody>\n</table>\n<p>4432 rows × 18 columns</p>\n</div>"
     },
     "execution_count": 7,
     "metadata": {},
     "output_type": "execute_result"
    }
   ],
   "source": [
    "df"
   ],
   "metadata": {
    "collapsed": false,
    "ExecuteTime": {
     "end_time": "2024-03-01T10:10:51.633059400Z",
     "start_time": "2024-03-01T10:10:51.595152900Z"
    }
   },
   "id": "3289d71edf4182f0",
   "execution_count": 7
  },
  {
   "cell_type": "code",
   "outputs": [
    {
     "data": {
      "text/plain": "S.No.                  0\nName                   0\nCMP Rs.                0\nP/E                    0\nMar Cap Rs.Cr.         0\nDiv Yld %              0\nNP Qtr Rs.Cr.          0\nQtr Profit Var %       0\nSales Qtr Rs.Cr.       0\nQtr Sales Var %        0\nROCE %               161\n6mth return %        191\n3mth return %        120\nPEG                 1772\nCurrent ratio         27\nEV Rs.Cr.              9\nCMP / FCF            157\nCMP / Sales          286\ndtype: int64"
     },
     "execution_count": 8,
     "metadata": {},
     "output_type": "execute_result"
    }
   ],
   "source": [
    "# Now again viewing null columns\n",
    "df.isnull().sum()"
   ],
   "metadata": {
    "collapsed": false,
    "ExecuteTime": {
     "end_time": "2024-03-01T10:10:55.331369100Z",
     "start_time": "2024-03-01T10:10:55.291069500Z"
    }
   },
   "id": "16713067071a5c54",
   "execution_count": 8
  },
  {
   "cell_type": "code",
   "outputs": [
    {
     "data": {
      "text/plain": "(4432, 18)"
     },
     "execution_count": 9,
     "metadata": {},
     "output_type": "execute_result"
    }
   ],
   "source": [
    "# Viewing shape\n",
    "df.shape"
   ],
   "metadata": {
    "collapsed": false,
    "ExecuteTime": {
     "end_time": "2024-03-01T10:10:59.231882200Z",
     "start_time": "2024-03-01T10:10:59.221696700Z"
    }
   },
   "id": "177d778ce6785d14",
   "execution_count": 9
  },
  {
   "cell_type": "code",
   "outputs": [
    {
     "data": {
      "text/plain": "      S.No.              Name         P/E  Mar Cap Rs.Cr.   Div Yld %  \\\n0         1     Adani Enterp.   98.520000        256642.75       0.05   \n1         2    Mankind Pharma   51.050000         72145.99       0.00   \n2         3         Redington    9.560000         11834.76       4.79   \n3         4   Aegis Logistics   20.310000         10338.72       1.96   \n4         5              MMTC   17.960000          8181.00       0.00   \n...     ...               ...         ...              ...        ...   \n4427   4428  Crop Life Scienc   25.030000            69.59       0.00   \n4428   4429   Aristo Bio-Tech   16.260000            57.86       0.30   \n4429   4430   Super Crop Safe   24.710000            37.32       0.00   \n4430   4431  Bhaskar Agrochem  150.720000            21.10       0.00   \n4431   4432    Phyto Chem (I)   84.714391            18.49       0.00   \n\n      NP Qtr Rs.Cr.  Qtr Profit Var %  Sales Qtr Rs.Cr.  Qtr Sales Var %  \\\n0        333.340000        -40.380000      22517.330000       -41.020000   \n1        472.880000         12.530000       2453.350000         8.670000   \n2        311.640000        -21.580000      22220.150000        16.640000   \n3        150.010000         35.970000       1234.860000       -42.580000   \n4         14.660000         80.330000        214.470000       -85.810000   \n...             ...               ...               ...              ...   \n4427      86.080246        218.801107        972.092868       260.598919   \n4428       1.000000        218.801107         88.810000       260.598919   \n4429       0.180000        148.650000          5.810000        35.430000   \n4430      -2.030000         -4.640000          7.330000        36.750000   \n4431      -0.160000       -108.080000          7.210000       -42.180000   \n\n      ROCE %  6mth return %  3mth return %    PEG  Current ratio  EV Rs.Cr.  \\\n0       9.49          13.17         -10.41   3.60           0.80  306948.71   \n1      20.70          27.66          -2.31   4.29           2.86   71944.25   \n2      24.92         -15.78          -5.85   0.40           1.37   13883.59   \n3      15.90         -24.06         -20.57   1.12           3.86   10953.67   \n4      23.01          75.45          41.42   0.37           1.48    7037.57   \n...      ...            ...            ...    ...            ...        ...   \n4427   10.65            NaN            NaN    NaN           1.47      89.05   \n4428   16.11          39.24          15.60 -16.59           1.40      78.50   \n4429    6.22          82.98           1.28  -0.90           1.65      54.28   \n4430   12.22         -39.60         -31.54 -15.04           1.03      36.61   \n4431    7.55           4.88           8.79    NaN           1.32      34.67   \n\n      CMP / FCF  CMP / Sales  \n0       -116.58         2.42  \n1        332.81         8.43  \n2         37.51         0.14  \n3       -147.89         1.36  \n4          9.99         3.67  \n...         ...          ...  \n4427     216.96         0.74  \n4428     -63.05         0.27  \n4429      99.93         1.55  \n4430     -23.49         0.37  \n4431      10.71         0.89  \n\n[4432 rows x 17 columns]",
      "text/html": "<div>\n<style scoped>\n    .dataframe tbody tr th:only-of-type {\n        vertical-align: middle;\n    }\n\n    .dataframe tbody tr th {\n        vertical-align: top;\n    }\n\n    .dataframe thead th {\n        text-align: right;\n    }\n</style>\n<table border=\"1\" class=\"dataframe\">\n  <thead>\n    <tr style=\"text-align: right;\">\n      <th></th>\n      <th>S.No.</th>\n      <th>Name</th>\n      <th>P/E</th>\n      <th>Mar Cap Rs.Cr.</th>\n      <th>Div Yld %</th>\n      <th>NP Qtr Rs.Cr.</th>\n      <th>Qtr Profit Var %</th>\n      <th>Sales Qtr Rs.Cr.</th>\n      <th>Qtr Sales Var %</th>\n      <th>ROCE %</th>\n      <th>6mth return %</th>\n      <th>3mth return %</th>\n      <th>PEG</th>\n      <th>Current ratio</th>\n      <th>EV Rs.Cr.</th>\n      <th>CMP / FCF</th>\n      <th>CMP / Sales</th>\n    </tr>\n  </thead>\n  <tbody>\n    <tr>\n      <th>0</th>\n      <td>1</td>\n      <td>Adani Enterp.</td>\n      <td>98.520000</td>\n      <td>256642.75</td>\n      <td>0.05</td>\n      <td>333.340000</td>\n      <td>-40.380000</td>\n      <td>22517.330000</td>\n      <td>-41.020000</td>\n      <td>9.49</td>\n      <td>13.17</td>\n      <td>-10.41</td>\n      <td>3.60</td>\n      <td>0.80</td>\n      <td>306948.71</td>\n      <td>-116.58</td>\n      <td>2.42</td>\n    </tr>\n    <tr>\n      <th>1</th>\n      <td>2</td>\n      <td>Mankind Pharma</td>\n      <td>51.050000</td>\n      <td>72145.99</td>\n      <td>0.00</td>\n      <td>472.880000</td>\n      <td>12.530000</td>\n      <td>2453.350000</td>\n      <td>8.670000</td>\n      <td>20.70</td>\n      <td>27.66</td>\n      <td>-2.31</td>\n      <td>4.29</td>\n      <td>2.86</td>\n      <td>71944.25</td>\n      <td>332.81</td>\n      <td>8.43</td>\n    </tr>\n    <tr>\n      <th>2</th>\n      <td>3</td>\n      <td>Redington</td>\n      <td>9.560000</td>\n      <td>11834.76</td>\n      <td>4.79</td>\n      <td>311.640000</td>\n      <td>-21.580000</td>\n      <td>22220.150000</td>\n      <td>16.640000</td>\n      <td>24.92</td>\n      <td>-15.78</td>\n      <td>-5.85</td>\n      <td>0.40</td>\n      <td>1.37</td>\n      <td>13883.59</td>\n      <td>37.51</td>\n      <td>0.14</td>\n    </tr>\n    <tr>\n      <th>3</th>\n      <td>4</td>\n      <td>Aegis Logistics</td>\n      <td>20.310000</td>\n      <td>10338.72</td>\n      <td>1.96</td>\n      <td>150.010000</td>\n      <td>35.970000</td>\n      <td>1234.860000</td>\n      <td>-42.580000</td>\n      <td>15.90</td>\n      <td>-24.06</td>\n      <td>-20.57</td>\n      <td>1.12</td>\n      <td>3.86</td>\n      <td>10953.67</td>\n      <td>-147.89</td>\n      <td>1.36</td>\n    </tr>\n    <tr>\n      <th>4</th>\n      <td>5</td>\n      <td>MMTC</td>\n      <td>17.960000</td>\n      <td>8181.00</td>\n      <td>0.00</td>\n      <td>14.660000</td>\n      <td>80.330000</td>\n      <td>214.470000</td>\n      <td>-85.810000</td>\n      <td>23.01</td>\n      <td>75.45</td>\n      <td>41.42</td>\n      <td>0.37</td>\n      <td>1.48</td>\n      <td>7037.57</td>\n      <td>9.99</td>\n      <td>3.67</td>\n    </tr>\n    <tr>\n      <th>...</th>\n      <td>...</td>\n      <td>...</td>\n      <td>...</td>\n      <td>...</td>\n      <td>...</td>\n      <td>...</td>\n      <td>...</td>\n      <td>...</td>\n      <td>...</td>\n      <td>...</td>\n      <td>...</td>\n      <td>...</td>\n      <td>...</td>\n      <td>...</td>\n      <td>...</td>\n      <td>...</td>\n      <td>...</td>\n    </tr>\n    <tr>\n      <th>4427</th>\n      <td>4428</td>\n      <td>Crop Life Scienc</td>\n      <td>25.030000</td>\n      <td>69.59</td>\n      <td>0.00</td>\n      <td>86.080246</td>\n      <td>218.801107</td>\n      <td>972.092868</td>\n      <td>260.598919</td>\n      <td>10.65</td>\n      <td>NaN</td>\n      <td>NaN</td>\n      <td>NaN</td>\n      <td>1.47</td>\n      <td>89.05</td>\n      <td>216.96</td>\n      <td>0.74</td>\n    </tr>\n    <tr>\n      <th>4428</th>\n      <td>4429</td>\n      <td>Aristo Bio-Tech</td>\n      <td>16.260000</td>\n      <td>57.86</td>\n      <td>0.30</td>\n      <td>1.000000</td>\n      <td>218.801107</td>\n      <td>88.810000</td>\n      <td>260.598919</td>\n      <td>16.11</td>\n      <td>39.24</td>\n      <td>15.60</td>\n      <td>-16.59</td>\n      <td>1.40</td>\n      <td>78.50</td>\n      <td>-63.05</td>\n      <td>0.27</td>\n    </tr>\n    <tr>\n      <th>4429</th>\n      <td>4430</td>\n      <td>Super Crop Safe</td>\n      <td>24.710000</td>\n      <td>37.32</td>\n      <td>0.00</td>\n      <td>0.180000</td>\n      <td>148.650000</td>\n      <td>5.810000</td>\n      <td>35.430000</td>\n      <td>6.22</td>\n      <td>82.98</td>\n      <td>1.28</td>\n      <td>-0.90</td>\n      <td>1.65</td>\n      <td>54.28</td>\n      <td>99.93</td>\n      <td>1.55</td>\n    </tr>\n    <tr>\n      <th>4430</th>\n      <td>4431</td>\n      <td>Bhaskar Agrochem</td>\n      <td>150.720000</td>\n      <td>21.10</td>\n      <td>0.00</td>\n      <td>-2.030000</td>\n      <td>-4.640000</td>\n      <td>7.330000</td>\n      <td>36.750000</td>\n      <td>12.22</td>\n      <td>-39.60</td>\n      <td>-31.54</td>\n      <td>-15.04</td>\n      <td>1.03</td>\n      <td>36.61</td>\n      <td>-23.49</td>\n      <td>0.37</td>\n    </tr>\n    <tr>\n      <th>4431</th>\n      <td>4432</td>\n      <td>Phyto Chem (I)</td>\n      <td>84.714391</td>\n      <td>18.49</td>\n      <td>0.00</td>\n      <td>-0.160000</td>\n      <td>-108.080000</td>\n      <td>7.210000</td>\n      <td>-42.180000</td>\n      <td>7.55</td>\n      <td>4.88</td>\n      <td>8.79</td>\n      <td>NaN</td>\n      <td>1.32</td>\n      <td>34.67</td>\n      <td>10.71</td>\n      <td>0.89</td>\n    </tr>\n  </tbody>\n</table>\n<p>4432 rows × 17 columns</p>\n</div>"
     },
     "execution_count": 11,
     "metadata": {},
     "output_type": "execute_result"
    }
   ],
   "source": [
    "# Dividing into independent and dependent features\n",
    "X = df.drop('CMP\\xa0Rs.', axis=1)\n",
    "X"
   ],
   "metadata": {
    "collapsed": false,
    "ExecuteTime": {
     "end_time": "2024-03-01T10:11:12.991485200Z",
     "start_time": "2024-03-01T10:11:12.960724400Z"
    }
   },
   "id": "d843acfcf3cbbcf5",
   "execution_count": 11
  },
  {
   "cell_type": "code",
   "outputs": [
    {
     "data": {
      "text/plain": "0       2251.25\n1       1801.00\n2        151.40\n3        294.55\n4         54.54\n         ...   \n4427      40.60\n4428      85.00\n4429       9.28\n4430      40.50\n4431      43.00\nName: CMP Rs., Length: 4432, dtype: float64"
     },
     "execution_count": 12,
     "metadata": {},
     "output_type": "execute_result"
    }
   ],
   "source": [
    "Y = df['CMP\\xa0Rs.']\n",
    "Y"
   ],
   "metadata": {
    "collapsed": false,
    "ExecuteTime": {
     "end_time": "2024-03-01T10:11:16.084022900Z",
     "start_time": "2024-03-01T10:11:16.068736900Z"
    }
   },
   "id": "cf02967b26b33f87",
   "execution_count": 12
  },
  {
   "cell_type": "code",
   "outputs": [
    {
     "data": {
      "text/plain": "(4432, 17)"
     },
     "execution_count": 13,
     "metadata": {},
     "output_type": "execute_result"
    }
   ],
   "source": [
    "# Viewing shape\n",
    "X.shape"
   ],
   "metadata": {
    "collapsed": false,
    "ExecuteTime": {
     "end_time": "2024-03-01T10:11:19.868286Z",
     "start_time": "2024-03-01T10:11:19.833022Z"
    }
   },
   "id": "51843eafb21de8",
   "execution_count": 13
  },
  {
   "cell_type": "code",
   "outputs": [
    {
     "data": {
      "text/plain": "(4432,)"
     },
     "execution_count": 14,
     "metadata": {},
     "output_type": "execute_result"
    }
   ],
   "source": [
    "Y.shape"
   ],
   "metadata": {
    "collapsed": false,
    "ExecuteTime": {
     "end_time": "2024-03-01T10:11:21.687121300Z",
     "start_time": "2024-03-01T10:11:21.676879700Z"
    }
   },
   "id": "79e422c58f323c46",
   "execution_count": 14
  },
  {
   "cell_type": "code",
   "outputs": [
    {
     "name": "stdout",
     "output_type": "stream",
     "text": [
      "WARNING:tensorflow:From D:\\Machine_Learning\\Stock-Predication-of-2023\\.venv\\lib\\site-packages\\keras\\src\\losses.py:2976: The name tf.losses.sparse_softmax_cross_entropy is deprecated. Please use tf.compat.v1.losses.sparse_softmax_cross_entropy instead.\n",
      "2.15.0\n"
     ]
    }
   ],
   "source": [
    "# Importing Tensorflow Library\n",
    "import tensorflow as tf\n",
    "\n",
    "print(tf.__version__)"
   ],
   "metadata": {
    "collapsed": false,
    "ExecuteTime": {
     "end_time": "2024-03-01T10:11:27.098711200Z",
     "start_time": "2024-03-01T10:11:23.546251900Z"
    }
   },
   "id": "2842aae2de88814a",
   "execution_count": 15
  },
  {
   "cell_type": "code",
   "outputs": [],
   "source": [
    "# RNN and tensorflow part starts\n",
    "from tensorflow.keras.layers import Embedding\n",
    "from tensorflow.keras.preprocessing.text import one_hot\n",
    "from tensorflow.keras.preprocessing.sequence import pad_sequences\n",
    "from tensorflow.keras.models import Sequential\n",
    "from tensorflow.keras.layers import RNN\n",
    "from tensorflow.keras.layers import Dense\n",
    "from tensorflow.keras.layers import Dropout"
   ],
   "metadata": {
    "collapsed": false,
    "ExecuteTime": {
     "end_time": "2024-03-01T10:11:34.096607800Z",
     "start_time": "2024-03-01T10:11:34.035990900Z"
    }
   },
   "id": "fc324eee550544a4",
   "execution_count": 16
  },
  {
   "cell_type": "code",
   "outputs": [],
   "source": [
    "# portfolio\n",
    "portfolio = X.copy()"
   ],
   "metadata": {
    "collapsed": false,
    "ExecuteTime": {
     "end_time": "2024-03-01T10:11:35.954498200Z",
     "start_time": "2024-03-01T10:11:35.925497500Z"
    }
   },
   "id": "81bc9b803833f5ea",
   "execution_count": 17
  },
  {
   "cell_type": "code",
   "outputs": [
    {
     "data": {
      "text/plain": "('Adani Enterp.', 'Mankind Pharma', 'Redington', 2251.25, 1801.0, 151.4)"
     },
     "execution_count": 20,
     "metadata": {},
     "output_type": "execute_result"
    }
   ],
   "source": [
    "portfolio['Name'][0], portfolio['Name'][1], portfolio['Name'][2], Y[0], Y[1], Y[2]"
   ],
   "metadata": {
    "collapsed": false,
    "ExecuteTime": {
     "end_time": "2024-03-01T10:11:54.607505Z",
     "start_time": "2024-03-01T10:11:54.588626800Z"
    }
   },
   "id": "3845a73a3c0f83df",
   "execution_count": 20
  },
  {
   "cell_type": "code",
   "outputs": [
    {
     "data": {
      "text/plain": "      S.No.              Name         P/E  Mar Cap Rs.Cr.   Div Yld %  \\\n0         1     Adani Enterp.   98.520000        256642.75       0.05   \n1         2    Mankind Pharma   51.050000         72145.99       0.00   \n2         3         Redington    9.560000         11834.76       4.79   \n3         4   Aegis Logistics   20.310000         10338.72       1.96   \n4         5              MMTC   17.960000          8181.00       0.00   \n...     ...               ...         ...              ...        ...   \n4427   4428  Crop Life Scienc   25.030000            69.59       0.00   \n4428   4429   Aristo Bio-Tech   16.260000            57.86       0.30   \n4429   4430   Super Crop Safe   24.710000            37.32       0.00   \n4430   4431  Bhaskar Agrochem  150.720000            21.10       0.00   \n4431   4432    Phyto Chem (I)   84.714391            18.49       0.00   \n\n      NP Qtr Rs.Cr.  Qtr Profit Var %  Sales Qtr Rs.Cr.  Qtr Sales Var %  \\\n0        333.340000        -40.380000      22517.330000       -41.020000   \n1        472.880000         12.530000       2453.350000         8.670000   \n2        311.640000        -21.580000      22220.150000        16.640000   \n3        150.010000         35.970000       1234.860000       -42.580000   \n4         14.660000         80.330000        214.470000       -85.810000   \n...             ...               ...               ...              ...   \n4427      86.080246        218.801107        972.092868       260.598919   \n4428       1.000000        218.801107         88.810000       260.598919   \n4429       0.180000        148.650000          5.810000        35.430000   \n4430      -2.030000         -4.640000          7.330000        36.750000   \n4431      -0.160000       -108.080000          7.210000       -42.180000   \n\n      ROCE %  6mth return %  3mth return %    PEG  Current ratio  EV Rs.Cr.  \\\n0       9.49          13.17         -10.41   3.60           0.80  306948.71   \n1      20.70          27.66          -2.31   4.29           2.86   71944.25   \n2      24.92         -15.78          -5.85   0.40           1.37   13883.59   \n3      15.90         -24.06         -20.57   1.12           3.86   10953.67   \n4      23.01          75.45          41.42   0.37           1.48    7037.57   \n...      ...            ...            ...    ...            ...        ...   \n4427   10.65            NaN            NaN    NaN           1.47      89.05   \n4428   16.11          39.24          15.60 -16.59           1.40      78.50   \n4429    6.22          82.98           1.28  -0.90           1.65      54.28   \n4430   12.22         -39.60         -31.54 -15.04           1.03      36.61   \n4431    7.55           4.88           8.79    NaN           1.32      34.67   \n\n      CMP / FCF  CMP / Sales  \n0       -116.58         2.42  \n1        332.81         8.43  \n2         37.51         0.14  \n3       -147.89         1.36  \n4          9.99         3.67  \n...         ...          ...  \n4427     216.96         0.74  \n4428     -63.05         0.27  \n4429      99.93         1.55  \n4430     -23.49         0.37  \n4431      10.71         0.89  \n\n[4432 rows x 17 columns]",
      "text/html": "<div>\n<style scoped>\n    .dataframe tbody tr th:only-of-type {\n        vertical-align: middle;\n    }\n\n    .dataframe tbody tr th {\n        vertical-align: top;\n    }\n\n    .dataframe thead th {\n        text-align: right;\n    }\n</style>\n<table border=\"1\" class=\"dataframe\">\n  <thead>\n    <tr style=\"text-align: right;\">\n      <th></th>\n      <th>S.No.</th>\n      <th>Name</th>\n      <th>P/E</th>\n      <th>Mar Cap Rs.Cr.</th>\n      <th>Div Yld %</th>\n      <th>NP Qtr Rs.Cr.</th>\n      <th>Qtr Profit Var %</th>\n      <th>Sales Qtr Rs.Cr.</th>\n      <th>Qtr Sales Var %</th>\n      <th>ROCE %</th>\n      <th>6mth return %</th>\n      <th>3mth return %</th>\n      <th>PEG</th>\n      <th>Current ratio</th>\n      <th>EV Rs.Cr.</th>\n      <th>CMP / FCF</th>\n      <th>CMP / Sales</th>\n    </tr>\n  </thead>\n  <tbody>\n    <tr>\n      <th>0</th>\n      <td>1</td>\n      <td>Adani Enterp.</td>\n      <td>98.520000</td>\n      <td>256642.75</td>\n      <td>0.05</td>\n      <td>333.340000</td>\n      <td>-40.380000</td>\n      <td>22517.330000</td>\n      <td>-41.020000</td>\n      <td>9.49</td>\n      <td>13.17</td>\n      <td>-10.41</td>\n      <td>3.60</td>\n      <td>0.80</td>\n      <td>306948.71</td>\n      <td>-116.58</td>\n      <td>2.42</td>\n    </tr>\n    <tr>\n      <th>1</th>\n      <td>2</td>\n      <td>Mankind Pharma</td>\n      <td>51.050000</td>\n      <td>72145.99</td>\n      <td>0.00</td>\n      <td>472.880000</td>\n      <td>12.530000</td>\n      <td>2453.350000</td>\n      <td>8.670000</td>\n      <td>20.70</td>\n      <td>27.66</td>\n      <td>-2.31</td>\n      <td>4.29</td>\n      <td>2.86</td>\n      <td>71944.25</td>\n      <td>332.81</td>\n      <td>8.43</td>\n    </tr>\n    <tr>\n      <th>2</th>\n      <td>3</td>\n      <td>Redington</td>\n      <td>9.560000</td>\n      <td>11834.76</td>\n      <td>4.79</td>\n      <td>311.640000</td>\n      <td>-21.580000</td>\n      <td>22220.150000</td>\n      <td>16.640000</td>\n      <td>24.92</td>\n      <td>-15.78</td>\n      <td>-5.85</td>\n      <td>0.40</td>\n      <td>1.37</td>\n      <td>13883.59</td>\n      <td>37.51</td>\n      <td>0.14</td>\n    </tr>\n    <tr>\n      <th>3</th>\n      <td>4</td>\n      <td>Aegis Logistics</td>\n      <td>20.310000</td>\n      <td>10338.72</td>\n      <td>1.96</td>\n      <td>150.010000</td>\n      <td>35.970000</td>\n      <td>1234.860000</td>\n      <td>-42.580000</td>\n      <td>15.90</td>\n      <td>-24.06</td>\n      <td>-20.57</td>\n      <td>1.12</td>\n      <td>3.86</td>\n      <td>10953.67</td>\n      <td>-147.89</td>\n      <td>1.36</td>\n    </tr>\n    <tr>\n      <th>4</th>\n      <td>5</td>\n      <td>MMTC</td>\n      <td>17.960000</td>\n      <td>8181.00</td>\n      <td>0.00</td>\n      <td>14.660000</td>\n      <td>80.330000</td>\n      <td>214.470000</td>\n      <td>-85.810000</td>\n      <td>23.01</td>\n      <td>75.45</td>\n      <td>41.42</td>\n      <td>0.37</td>\n      <td>1.48</td>\n      <td>7037.57</td>\n      <td>9.99</td>\n      <td>3.67</td>\n    </tr>\n    <tr>\n      <th>...</th>\n      <td>...</td>\n      <td>...</td>\n      <td>...</td>\n      <td>...</td>\n      <td>...</td>\n      <td>...</td>\n      <td>...</td>\n      <td>...</td>\n      <td>...</td>\n      <td>...</td>\n      <td>...</td>\n      <td>...</td>\n      <td>...</td>\n      <td>...</td>\n      <td>...</td>\n      <td>...</td>\n      <td>...</td>\n    </tr>\n    <tr>\n      <th>4427</th>\n      <td>4428</td>\n      <td>Crop Life Scienc</td>\n      <td>25.030000</td>\n      <td>69.59</td>\n      <td>0.00</td>\n      <td>86.080246</td>\n      <td>218.801107</td>\n      <td>972.092868</td>\n      <td>260.598919</td>\n      <td>10.65</td>\n      <td>NaN</td>\n      <td>NaN</td>\n      <td>NaN</td>\n      <td>1.47</td>\n      <td>89.05</td>\n      <td>216.96</td>\n      <td>0.74</td>\n    </tr>\n    <tr>\n      <th>4428</th>\n      <td>4429</td>\n      <td>Aristo Bio-Tech</td>\n      <td>16.260000</td>\n      <td>57.86</td>\n      <td>0.30</td>\n      <td>1.000000</td>\n      <td>218.801107</td>\n      <td>88.810000</td>\n      <td>260.598919</td>\n      <td>16.11</td>\n      <td>39.24</td>\n      <td>15.60</td>\n      <td>-16.59</td>\n      <td>1.40</td>\n      <td>78.50</td>\n      <td>-63.05</td>\n      <td>0.27</td>\n    </tr>\n    <tr>\n      <th>4429</th>\n      <td>4430</td>\n      <td>Super Crop Safe</td>\n      <td>24.710000</td>\n      <td>37.32</td>\n      <td>0.00</td>\n      <td>0.180000</td>\n      <td>148.650000</td>\n      <td>5.810000</td>\n      <td>35.430000</td>\n      <td>6.22</td>\n      <td>82.98</td>\n      <td>1.28</td>\n      <td>-0.90</td>\n      <td>1.65</td>\n      <td>54.28</td>\n      <td>99.93</td>\n      <td>1.55</td>\n    </tr>\n    <tr>\n      <th>4430</th>\n      <td>4431</td>\n      <td>Bhaskar Agrochem</td>\n      <td>150.720000</td>\n      <td>21.10</td>\n      <td>0.00</td>\n      <td>-2.030000</td>\n      <td>-4.640000</td>\n      <td>7.330000</td>\n      <td>36.750000</td>\n      <td>12.22</td>\n      <td>-39.60</td>\n      <td>-31.54</td>\n      <td>-15.04</td>\n      <td>1.03</td>\n      <td>36.61</td>\n      <td>-23.49</td>\n      <td>0.37</td>\n    </tr>\n    <tr>\n      <th>4431</th>\n      <td>4432</td>\n      <td>Phyto Chem (I)</td>\n      <td>84.714391</td>\n      <td>18.49</td>\n      <td>0.00</td>\n      <td>-0.160000</td>\n      <td>-108.080000</td>\n      <td>7.210000</td>\n      <td>-42.180000</td>\n      <td>7.55</td>\n      <td>4.88</td>\n      <td>8.79</td>\n      <td>NaN</td>\n      <td>1.32</td>\n      <td>34.67</td>\n      <td>10.71</td>\n      <td>0.89</td>\n    </tr>\n  </tbody>\n</table>\n<p>4432 rows × 17 columns</p>\n</div>"
     },
     "execution_count": 175,
     "metadata": {},
     "output_type": "execute_result"
    }
   ],
   "source": [
    "portfolio"
   ],
   "metadata": {
    "collapsed": false,
    "ExecuteTime": {
     "end_time": "2024-03-01T09:46:12.739648500Z",
     "start_time": "2024-03-01T09:46:12.719648200Z"
    }
   },
   "id": "66654d7ae2665c3b",
   "execution_count": 175
  },
  {
   "cell_type": "code",
   "outputs": [
    {
     "data": {
      "text/plain": "      index  S.No.              Name         P/E  Mar Cap Rs.Cr.   Div Yld %  \\\n0         0      1     Adani Enterp.   98.520000        256642.75       0.05   \n1         1      2    Mankind Pharma   51.050000         72145.99       0.00   \n2         2      3         Redington    9.560000         11834.76       4.79   \n3         3      4   Aegis Logistics   20.310000         10338.72       1.96   \n4         4      5              MMTC   17.960000          8181.00       0.00   \n...     ...    ...               ...         ...              ...        ...   \n4427   4427   4428  Crop Life Scienc   25.030000            69.59       0.00   \n4428   4428   4429   Aristo Bio-Tech   16.260000            57.86       0.30   \n4429   4429   4430   Super Crop Safe   24.710000            37.32       0.00   \n4430   4430   4431  Bhaskar Agrochem  150.720000            21.10       0.00   \n4431   4431   4432    Phyto Chem (I)   84.714391            18.49       0.00   \n\n      NP Qtr Rs.Cr.  Qtr Profit Var %  Sales Qtr Rs.Cr.  Qtr Sales Var %  \\\n0        333.340000        -40.380000      22517.330000       -41.020000   \n1        472.880000         12.530000       2453.350000         8.670000   \n2        311.640000        -21.580000      22220.150000        16.640000   \n3        150.010000         35.970000       1234.860000       -42.580000   \n4         14.660000         80.330000        214.470000       -85.810000   \n...             ...               ...               ...              ...   \n4427      86.080246        218.801107        972.092868       260.598919   \n4428       1.000000        218.801107         88.810000       260.598919   \n4429       0.180000        148.650000          5.810000        35.430000   \n4430      -2.030000         -4.640000          7.330000        36.750000   \n4431      -0.160000       -108.080000          7.210000       -42.180000   \n\n      ROCE %  6mth return %  3mth return %    PEG  Current ratio  EV Rs.Cr.  \\\n0       9.49          13.17         -10.41   3.60           0.80  306948.71   \n1      20.70          27.66          -2.31   4.29           2.86   71944.25   \n2      24.92         -15.78          -5.85   0.40           1.37   13883.59   \n3      15.90         -24.06         -20.57   1.12           3.86   10953.67   \n4      23.01          75.45          41.42   0.37           1.48    7037.57   \n...      ...            ...            ...    ...            ...        ...   \n4427   10.65            NaN            NaN    NaN           1.47      89.05   \n4428   16.11          39.24          15.60 -16.59           1.40      78.50   \n4429    6.22          82.98           1.28  -0.90           1.65      54.28   \n4430   12.22         -39.60         -31.54 -15.04           1.03      36.61   \n4431    7.55           4.88           8.79    NaN           1.32      34.67   \n\n      CMP / FCF  CMP / Sales  \n0       -116.58         2.42  \n1        332.81         8.43  \n2         37.51         0.14  \n3       -147.89         1.36  \n4          9.99         3.67  \n...         ...          ...  \n4427     216.96         0.74  \n4428     -63.05         0.27  \n4429      99.93         1.55  \n4430     -23.49         0.37  \n4431      10.71         0.89  \n\n[4432 rows x 18 columns]",
      "text/html": "<div>\n<style scoped>\n    .dataframe tbody tr th:only-of-type {\n        vertical-align: middle;\n    }\n\n    .dataframe tbody tr th {\n        vertical-align: top;\n    }\n\n    .dataframe thead th {\n        text-align: right;\n    }\n</style>\n<table border=\"1\" class=\"dataframe\">\n  <thead>\n    <tr style=\"text-align: right;\">\n      <th></th>\n      <th>index</th>\n      <th>S.No.</th>\n      <th>Name</th>\n      <th>P/E</th>\n      <th>Mar Cap Rs.Cr.</th>\n      <th>Div Yld %</th>\n      <th>NP Qtr Rs.Cr.</th>\n      <th>Qtr Profit Var %</th>\n      <th>Sales Qtr Rs.Cr.</th>\n      <th>Qtr Sales Var %</th>\n      <th>ROCE %</th>\n      <th>6mth return %</th>\n      <th>3mth return %</th>\n      <th>PEG</th>\n      <th>Current ratio</th>\n      <th>EV Rs.Cr.</th>\n      <th>CMP / FCF</th>\n      <th>CMP / Sales</th>\n    </tr>\n  </thead>\n  <tbody>\n    <tr>\n      <th>0</th>\n      <td>0</td>\n      <td>1</td>\n      <td>Adani Enterp.</td>\n      <td>98.520000</td>\n      <td>256642.75</td>\n      <td>0.05</td>\n      <td>333.340000</td>\n      <td>-40.380000</td>\n      <td>22517.330000</td>\n      <td>-41.020000</td>\n      <td>9.49</td>\n      <td>13.17</td>\n      <td>-10.41</td>\n      <td>3.60</td>\n      <td>0.80</td>\n      <td>306948.71</td>\n      <td>-116.58</td>\n      <td>2.42</td>\n    </tr>\n    <tr>\n      <th>1</th>\n      <td>1</td>\n      <td>2</td>\n      <td>Mankind Pharma</td>\n      <td>51.050000</td>\n      <td>72145.99</td>\n      <td>0.00</td>\n      <td>472.880000</td>\n      <td>12.530000</td>\n      <td>2453.350000</td>\n      <td>8.670000</td>\n      <td>20.70</td>\n      <td>27.66</td>\n      <td>-2.31</td>\n      <td>4.29</td>\n      <td>2.86</td>\n      <td>71944.25</td>\n      <td>332.81</td>\n      <td>8.43</td>\n    </tr>\n    <tr>\n      <th>2</th>\n      <td>2</td>\n      <td>3</td>\n      <td>Redington</td>\n      <td>9.560000</td>\n      <td>11834.76</td>\n      <td>4.79</td>\n      <td>311.640000</td>\n      <td>-21.580000</td>\n      <td>22220.150000</td>\n      <td>16.640000</td>\n      <td>24.92</td>\n      <td>-15.78</td>\n      <td>-5.85</td>\n      <td>0.40</td>\n      <td>1.37</td>\n      <td>13883.59</td>\n      <td>37.51</td>\n      <td>0.14</td>\n    </tr>\n    <tr>\n      <th>3</th>\n      <td>3</td>\n      <td>4</td>\n      <td>Aegis Logistics</td>\n      <td>20.310000</td>\n      <td>10338.72</td>\n      <td>1.96</td>\n      <td>150.010000</td>\n      <td>35.970000</td>\n      <td>1234.860000</td>\n      <td>-42.580000</td>\n      <td>15.90</td>\n      <td>-24.06</td>\n      <td>-20.57</td>\n      <td>1.12</td>\n      <td>3.86</td>\n      <td>10953.67</td>\n      <td>-147.89</td>\n      <td>1.36</td>\n    </tr>\n    <tr>\n      <th>4</th>\n      <td>4</td>\n      <td>5</td>\n      <td>MMTC</td>\n      <td>17.960000</td>\n      <td>8181.00</td>\n      <td>0.00</td>\n      <td>14.660000</td>\n      <td>80.330000</td>\n      <td>214.470000</td>\n      <td>-85.810000</td>\n      <td>23.01</td>\n      <td>75.45</td>\n      <td>41.42</td>\n      <td>0.37</td>\n      <td>1.48</td>\n      <td>7037.57</td>\n      <td>9.99</td>\n      <td>3.67</td>\n    </tr>\n    <tr>\n      <th>...</th>\n      <td>...</td>\n      <td>...</td>\n      <td>...</td>\n      <td>...</td>\n      <td>...</td>\n      <td>...</td>\n      <td>...</td>\n      <td>...</td>\n      <td>...</td>\n      <td>...</td>\n      <td>...</td>\n      <td>...</td>\n      <td>...</td>\n      <td>...</td>\n      <td>...</td>\n      <td>...</td>\n      <td>...</td>\n      <td>...</td>\n    </tr>\n    <tr>\n      <th>4427</th>\n      <td>4427</td>\n      <td>4428</td>\n      <td>Crop Life Scienc</td>\n      <td>25.030000</td>\n      <td>69.59</td>\n      <td>0.00</td>\n      <td>86.080246</td>\n      <td>218.801107</td>\n      <td>972.092868</td>\n      <td>260.598919</td>\n      <td>10.65</td>\n      <td>NaN</td>\n      <td>NaN</td>\n      <td>NaN</td>\n      <td>1.47</td>\n      <td>89.05</td>\n      <td>216.96</td>\n      <td>0.74</td>\n    </tr>\n    <tr>\n      <th>4428</th>\n      <td>4428</td>\n      <td>4429</td>\n      <td>Aristo Bio-Tech</td>\n      <td>16.260000</td>\n      <td>57.86</td>\n      <td>0.30</td>\n      <td>1.000000</td>\n      <td>218.801107</td>\n      <td>88.810000</td>\n      <td>260.598919</td>\n      <td>16.11</td>\n      <td>39.24</td>\n      <td>15.60</td>\n      <td>-16.59</td>\n      <td>1.40</td>\n      <td>78.50</td>\n      <td>-63.05</td>\n      <td>0.27</td>\n    </tr>\n    <tr>\n      <th>4429</th>\n      <td>4429</td>\n      <td>4430</td>\n      <td>Super Crop Safe</td>\n      <td>24.710000</td>\n      <td>37.32</td>\n      <td>0.00</td>\n      <td>0.180000</td>\n      <td>148.650000</td>\n      <td>5.810000</td>\n      <td>35.430000</td>\n      <td>6.22</td>\n      <td>82.98</td>\n      <td>1.28</td>\n      <td>-0.90</td>\n      <td>1.65</td>\n      <td>54.28</td>\n      <td>99.93</td>\n      <td>1.55</td>\n    </tr>\n    <tr>\n      <th>4430</th>\n      <td>4430</td>\n      <td>4431</td>\n      <td>Bhaskar Agrochem</td>\n      <td>150.720000</td>\n      <td>21.10</td>\n      <td>0.00</td>\n      <td>-2.030000</td>\n      <td>-4.640000</td>\n      <td>7.330000</td>\n      <td>36.750000</td>\n      <td>12.22</td>\n      <td>-39.60</td>\n      <td>-31.54</td>\n      <td>-15.04</td>\n      <td>1.03</td>\n      <td>36.61</td>\n      <td>-23.49</td>\n      <td>0.37</td>\n    </tr>\n    <tr>\n      <th>4431</th>\n      <td>4431</td>\n      <td>4432</td>\n      <td>Phyto Chem (I)</td>\n      <td>84.714391</td>\n      <td>18.49</td>\n      <td>0.00</td>\n      <td>-0.160000</td>\n      <td>-108.080000</td>\n      <td>7.210000</td>\n      <td>-42.180000</td>\n      <td>7.55</td>\n      <td>4.88</td>\n      <td>8.79</td>\n      <td>NaN</td>\n      <td>1.32</td>\n      <td>34.67</td>\n      <td>10.71</td>\n      <td>0.89</td>\n    </tr>\n  </tbody>\n</table>\n<p>4432 rows × 18 columns</p>\n</div>"
     },
     "execution_count": 176,
     "metadata": {},
     "output_type": "execute_result"
    }
   ],
   "source": [
    "# reset the index\n",
    "portfolio.reset_index(inplace=True)\n",
    "portfolio"
   ],
   "metadata": {
    "collapsed": false,
    "ExecuteTime": {
     "end_time": "2024-03-01T09:46:15.150012600Z",
     "start_time": "2024-03-01T09:46:15.125009300Z"
    }
   },
   "id": "531da8d7489e39e6",
   "execution_count": 176
  },
  {
   "cell_type": "code",
   "outputs": [
    {
     "data": {
      "text/plain": "[[603, 368],\n [13, 784],\n [426],\n [381, 228],\n [113],\n [338],\n [490, 764],\n [310, 911],\n [713, 925],\n [525, 54],\n [42, 160, 66],\n [276, 480],\n [988, 517],\n [933, 814],\n [945, 822],\n [666, 172],\n [426, 317],\n [168, 409, 950],\n [336, 54],\n [16, 851, 703],\n [752, 54],\n [261, 764],\n [823, 822],\n [885, 2],\n [496, 229, 443],\n [16, 76, 54],\n [839, 864],\n [885, 83],\n [345, 644],\n [678],\n [183, 411],\n [127, 784],\n [475, 322],\n [128, 980, 389],\n [314, 651],\n [727, 774],\n [560, 54],\n [51, 237, 236],\n [315, 999],\n [846, 822, 755],\n [703, 770],\n [441, 894],\n [810],\n [820],\n [79, 761],\n [165, 100],\n [572, 323],\n [222, 83],\n [504, 78, 625],\n [309, 56],\n [904, 784],\n [816, 468],\n [27, 736, 89],\n [475, 574],\n [654, 341, 296, 190],\n [350, 508],\n [18, 54],\n [302, 268],\n [730, 78],\n [995, 447],\n [939, 159, 684],\n [753, 673],\n [258, 298, 190],\n [348, 107, 950],\n [133, 808],\n [95, 100],\n [811, 524],\n [442, 326],\n [89, 54],\n [428, 818, 36],\n [389, 368],\n [810, 39],\n [376, 84, 198, 54],\n [714, 611],\n [951, 734],\n [559, 37],\n [866, 509],\n [500, 548],\n [405, 605],\n [949, 223],\n [880, 988],\n [811],\n [982, 770],\n [1, 214],\n [711, 299, 595],\n [110, 611],\n [245, 672],\n [78, 54],\n [991, 784],\n [377, 268],\n [377, 603],\n [475, 894],\n [367, 151, 568, 864],\n [686, 389],\n [407, 193],\n [924, 222],\n [237, 864, 100],\n [551, 345],\n [734, 784],\n [113, 449],\n [191, 764],\n [290],\n [973, 548],\n [465, 764],\n [509, 200],\n [709, 186, 190],\n [703, 54],\n [390, 715, 606],\n [795, 403],\n [36, 78],\n [932, 932, 522],\n [554, 764],\n [244, 522],\n [988, 894],\n [288, 439, 423],\n [708, 136],\n [549],\n [186, 991, 528, 594],\n [958, 644],\n [876, 161],\n [304, 360],\n [652, 829],\n [94, 190],\n [392, 54],\n [329, 672],\n [492, 323],\n [259, 140],\n [918, 583],\n [153, 198],\n [365, 315],\n [983, 491],\n [538, 806],\n [822, 467],\n [441, 100],\n [694, 193],\n [772, 54],\n [233, 495, 638],\n [248],\n [89, 323],\n [363, 389, 449],\n [628, 776, 770],\n [710, 661],\n [90, 768],\n [19, 806],\n [995, 99],\n [734, 897],\n [381, 548],\n [629],\n [126, 794],\n [600, 457, 606],\n [992, 641],\n [581, 449],\n [86, 517],\n [801, 455],\n [27, 932, 674],\n [470, 18],\n [175, 611],\n [190, 395],\n [848, 161],\n [658, 2, 924],\n [740, 720],\n [822, 661],\n [12, 997],\n [329, 462],\n [396, 198],\n [710, 830, 258],\n [533, 611],\n [981, 714],\n [817, 806],\n [27, 799, 376, 630],\n [157, 625],\n [196, 984],\n [751, 786],\n [537, 846],\n [922, 931],\n [857, 161],\n [56, 974],\n [157, 266, 806],\n [471, 220],\n [955, 764],\n [106, 296],\n [797, 794],\n [309, 604, 78],\n [650, 78],\n [244, 54],\n [870],\n [390, 866],\n [113, 656],\n [421, 599],\n [932, 178],\n [403, 764],\n [101, 623],\n [355, 784],\n [480, 565],\n [799, 236, 199],\n [93, 389],\n [812, 648],\n [622, 54],\n [377, 925],\n [852],\n [169, 925],\n [204, 565, 505],\n [575, 583],\n [389, 504],\n [881, 718],\n [371, 603],\n [369, 68, 386],\n [822, 326],\n [131, 606],\n [736, 644],\n [990, 269],\n [789, 611],\n [579, 992],\n [976, 539],\n [932, 84, 851, 772],\n [15, 398],\n [634, 389],\n [144, 784, 66],\n [802, 337],\n [237, 822],\n [674, 222],\n [771, 151],\n [660, 151],\n [906, 258],\n [453, 851, 733],\n [145, 764],\n [678, 863],\n [937, 565],\n [113, 975],\n [995, 159, 638],\n [944, 198],\n [388, 758],\n [417, 404],\n [549, 404],\n [980, 501],\n [618, 221, 625],\n [73],\n [930, 888],\n [764, 853],\n [848, 417],\n [756, 54],\n [307, 786],\n [919, 73],\n [856, 984],\n [967, 308],\n [525, 412],\n [722, 914],\n [608, 536],\n [704],\n [585, 166],\n [817, 786],\n [444, 794],\n [59, 373],\n [801, 884],\n [481, 781],\n [54, 611],\n [668, 975, 786],\n [27, 428, 345],\n [919, 652],\n [218, 369, 181],\n [559, 741],\n [584, 453, 375],\n [845, 54],\n [296, 786],\n [20, 397],\n [46, 926, 931],\n [148, 764],\n [464, 411],\n [335, 994, 21],\n [153, 914],\n [158, 389],\n [159, 375],\n [246, 426],\n [726, 282, 600],\n [299, 894],\n [492, 222],\n [776, 625],\n [646, 111],\n [714, 368],\n [578, 470],\n [912, 672],\n [52, 785],\n [855, 822],\n [43, 54, 449],\n [319, 39],\n [114, 258],\n [24, 864],\n [201, 447],\n [758, 100],\n [319, 276],\n [342, 594],\n [943, 582],\n [833, 509],\n [760, 169],\n [983, 601],\n [420, 90],\n [36, 822],\n [737, 914],\n [302, 341],\n [702, 449],\n [702, 495, 49],\n [271, 447],\n [89, 971],\n [132, 806],\n [427, 984],\n [937, 426, 581],\n [123, 263, 384],\n [942, 611],\n [153, 177, 806],\n [268, 51],\n [654, 598, 173],\n [716, 368],\n [262, 214],\n [417, 625],\n [35, 575],\n [579, 2],\n [389, 761],\n [212, 83],\n [173, 534],\n [753, 470],\n [637, 27],\n [444, 332],\n [572, 100],\n [774, 779],\n [859, 151],\n [116, 339, 23],\n [512, 668],\n [993, 447],\n [454, 335],\n [2, 850],\n [555],\n [756, 436],\n [955, 389],\n [674, 817],\n [843, 970],\n [95, 392],\n [334, 296],\n [449, 735],\n [274, 16, 265],\n [930, 557],\n [353, 54, 786],\n [578, 672],\n [152, 742],\n [131, 68],\n [52, 764],\n [540, 822],\n [630, 872],\n [144, 764],\n [429, 73],\n [271, 76, 236],\n [755, 333],\n [908, 398],\n [214, 258],\n [488, 57],\n [391, 333, 389],\n [724, 266, 137],\n [621, 190],\n [722, 760],\n [212, 165],\n [151, 786],\n [984, 450],\n [6, 809],\n [270, 640],\n [772, 537],\n [991, 577, 185],\n [660, 2, 555],\n [135, 196],\n [284, 78],\n [86, 832],\n [583, 934, 950],\n [113, 622],\n [411, 655],\n [548, 161],\n [537, 78, 950],\n [297, 566],\n [919, 911],\n [215, 501, 839],\n [178, 651],\n [921],\n [993, 793],\n [271, 937],\n [920, 414],\n [310, 83],\n [694, 946],\n [575, 169],\n [62, 806],\n [374, 648],\n [383, 436],\n [134, 505],\n [186, 764],\n [521, 582, 971],\n [852, 181],\n [259, 622],\n [950, 837, 984],\n [773, 389, 293],\n [920, 548],\n [18],\n [374, 820],\n [963, 82],\n [878, 219],\n [759, 109],\n [893, 213],\n [678, 829],\n [16, 894],\n [904, 773],\n [108, 565, 105],\n [382, 437],\n [497, 806],\n [389, 854],\n [417, 342],\n [564, 577],\n [421, 324],\n [332, 776],\n [84, 606],\n [237, 427],\n [598, 89, 606],\n [504, 609],\n [742, 258],\n [798, 137],\n [662, 822],\n [856, 449],\n [872, 548],\n [309, 597],\n [645, 233],\n [187, 509],\n [525, 78],\n [717, 137],\n [983, 141],\n [726, 126],\n [28, 229],\n [356, 822, 503],\n [100, 229],\n [92, 47],\n [893, 493, 229],\n [587, 794],\n [765, 75],\n [992, 695],\n [967, 319],\n [844, 2, 821],\n [399, 693],\n [229, 100],\n [655, 958],\n [229],\n [513, 190],\n [113, 605],\n [387, 693],\n [667, 487],\n [182, 605],\n [633, 590],\n [356, 177, 191],\n [701, 108],\n [269, 731],\n [167, 57],\n [526, 312],\n [496, 191, 958],\n [129, 229],\n [481, 946],\n [28, 623],\n [153, 141],\n [36, 229],\n [426, 986],\n [265, 229],\n [401, 731],\n [365, 932, 764],\n [334, 491],\n [100, 611],\n [719, 240],\n [364, 941],\n [470, 443],\n [956, 450],\n [97, 388, 731],\n [878, 672],\n [363, 187],\n [19, 100, 600],\n [880, 784],\n [400, 235],\n [132, 999],\n [329, 524],\n [356, 87, 789],\n [95, 487],\n [166, 229],\n [331, 954],\n [859, 605],\n [271, 988, 931],\n [991],\n [65, 988],\n [263, 909, 440],\n [918, 812],\n [864, 237, 16, 236],\n [915, 988],\n [388, 988],\n [921],\n [253, 988],\n [991, 717, 988],\n [590, 443],\n [353, 795, 440],\n [696, 988],\n [545, 988],\n [900, 988],\n [38, 988],\n [983, 922],\n [90, 988],\n [610, 851, 988],\n [876, 731],\n [369, 988, 365],\n [369, 988, 528],\n [933, 168],\n [735, 988],\n [429, 83, 694],\n [451, 638, 175],\n [786],\n [159, 611],\n [95, 996],\n [398, 586],\n [151, 595, 153],\n [794, 694],\n [901, 415],\n [817, 928],\n [416, 161],\n [374, 988],\n [562, 988],\n [415, 164, 114],\n [489, 988],\n [961, 830],\n [527, 822],\n [497, 988],\n [168, 988],\n [439, 51, 54],\n [185, 988],\n [543, 877],\n [84, 495],\n [722, 988],\n [210, 988],\n [232, 472],\n [271, 988],\n [329, 988],\n [602, 231, 440],\n [455, 786],\n [155, 354],\n [563, 853],\n [324, 233],\n [150],\n [645, 185],\n [310, 783, 661],\n [448, 822, 749],\n [299, 258],\n [932, 584, 658],\n [369],\n [431],\n [890, 822],\n [731, 54],\n [846, 483, 262],\n [280, 500],\n [461, 437],\n [822, 437],\n [610],\n [658],\n [274, 873, 822],\n [912, 854],\n [310, 259],\n [647, 495],\n [791, 199, 822],\n [461, 822],\n [758, 199],\n [84, 851, 515],\n [826, 312],\n [896, 515, 402],\n [288, 51, 449],\n [379, 675],\n [706, 42, 262],\n [424, 373],\n [781, 571],\n [368, 515],\n [111, 832, 639],\n [769],\n [607, 822, 262],\n [706, 42, 770],\n [691, 701],\n [398],\n [294, 353],\n [920, 638],\n [457, 675],\n [717, 822],\n [90, 822, 639],\n [199, 209],\n [450, 715],\n [186, 21],\n [252, 622],\n [546, 822],\n [960, 515],\n [458, 133],\n [474, 970],\n [84, 956, 258],\n [339, 743, 67],\n [250, 401],\n [54, 116, 67],\n [848, 822],\n [54, 743, 67],\n [448, 741, 305],\n [2, 685],\n [320, 2, 262],\n [87, 2, 206],\n [186, 236, 2],\n [186, 362],\n [277, 287],\n [434, 229, 515],\n [108, 54, 454],\n [954, 582],\n [994, 695],\n [927, 483],\n [849, 588],\n [392, 138],\n [744, 689],\n [888, 499],\n [126, 289],\n [226, 689],\n [575, 190],\n [351, 689],\n [230, 331],\n [961, 231],\n [612, 608],\n [686],\n [982],\n [849, 315],\n [546],\n [690],\n [190, 918],\n [900, 804],\n [240, 402],\n [150, 237, 984],\n [800],\n [255, 451],\n [626, 770, 600],\n [641, 907],\n [287],\n [15],\n [19, 884],\n [206, 970],\n [666, 54],\n [754, 915],\n [914, 915],\n [288, 190],\n [236, 528, 689, 485],\n [341, 323],\n [329, 196],\n [590, 974],\n [898, 606],\n [302, 990],\n [338, 403],\n [90, 884],\n [332, 961],\n [761],\n [584, 404, 258],\n [408, 315],\n [998, 682],\n [762, 292],\n [542, 646],\n [367, 492],\n [8, 100],\n [578, 785],\n [490, 758],\n [908, 186],\n [912],\n [128, 566],\n [392],\n [169, 255],\n [285, 504],\n [361, 190],\n [365, 866],\n [363, 896],\n [80, 138],\n [987, 190],\n [637],\n [842],\n [645, 646, 186],\n [685, 568],\n [109, 109, 190],\n [689, 161],\n [632, 190],\n [313, 902],\n [528, 603],\n [651, 54],\n [972, 665],\n [989, 901, 190],\n [774, 258],\n [97, 785],\n [232, 758],\n [373, 190],\n [274, 190],\n [703, 328],\n [688, 404],\n [29, 402],\n [190, 190],\n [157, 292],\n [662, 727],\n [149, 522],\n [324, 948],\n [471, 190],\n [19, 276, 19],\n [607, 530],\n [378, 522],\n [446, 672],\n [881, 404],\n [9, 100, 623],\n [147, 190],\n [84, 646],\n [331, 858],\n [551, 884],\n [771, 54],\n [48, 528, 190],\n [329, 315],\n [553, 54],\n [503, 138],\n [666, 327],\n [28, 402],\n [368, 190],\n [311, 404],\n [996, 846],\n [238],\n [648, 54],\n [325, 672],\n [670, 190],\n [983, 528, 203],\n [621, 476],\n [4],\n [307],\n [21],\n [831, 100],\n [126, 758],\n [933, 396],\n [515, 534],\n [805, 190],\n [726, 565],\n [867],\n [218],\n [125, 190],\n [188, 671],\n [37, 533, 884],\n [726, 672],\n [428, 911],\n [430, 405],\n [718, 54],\n [597, 190],\n [845, 785],\n [350, 404],\n [609, 359],\n [994, 521],\n [872, 498],\n [509, 492],\n [584, 51, 884, 864],\n [297, 138],\n [60, 190],\n [812, 138],\n [290],\n [428, 990],\n [416, 190],\n [168, 404],\n [626, 846],\n [311, 190],\n [908, 190],\n [691, 100],\n [61, 190],\n [888, 190],\n [659, 54],\n [607, 599],\n [640, 649, 970],\n [893, 315],\n [819, 83],\n [864, 190],\n [887, 493],\n [114, 974],\n [232, 339],\n [755, 689],\n [92, 190],\n [517, 190],\n [73, 83],\n [131, 884],\n [603, 950],\n [454],\n [708, 884],\n [466, 656],\n [920, 689],\n [825, 896],\n [352, 738, 186],\n [879, 54],\n [430],\n [626, 689],\n [710, 190],\n [389, 672, 51],\n [785, 186, 190],\n [525, 383],\n [971, 190],\n [472, 402],\n [112],\n [441, 984],\n [199, 429],\n [405, 99],\n [310, 970],\n [638],\n [633, 186],\n [39, 186, 404],\n [418, 729, 323],\n [916, 190],\n [770, 564],\n [188, 404],\n [581, 689],\n [365, 328, 864],\n [777, 202],\n [549, 304],\n [588, 186],\n [805],\n [927, 193],\n [491, 689],\n [225, 984],\n [752, 482],\n [301, 202],\n [186],\n [320, 785],\n [465, 337],\n [773, 651],\n [586, 884],\n [705, 312],\n [951, 135],\n [525, 186, 386],\n [854, 548],\n [808, 689],\n [218, 100],\n [686, 100],\n [635, 236],\n [727, 54],\n [906, 786],\n [597, 568],\n [862, 982],\n [881, 605, 952],\n [151, 672],\n [447, 689, 504],\n [776, 337],\n [102, 226],\n [439, 744],\n [689, 485],\n [134, 402],\n [32, 83],\n [864, 199, 896],\n [817, 808],\n [891, 632],\n [868, 504],\n [499, 190],\n [579, 689],\n [34, 884],\n [70, 315],\n [611, 982],\n [586, 190],\n [258, 339, 523],\n [498, 389],\n [400, 672],\n [93, 785],\n [745, 798],\n [423, 672],\n [932, 190, 689],\n [603, 892],\n [216, 571],\n [168, 40, 438],\n [516, 860, 337],\n [16, 799, 786],\n [870, 913],\n [309],\n [237, 490, 971, 972],\n [504],\n [335, 337],\n [439, 237, 337],\n [847, 137],\n [933, 23],\n [671, 337],\n [268, 337],\n [420, 550, 915],\n [143, 543],\n [794, 926],\n [345, 337],\n [741, 54],\n [796],\n [961],\n [987],\n [932, 376, 16, 236],\n [576],\n [9, 570],\n [550, 413],\n [876, 626],\n [658, 272],\n [499, 545, 659],\n [533, 357],\n [218, 63, 155],\n [773],\n [756, 239],\n [660, 83],\n [508, 568],\n [398, 950],\n [960, 764],\n [540, 279],\n [798, 626],\n [357, 199],\n [590, 643],\n [630, 764],\n [311, 406],\n [923, 657],\n [470, 441],\n [869, 376, 626],\n [826, 54],\n [218, 74],\n [490, 238],\n [760, 376, 190],\n [411, 983],\n [172, 413],\n [801, 503],\n [180, 199],\n [977, 857],\n [999, 515],\n [322],\n [236, 16, 51, 150],\n [239, 811],\n [832, 137, 11],\n [271, 515, 885],\n [335, 974],\n [254, 935],\n [85, 913],\n [124, 181],\n [482, 785],\n [20],\n [527, 584, 737],\n [745, 527],\n [752, 677, 864],\n [949],\n [915, 689, 404],\n [509, 704],\n [682],\n [969, 611, 600],\n [636, 449],\n [152, 786],\n [739, 829, 931],\n [149, 197],\n [24, 489],\n [444, 611],\n [602, 54],\n [877, 399],\n [979, 447],\n [365, 785, 557],\n [559, 136],\n [552, 527],\n [668, 515],\n [303, 974],\n [727],\n [27, 170],\n [991],\n [65, 151],\n [357, 317],\n [996, 515],\n [241, 418],\n [848, 409, 348],\n [699, 929],\n [948],\n [996, 992],\n [816, 837],\n [100, 71],\n [129, 515],\n [441, 806],\n [348, 556, 263],\n [388, 759],\n [881, 917],\n [726, 54, 970],\n [888],\n [468, 257],\n [323, 345],\n [795, 233],\n [905, 764],\n [755, 83],\n [844, 965],\n [993, 181],\n [735, 296, 454],\n [387, 926],\n [268, 522],\n [653, 327],\n [791, 921],\n [442, 822],\n [258, 961, 777],\n [23, 138],\n [260],\n [851, 528, 253],\n [498, 233],\n [857, 354],\n [664, 974],\n [641, 326],\n [235, 233],\n [931, 942],\n [565, 391],\n [97, 770],\n [20, 945],\n [98, 213, 704],\n [905, 83],\n [274, 489],\n [310, 882],\n [410, 390],\n ...]"
     },
     "execution_count": 24,
     "metadata": {},
     "output_type": "execute_result"
    }
   ],
   "source": [
    "# Converting text to integer\n",
    "vocab_size = 1000\n",
    "onehot_repr = [one_hot(words, vocab_size) for words in portfolio['Name']]\n",
    "onehot_repr"
   ],
   "metadata": {
    "collapsed": false,
    "ExecuteTime": {
     "end_time": "2024-03-01T10:12:42.226832200Z",
     "start_time": "2024-03-01T10:12:42.176594400Z"
    }
   },
   "id": "19b12911d7852c0c",
   "execution_count": 24
  },
  {
   "cell_type": "code",
   "outputs": [
    {
     "data": {
      "text/plain": "array([[  0,   0,   0, 603, 368],\n       [  0,   0,   0,  13, 784],\n       [  0,   0,   0,   0, 426],\n       ...,\n       [  0,   0, 785,  43, 561],\n       [  0,   0,   0, 369, 640],\n       [  0,   0, 435, 606, 864]])"
     },
     "execution_count": 25,
     "metadata": {},
     "output_type": "execute_result"
    }
   ],
   "source": [
    "# Embedding representations\n",
    "sent_length = 5\n",
    "embedded_docs = pad_sequences(onehot_repr, padding='pre', maxlen=sent_length)\n",
    "embedded_docs"
   ],
   "metadata": {
    "collapsed": false,
    "ExecuteTime": {
     "end_time": "2024-03-01T10:12:44.679129800Z",
     "start_time": "2024-03-01T10:12:44.648015200Z"
    }
   },
   "id": "b69f3e09638aeaf1",
   "execution_count": 25
  },
  {
   "cell_type": "code",
   "outputs": [],
   "source": [
    "from tensorflow.keras.layers import SimpleRNN"
   ],
   "metadata": {
    "collapsed": false,
    "ExecuteTime": {
     "end_time": "2024-03-01T10:16:45.969167700Z",
     "start_time": "2024-03-01T10:16:45.961171400Z"
    }
   },
   "id": "cbf687407d13b59b",
   "execution_count": 44
  },
  {
   "cell_type": "code",
   "outputs": [],
   "source": [
    "# Building SimpleRNN model\n",
    "embedding_vector_features = 40\n",
    "model = Sequential()\n",
    "model.add(Embedding(vocab_size, embedding_vector_features, input_length=sent_length))\n",
    "model.add(SimpleRNN(200))\n",
    "model.add(Dropout(0.3))\n",
    "model.add(Dense(100, activation='relu'))\n",
    "model.add(Dropout(0.3))\n",
    "model.add(Dense(1, activation='sigmoid'))"
   ],
   "metadata": {
    "collapsed": false,
    "ExecuteTime": {
     "end_time": "2024-03-01T10:19:07.985267800Z",
     "start_time": "2024-03-01T10:19:07.914448400Z"
    }
   },
   "id": "9b6f40a408683b18",
   "execution_count": 66
  },
  {
   "cell_type": "code",
   "outputs": [
    {
     "name": "stdout",
     "output_type": "stream",
     "text": [
      "Model: \"sequential_13\"\n",
      "_________________________________________________________________\n",
      " Layer (type)                Output Shape              Param #   \n",
      "=================================================================\n",
      " embedding_12 (Embedding)    (None, 5, 40)             40000     \n",
      "                                                                 \n",
      " simple_rnn_17 (SimpleRNN)   (None, 200)               48200     \n",
      "                                                                 \n",
      " dropout_13 (Dropout)        (None, 200)               0         \n",
      "                                                                 \n",
      " dense_10 (Dense)            (None, 100)               20100     \n",
      "                                                                 \n",
      " dropout_14 (Dropout)        (None, 100)               0         \n",
      "                                                                 \n",
      " dense_11 (Dense)            (None, 1)                 101       \n",
      "                                                                 \n",
      "=================================================================\n",
      "Total params: 108401 (423.44 KB)\n",
      "Trainable params: 108401 (423.44 KB)\n",
      "Non-trainable params: 0 (0.00 Byte)\n",
      "_________________________________________________________________\n",
      "None\n"
     ]
    }
   ],
   "source": [
    "model.compile(loss='binary_crossentropy', optimizer='adam', metrics=['accuracy'])\n",
    "print(model.summary())"
   ],
   "metadata": {
    "collapsed": false,
    "ExecuteTime": {
     "end_time": "2024-03-01T10:19:09.661222700Z",
     "start_time": "2024-03-01T10:19:09.628761900Z"
    }
   },
   "id": "29a23deb0e2ae3b0",
   "execution_count": 67
  },
  {
   "cell_type": "code",
   "outputs": [
    {
     "data": {
      "text/plain": "(array([[  0,   0,   0, 603, 368],\n        [  0,   0,   0,  13, 784],\n        [  0,   0,   0,   0, 426],\n        ...,\n        [  0,   0, 785,  43, 561],\n        [  0,   0,   0, 369, 640],\n        [  0,   0, 435, 606, 864]]),\n array([2251.25, 1801.  ,  151.4 , ...,    9.28,   40.5 ,   43.  ]))"
     },
     "execution_count": 68,
     "metadata": {},
     "output_type": "execute_result"
    }
   ],
   "source": [
    "# Converting to array using numpy\n",
    "import numpy as np\n",
    "\n",
    "X = np.array(embedded_docs)\n",
    "Y = np.array(Y)\n",
    "X, Y"
   ],
   "metadata": {
    "collapsed": false,
    "ExecuteTime": {
     "end_time": "2024-03-01T10:19:11.335324500Z",
     "start_time": "2024-03-01T10:19:11.312089400Z"
    }
   },
   "id": "f3a54569d00a60d4",
   "execution_count": 68
  },
  {
   "cell_type": "code",
   "outputs": [],
   "source": [
    "# Train Test Split\n",
    "from sklearn.model_selection import train_test_split\n",
    "\n",
    "X_train, X_test, Y_train, Y_test = train_test_split(X, Y, test_size=0.2, random_state=0)"
   ],
   "metadata": {
    "collapsed": false,
    "ExecuteTime": {
     "end_time": "2024-03-01T10:19:12.978976500Z",
     "start_time": "2024-03-01T10:19:12.967779100Z"
    }
   },
   "id": "a94639457e908a91",
   "execution_count": 69
  },
  {
   "cell_type": "code",
   "outputs": [
    {
     "name": "stdout",
     "output_type": "stream",
     "text": [
      "Epoch 1/10\n",
      "56/56 [==============================] - 1s 7ms/step - loss: -15188.3867 - accuracy: 8.4626e-04 - val_loss: -39225.8398 - val_accuracy: 0.0000e+00\n",
      "Epoch 2/10\n",
      "56/56 [==============================] - 0s 4ms/step - loss: -70006.1250 - accuracy: 8.4626e-04 - val_loss: -110723.5703 - val_accuracy: 0.0000e+00\n",
      "Epoch 3/10\n",
      "56/56 [==============================] - 0s 4ms/step - loss: -155578.8906 - accuracy: 8.4626e-04 - val_loss: -218735.1562 - val_accuracy: 0.0000e+00\n",
      "Epoch 4/10\n",
      "56/56 [==============================] - 0s 4ms/step - loss: -273268.9062 - accuracy: 8.4626e-04 - val_loss: -361025.0312 - val_accuracy: 0.0000e+00\n",
      "Epoch 5/10\n",
      "56/56 [==============================] - 0s 4ms/step - loss: -443214.0312 - accuracy: 8.4626e-04 - val_loss: -548853.0000 - val_accuracy: 0.0000e+00\n",
      "Epoch 6/10\n",
      "56/56 [==============================] - 0s 4ms/step - loss: -648287.2500 - accuracy: 8.4626e-04 - val_loss: -775636.9375 - val_accuracy: 0.0000e+00\n",
      "Epoch 7/10\n",
      "56/56 [==============================] - 0s 4ms/step - loss: -879741.9375 - accuracy: 8.4626e-04 - val_loss: -1050166.3750 - val_accuracy: 0.0000e+00\n",
      "Epoch 8/10\n",
      "56/56 [==============================] - 0s 4ms/step - loss: -1184532.2500 - accuracy: 8.4626e-04 - val_loss: -1370276.7500 - val_accuracy: 0.0000e+00\n",
      "Epoch 9/10\n",
      "56/56 [==============================] - 0s 4ms/step - loss: -1495123.0000 - accuracy: 8.4626e-04 - val_loss: -1720696.5000 - val_accuracy: 0.0000e+00\n",
      "Epoch 10/10\n",
      "56/56 [==============================] - 0s 4ms/step - loss: -1890023.7500 - accuracy: 8.4626e-04 - val_loss: -2112555.7500 - val_accuracy: 0.0000e+00\n"
     ]
    }
   ],
   "source": [
    "history = model.fit(X_train, Y_train, validation_data=(X_test, Y_test), epochs=10, batch_size=64)"
   ],
   "metadata": {
    "collapsed": false,
    "ExecuteTime": {
     "end_time": "2024-03-01T10:19:18.344797300Z",
     "start_time": "2024-03-01T10:19:14.733653400Z"
    }
   },
   "id": "ce0d060977ba3539",
   "execution_count": 70
  },
  {
   "cell_type": "code",
   "outputs": [
    {
     "name": "stdout",
     "output_type": "stream",
     "text": [
      "28/28 [==============================] - 0s 1ms/step\n"
     ]
    },
    {
     "data": {
      "text/plain": "array([[1],\n       [1],\n       [1],\n       [1],\n       [1],\n       [1],\n       [1],\n       [1],\n       [1],\n       [1],\n       [1],\n       [1],\n       [1],\n       [1],\n       [1],\n       [1],\n       [1],\n       [1],\n       [1],\n       [1],\n       [1],\n       [1],\n       [1],\n       [1],\n       [1],\n       [1],\n       [1],\n       [1],\n       [1],\n       [1],\n       [1],\n       [1],\n       [1],\n       [1],\n       [1],\n       [1],\n       [1],\n       [1],\n       [1],\n       [1],\n       [1],\n       [1],\n       [1],\n       [1],\n       [1],\n       [1],\n       [1],\n       [1],\n       [1],\n       [1],\n       [1],\n       [1],\n       [1],\n       [1],\n       [1],\n       [1],\n       [1],\n       [1],\n       [1],\n       [1],\n       [1],\n       [1],\n       [1],\n       [1],\n       [1],\n       [1],\n       [1],\n       [1],\n       [1],\n       [1],\n       [1],\n       [1],\n       [1],\n       [1],\n       [1],\n       [1],\n       [1],\n       [1],\n       [1],\n       [1],\n       [1],\n       [1],\n       [1],\n       [1],\n       [1],\n       [1],\n       [1],\n       [1],\n       [1],\n       [1],\n       [1],\n       [1],\n       [1],\n       [1],\n       [1],\n       [1],\n       [1],\n       [1],\n       [1],\n       [1],\n       [1],\n       [1],\n       [1],\n       [1],\n       [1],\n       [1],\n       [1],\n       [1],\n       [1],\n       [1],\n       [1],\n       [1],\n       [1],\n       [1],\n       [1],\n       [1],\n       [1],\n       [1],\n       [1],\n       [1],\n       [1],\n       [1],\n       [1],\n       [1],\n       [1],\n       [1],\n       [1],\n       [1],\n       [1],\n       [1],\n       [1],\n       [1],\n       [1],\n       [1],\n       [1],\n       [1],\n       [1],\n       [1],\n       [1],\n       [1],\n       [1],\n       [1],\n       [1],\n       [1],\n       [1],\n       [1],\n       [1],\n       [1],\n       [1],\n       [1],\n       [1],\n       [1],\n       [1],\n       [1],\n       [1],\n       [1],\n       [1],\n       [1],\n       [1],\n       [1],\n       [1],\n       [1],\n       [1],\n       [1],\n       [1],\n       [1],\n       [1],\n       [1],\n       [1],\n       [1],\n       [1],\n       [1],\n       [1],\n       [1],\n       [1],\n       [1],\n       [1],\n       [1],\n       [1],\n       [1],\n       [1],\n       [1],\n       [1],\n       [1],\n       [1],\n       [1],\n       [1],\n       [1],\n       [1],\n       [1],\n       [1],\n       [1],\n       [1],\n       [1],\n       [1],\n       [1],\n       [1],\n       [1],\n       [1],\n       [1],\n       [1],\n       [1],\n       [1],\n       [1],\n       [1],\n       [1],\n       [1],\n       [1],\n       [1],\n       [1],\n       [1],\n       [1],\n       [1],\n       [1],\n       [1],\n       [1],\n       [1],\n       [1],\n       [1],\n       [1],\n       [1],\n       [1],\n       [1],\n       [1],\n       [1],\n       [1],\n       [1],\n       [1],\n       [1],\n       [1],\n       [1],\n       [1],\n       [1],\n       [1],\n       [1],\n       [1],\n       [1],\n       [1],\n       [1],\n       [1],\n       [1],\n       [1],\n       [1],\n       [1],\n       [1],\n       [1],\n       [1],\n       [1],\n       [1],\n       [1],\n       [1],\n       [1],\n       [1],\n       [1],\n       [1],\n       [1],\n       [1],\n       [1],\n       [1],\n       [1],\n       [1],\n       [1],\n       [1],\n       [1],\n       [1],\n       [1],\n       [1],\n       [1],\n       [1],\n       [1],\n       [1],\n       [1],\n       [1],\n       [1],\n       [1],\n       [1],\n       [1],\n       [1],\n       [1],\n       [1],\n       [1],\n       [1],\n       [1],\n       [1],\n       [1],\n       [1],\n       [1],\n       [1],\n       [1],\n       [1],\n       [1],\n       [1],\n       [1],\n       [1],\n       [1],\n       [1],\n       [1],\n       [1],\n       [1],\n       [1],\n       [1],\n       [1],\n       [1],\n       [1],\n       [1],\n       [1],\n       [1],\n       [1],\n       [1],\n       [1],\n       [1],\n       [1],\n       [1],\n       [1],\n       [1],\n       [1],\n       [1],\n       [1],\n       [1],\n       [1],\n       [1],\n       [1],\n       [1],\n       [1],\n       [1],\n       [1],\n       [1],\n       [1],\n       [1],\n       [1],\n       [1],\n       [1],\n       [1],\n       [1],\n       [1],\n       [1],\n       [1],\n       [1],\n       [1],\n       [1],\n       [1],\n       [1],\n       [1],\n       [1],\n       [1],\n       [1],\n       [1],\n       [1],\n       [1],\n       [1],\n       [1],\n       [1],\n       [1],\n       [1],\n       [1],\n       [1],\n       [1],\n       [1],\n       [1],\n       [1],\n       [1],\n       [1],\n       [1],\n       [1],\n       [1],\n       [1],\n       [1],\n       [1],\n       [1],\n       [1],\n       [1],\n       [1],\n       [1],\n       [1],\n       [1],\n       [1],\n       [1],\n       [1],\n       [1],\n       [1],\n       [1],\n       [1],\n       [1],\n       [1],\n       [1],\n       [1],\n       [1],\n       [1],\n       [1],\n       [1],\n       [1],\n       [1],\n       [1],\n       [1],\n       [1],\n       [1],\n       [1],\n       [1],\n       [1],\n       [1],\n       [1],\n       [1],\n       [1],\n       [1],\n       [1],\n       [1],\n       [1],\n       [1],\n       [1],\n       [1],\n       [1],\n       [1],\n       [1],\n       [1],\n       [1],\n       [1],\n       [1],\n       [1],\n       [1],\n       [1],\n       [1],\n       [1],\n       [1],\n       [1],\n       [1],\n       [1],\n       [1],\n       [1],\n       [1],\n       [1],\n       [1],\n       [1],\n       [1],\n       [1],\n       [1],\n       [1],\n       [1],\n       [1],\n       [1],\n       [1],\n       [1],\n       [1],\n       [1],\n       [1],\n       [1],\n       [1],\n       [1],\n       [1],\n       [1],\n       [1],\n       [1],\n       [1],\n       [1],\n       [1],\n       [1],\n       [1],\n       [1],\n       [1],\n       [1],\n       [1],\n       [1],\n       [1],\n       [1],\n       [1],\n       [1],\n       [1],\n       [1],\n       [1],\n       [1],\n       [1],\n       [1],\n       [1],\n       [1],\n       [1],\n       [1],\n       [1],\n       [1],\n       [1],\n       [1],\n       [1],\n       [1],\n       [1],\n       [1],\n       [1],\n       [1],\n       [1],\n       [1],\n       [1],\n       [1],\n       [1],\n       [1],\n       [1],\n       [1],\n       [1],\n       [1],\n       [1],\n       [1],\n       [1],\n       [1],\n       [1],\n       [1],\n       [1],\n       [1],\n       [1],\n       [1],\n       [1],\n       [1],\n       [1],\n       [1],\n       [1],\n       [1],\n       [1],\n       [1],\n       [1],\n       [1],\n       [1],\n       [1],\n       [1],\n       [1],\n       [1],\n       [1],\n       [1],\n       [1],\n       [1],\n       [1],\n       [1],\n       [1],\n       [1],\n       [1],\n       [1],\n       [1],\n       [1],\n       [1],\n       [1],\n       [1],\n       [1],\n       [1],\n       [1],\n       [1],\n       [1],\n       [1],\n       [1],\n       [1],\n       [1],\n       [1],\n       [1],\n       [1],\n       [1],\n       [1],\n       [1],\n       [1],\n       [1],\n       [1],\n       [1],\n       [1],\n       [1],\n       [1],\n       [1],\n       [1],\n       [1],\n       [1],\n       [1],\n       [1],\n       [1],\n       [1],\n       [1],\n       [1],\n       [1],\n       [1],\n       [1],\n       [1],\n       [1],\n       [1],\n       [1],\n       [1],\n       [1],\n       [1],\n       [1],\n       [1],\n       [1],\n       [1],\n       [1],\n       [1],\n       [1],\n       [1],\n       [1],\n       [1],\n       [1],\n       [1],\n       [1],\n       [1],\n       [1],\n       [1],\n       [1],\n       [1],\n       [1],\n       [1],\n       [1],\n       [1],\n       [1],\n       [1],\n       [1],\n       [1],\n       [1],\n       [1],\n       [1],\n       [1],\n       [1],\n       [1],\n       [1],\n       [1],\n       [1],\n       [1],\n       [1],\n       [1],\n       [1],\n       [1],\n       [1],\n       [1],\n       [1],\n       [1],\n       [1],\n       [1],\n       [1],\n       [1],\n       [1],\n       [1],\n       [1],\n       [1],\n       [1],\n       [1],\n       [1],\n       [1],\n       [1],\n       [1],\n       [1],\n       [1],\n       [1],\n       [1],\n       [1],\n       [1],\n       [1],\n       [1],\n       [1],\n       [1],\n       [1],\n       [1],\n       [1],\n       [1],\n       [1],\n       [1],\n       [1],\n       [1],\n       [1],\n       [1],\n       [1],\n       [1],\n       [1],\n       [1],\n       [1],\n       [1],\n       [1],\n       [1],\n       [1],\n       [1],\n       [1],\n       [1],\n       [1],\n       [1],\n       [1],\n       [1],\n       [1],\n       [1],\n       [1],\n       [1],\n       [1],\n       [1],\n       [1],\n       [1],\n       [1],\n       [1],\n       [1],\n       [1],\n       [1],\n       [1],\n       [1],\n       [1],\n       [1],\n       [1],\n       [1],\n       [1],\n       [1],\n       [1],\n       [1],\n       [1],\n       [1],\n       [1],\n       [1],\n       [1],\n       [1],\n       [1],\n       [1],\n       [1],\n       [1],\n       [1],\n       [1],\n       [1],\n       [1],\n       [1],\n       [1],\n       [1],\n       [1],\n       [1],\n       [1],\n       [1],\n       [1],\n       [1],\n       [1],\n       [1],\n       [1],\n       [1],\n       [1],\n       [1],\n       [1],\n       [1],\n       [1],\n       [1],\n       [1],\n       [1],\n       [1],\n       [1],\n       [1],\n       [1],\n       [1],\n       [1],\n       [1],\n       [1],\n       [1],\n       [1],\n       [1],\n       [1],\n       [1],\n       [1],\n       [1],\n       [1],\n       [1],\n       [1],\n       [1],\n       [1],\n       [1],\n       [1],\n       [1],\n       [1],\n       [1],\n       [1],\n       [1],\n       [1],\n       [1],\n       [1],\n       [1],\n       [1],\n       [1],\n       [1],\n       [1],\n       [1],\n       [1],\n       [1],\n       [1],\n       [1],\n       [1],\n       [1],\n       [1],\n       [1],\n       [1],\n       [1],\n       [1],\n       [1],\n       [1],\n       [1],\n       [1],\n       [1],\n       [1],\n       [1],\n       [1],\n       [1],\n       [1],\n       [1],\n       [1],\n       [1],\n       [1],\n       [1],\n       [1],\n       [1],\n       [1],\n       [1],\n       [1],\n       [1],\n       [1],\n       [1],\n       [1],\n       [1],\n       [1],\n       [1],\n       [1],\n       [1],\n       [1],\n       [1],\n       [1],\n       [1],\n       [1],\n       [1],\n       [1],\n       [1],\n       [1],\n       [1],\n       [1],\n       [1],\n       [1],\n       [1],\n       [1],\n       [1],\n       [1],\n       [1],\n       [1],\n       [1],\n       [1],\n       [1],\n       [1],\n       [1],\n       [1],\n       [1],\n       [1],\n       [1],\n       [1],\n       [1],\n       [1],\n       [1],\n       [1],\n       [1],\n       [1],\n       [1],\n       [1],\n       [1],\n       [1],\n       [1],\n       [1],\n       [1],\n       [1],\n       [1],\n       [1],\n       [1],\n       [1],\n       [1],\n       [1],\n       [1],\n       [1],\n       [1],\n       [1],\n       [1],\n       [1],\n       [1],\n       [1],\n       [1],\n       [1],\n       [1],\n       [1],\n       [1],\n       [1],\n       [1],\n       [1],\n       [1],\n       [1],\n       [1],\n       [1],\n       [1],\n       [1],\n       [1],\n       [1],\n       [1],\n       [1],\n       [1],\n       [1],\n       [1],\n       [1],\n       [1],\n       [1],\n       [1]])"
     },
     "execution_count": 71,
     "metadata": {},
     "output_type": "execute_result"
    }
   ],
   "source": [
    "# Performance of the model\n",
    "y_pred = model.predict(X_test)\n",
    "y_pred = np.where(y_pred > 0.5, 1, 0)\n",
    "y_pred"
   ],
   "metadata": {
    "collapsed": false,
    "ExecuteTime": {
     "end_time": "2024-03-01T10:19:21.672309200Z",
     "start_time": "2024-03-01T10:19:21.484308900Z"
    }
   },
   "id": "9598556b8d4e6962",
   "execution_count": 71
  },
  {
   "cell_type": "code",
   "outputs": [
    {
     "data": {
      "text/plain": "array([1, 1, 1, 1, 1, 1, 1, 1, 1, 1, 1, 1, 1, 1, 1, 1, 1, 1, 1, 1, 1, 1,\n       1, 1, 1, 1, 1, 1, 1, 1, 1, 1, 1, 1, 1, 1, 1, 1, 1, 1, 1, 1, 1, 1,\n       1, 1, 1, 1, 1, 1, 1, 1, 1, 1, 1, 1, 1, 1, 1, 1, 1, 1, 1, 1, 1, 1,\n       1, 1, 1, 1, 1, 1, 1, 1, 1, 1, 1, 1, 1, 1, 1, 1, 1, 1, 1, 1, 1, 1,\n       1, 1, 1, 1, 1, 1, 1, 1, 1, 1, 1, 1, 1, 1, 1, 1, 1, 1, 1, 1, 1, 1,\n       1, 1, 1, 1, 1, 1, 1, 1, 1, 1, 1, 1, 1, 1, 1, 1, 1, 1, 1, 1, 1, 1,\n       1, 1, 1, 1, 1, 1, 1, 1, 1, 1, 1, 1, 1, 1, 1, 1, 1, 1, 1, 1, 1, 1,\n       1, 1, 1, 1, 1, 1, 1, 1, 1, 1, 1, 1, 1, 1, 1, 1, 1, 1, 1, 1, 1, 1,\n       1, 1, 1, 1, 1, 1, 1, 1, 1, 1, 1, 1, 1, 1, 1, 1, 1, 1, 1, 1, 1, 1,\n       1, 1, 1, 1, 1, 1, 1, 1, 1, 1, 1, 1, 1, 1, 1, 1, 1, 1, 1, 1, 1, 1,\n       1, 1, 1, 1, 1, 1, 1, 1, 1, 1, 1, 1, 1, 1, 1, 1, 1, 1, 1, 1, 1, 1,\n       1, 1, 1, 1, 1, 1, 1, 1, 1, 1, 1, 1, 1, 1, 1, 1, 1, 1, 1, 1, 1, 1,\n       1, 1, 1, 1, 1, 1, 1, 1, 1, 1, 1, 1, 1, 1, 1, 1, 1, 1, 1, 1, 1, 0,\n       1, 1, 1, 1, 1, 1, 1, 1, 1, 1, 1, 1, 1, 1, 1, 1, 1, 1, 1, 1, 1, 1,\n       1, 1, 1, 1, 1, 1, 1, 1, 1, 1, 1, 1, 1, 1, 1, 1, 1, 1, 1, 1, 1, 1,\n       1, 1, 1, 1, 1, 1, 1, 1, 1, 1, 1, 1, 1, 1, 1, 1, 1, 1, 1, 1, 1, 1,\n       1, 1, 1, 1, 1, 1, 1, 1, 1, 1, 1, 1, 1, 1, 1, 1, 1, 1, 1, 1, 1, 1,\n       1, 1, 1, 1, 1, 1, 1, 1, 1, 1, 1, 1, 1, 1, 1, 1, 1, 1, 1, 1, 1, 1,\n       0, 1, 1, 1, 1, 1, 1, 1, 1, 1, 1, 1, 1, 1, 1, 1, 1, 1, 1, 1, 1, 1,\n       1, 1, 1, 1, 1, 1, 1, 1, 1, 1, 1, 1, 1, 1, 1, 1, 1, 1, 1, 1, 1, 1,\n       1, 1, 1, 1, 1, 1, 1, 1, 1, 1, 1, 1, 1, 1, 1, 1, 1, 1, 1, 1, 1, 1,\n       1, 1, 1, 1, 1, 1, 1, 1, 1, 1, 1, 1, 1, 1, 1, 1, 1, 1, 1, 1, 1, 1,\n       1, 1, 1, 1, 1, 1, 1, 1, 1, 1, 1, 1, 1, 1, 1, 1, 1, 1, 1, 1, 1, 1,\n       1, 1, 1, 1, 1, 1, 1, 1, 1, 1, 1, 1, 1, 1, 1, 1, 1, 1, 1, 1, 1, 1,\n       1, 1, 1, 1, 1, 1, 1, 1, 1, 1, 1, 1, 1, 1, 1, 1, 1, 1, 1, 1, 1, 1,\n       1, 1, 1, 1, 1, 1, 1, 0, 1, 1, 1, 1, 1, 1, 1, 1, 1, 1, 1, 1, 1, 1,\n       1, 1, 1, 1, 1, 1, 1, 1, 1, 1, 1, 1, 1, 1, 1, 1, 1, 1, 1, 1, 1, 1,\n       1, 1, 1, 1, 1, 1, 1, 1, 1, 1, 1, 1, 1, 1, 1, 1, 1, 1, 1, 1, 1, 1,\n       1, 1, 1, 1, 1, 1, 1, 1, 1, 1, 1, 1, 1, 1, 1, 1, 1, 1, 1, 1, 1, 1,\n       1, 1, 1, 1, 1, 1, 1, 1, 1, 1, 1, 1, 1, 1, 1, 1, 1, 1, 1, 1, 1, 1,\n       1, 1, 1, 1, 1, 1, 1, 1, 1, 1, 1, 1, 1, 1, 1, 1, 1, 1, 1, 1, 1, 1,\n       1, 1, 1, 1, 1, 1, 1, 1, 1, 1, 1, 1, 1, 1, 1, 1, 1, 1, 1, 1, 1, 1,\n       1, 1, 1, 1, 1, 1, 1, 1, 1, 1, 1, 1, 1, 1, 1, 1, 1, 1, 1, 1, 1, 1,\n       1, 1, 1, 1, 1, 1, 1, 1, 1, 1, 1, 1, 1, 1, 1, 1, 1, 1, 1, 1, 1, 1,\n       1, 1, 1, 1, 1, 1, 1, 1, 1, 1, 1, 1, 1, 1, 1, 1, 1, 1, 1, 1, 1, 1,\n       1, 1, 1, 1, 1, 1, 1, 1, 1, 1, 1, 1, 1, 1, 1, 1, 1, 1, 1, 1, 1, 1,\n       1, 1, 1, 1, 1, 1, 1, 1, 1, 1, 1, 1, 1, 1, 1, 1, 1, 1, 1, 1, 1, 1,\n       1, 1, 1, 1, 1, 1, 1, 1, 1, 1, 1, 1, 1, 1, 1, 1, 1, 1, 1, 1, 1, 1,\n       1, 1, 1, 1, 1, 1, 1, 1, 1, 1, 1, 1, 1, 1, 1, 1, 1, 1, 1, 1, 1, 1,\n       1, 1, 1, 1, 1, 1, 1, 1, 1, 1, 1, 1, 1, 1, 1, 1, 1, 1, 1, 1, 1, 1,\n       1, 1, 1, 1, 1, 1, 1])"
     },
     "execution_count": 72,
     "metadata": {},
     "output_type": "execute_result"
    }
   ],
   "source": [
    "Y_test = np.array(Y_test)\n",
    "Y_test = np.where(Y_test > 0.5, 1, 0)\n",
    "Y_test"
   ],
   "metadata": {
    "collapsed": false,
    "ExecuteTime": {
     "end_time": "2024-03-01T10:19:24.153229800Z",
     "start_time": "2024-03-01T10:19:24.134690200Z"
    }
   },
   "id": "1a56cd5c9c6f29c8",
   "execution_count": 72
  },
  {
   "cell_type": "code",
   "outputs": [
    {
     "data": {
      "text/plain": "0.9966178128523112"
     },
     "execution_count": 73,
     "metadata": {},
     "output_type": "execute_result"
    }
   ],
   "source": [
    "# Accuracy of the model\n",
    "from sklearn.metrics import accuracy_score\n",
    "accuracy = accuracy_score(Y_test, y_pred)\n",
    "accuracy"
   ],
   "metadata": {
    "collapsed": false,
    "ExecuteTime": {
     "end_time": "2024-03-01T10:19:25.945652700Z",
     "start_time": "2024-03-01T10:19:25.913610800Z"
    }
   },
   "id": "179b54eb53288315",
   "execution_count": 73
  },
  {
   "cell_type": "code",
   "outputs": [
    {
     "data": {
      "text/plain": "<Axes: >"
     },
     "execution_count": 74,
     "metadata": {},
     "output_type": "execute_result"
    },
    {
     "data": {
      "text/plain": "<Figure size 640x480 with 1 Axes>",
      "image/png": "[encoded data removed]"
     },
     "metadata": {},
     "output_type": "display_data"
    }
   ],
   "source": [
    "# Plotting the accuracy variable using seaborn library with label\n",
    "import seaborn as sns\n",
    "sns.set()\n",
    "sns.lineplot(x=history.epoch, y=history.history['accuracy'], label='Accuracy')\n",
    "sns.lineplot(x=history.epoch, y=history.history['val_accuracy'], label='Validation Accuracy')"
   ],
   "metadata": {
    "collapsed": false,
    "ExecuteTime": {
     "end_time": "2024-03-01T10:19:28.806845800Z",
     "start_time": "2024-03-01T10:19:28.657473400Z"
    }
   },
   "id": "1d3ef28d1e066ee8",
   "execution_count": 74
  },
  {
   "cell_type": "code",
   "outputs": [
    {
     "data": {
      "text/plain": "<Axes: >"
     },
     "execution_count": 75,
     "metadata": {},
     "output_type": "execute_result"
    },
    {
     "data": {
      "text/plain": "<Figure size 640x480 with 1 Axes>",
      "image/png": "[encoded data removed]"
     },
     "metadata": {},
     "output_type": "display_data"
    }
   ],
   "source": [
    "# Plotting the loss variable using seaborn library with label\n",
    "sns.lineplot(x=history.epoch, y=history.history['loss'], label='Loss')\n",
    "sns.lineplot(x=history.epoch, y=history.history['val_loss'], label='Validation Loss')"
   ],
   "metadata": {
    "collapsed": false,
    "ExecuteTime": {
     "end_time": "2024-03-01T10:19:31.136650800Z",
     "start_time": "2024-03-01T10:19:30.993687700Z"
    }
   },
   "id": "fc1cdc54355c9f7d",
   "execution_count": 75
  }
 ],
 "metadata": {
  "kernelspec": {
   "display_name": "Python 3",
   "language": "python",
   "name": "python3"
  },
  "language_info": {
   "codemirror_mode": {
    "name": "ipython",
    "version": 2
   },
   "file_extension": ".py",
   "mimetype": "text/x-python",
   "name": "python",
   "nbconvert_exporter": "python",
   "pygments_lexer": "ipython2",
   "version": "2.7.6"
  }
 },
 "nbformat": 4,
 "nbformat_minor": 5
}
