{
 "cells": [
  {
   "cell_type": "code",
   "execution_count": 1,
   "id": "initial_id",
   "metadata": {
    "collapsed": true,
    "ExecuteTime": {
     "end_time": "2024-03-01T06:27:04.253351400Z",
     "start_time": "2024-03-01T06:27:04.238351900Z"
    }
   },
   "outputs": [],
   "source": [
    "# Building the Stock Predication Model for 2023 using RNN Neural Network"
   ]
  },
  {
   "cell_type": "code",
   "outputs": [],
   "source": [
    "# Importing pandas\n",
    "import pandas as pd"
   ],
   "metadata": {
    "collapsed": false,
    "ExecuteTime": {
     "end_time": "2024-03-01T09:45:25.859741700Z",
     "start_time": "2024-03-01T09:45:25.844715700Z"
    }
   },
   "id": "c3a4dc2b45316190",
   "execution_count": 157
  },
  {
   "cell_type": "code",
   "outputs": [],
   "source": [
    "# Reading xlsx file using pandas\n",
    "df = pd.read_excel('Stocks.xlsx')"
   ],
   "metadata": {
    "collapsed": false,
    "ExecuteTime": {
     "end_time": "2024-03-01T09:45:27.916330100Z",
     "start_time": "2024-03-01T09:45:27.188775600Z"
    }
   },
   "id": "e27025b0270f9b53",
   "execution_count": 158
  },
  {
   "cell_type": "code",
   "outputs": [
    {
     "data": {
      "text/plain": "      S.No.           SECTOR              Name  CMP Rs.     P/E  \\\n0         1         Trading      Adani Enterp.  2251.25   98.52   \n1         2         Trading     Mankind Pharma  1801.00   51.05   \n2         3         Trading          Redington   151.40    9.56   \n3         4         Trading    Aegis Logistics   294.55   20.31   \n4         5         Trading               MMTC    54.54   17.96   \n...     ...              ...               ...      ...     ...   \n4427   4428  Agro Chemicals   Crop Life Scienc    40.60   25.03   \n4428   4429  Agro Chemicals    Aristo Bio-Tech    85.00   16.26   \n4429   4430  Agro Chemicals    Super Crop Safe     9.28   24.71   \n4430   4431  Agro Chemicals   Bhaskar Agrochem    40.50  150.72   \n4431   4432  Agro Chemicals     Phyto Chem (I)    43.00     NaN   \n\n      Mar Cap Rs.Cr.   Div Yld %  NP Qtr Rs.Cr.  Qtr Profit Var %  \\\n0           256642.75       0.05         333.34            -40.38   \n1            72145.99       0.00         472.88             12.53   \n2            11834.76       4.79         311.64            -21.58   \n3            10338.72       1.96         150.01             35.97   \n4             8181.00       0.00          14.66             80.33   \n...               ...        ...            ...               ...   \n4427            69.59       0.00            NaN               NaN   \n4428            57.86       0.30           1.00               NaN   \n4429            37.32       0.00           0.18            148.65   \n4430            21.10       0.00          -2.03             -4.64   \n4431            18.49       0.00          -0.16           -108.08   \n\n      Sales Qtr Rs.Cr.  Qtr Sales Var %  ROCE %  6mth return %  3mth return %  \\\n0             22517.33           -41.02    9.49          13.17         -10.41   \n1              2453.35             8.67   20.70          27.66          -2.31   \n2             22220.15            16.64   24.92         -15.78          -5.85   \n3              1234.86           -42.58   15.90         -24.06         -20.57   \n4               214.47           -85.81   23.01          75.45          41.42   \n...                ...              ...     ...            ...            ...   \n4427               NaN              NaN   10.65            NaN            NaN   \n4428             88.81              NaN   16.11          39.24          15.60   \n4429              5.81            35.43    6.22          82.98           1.28   \n4430              7.33            36.75   12.22         -39.60         -31.54   \n4431              7.21           -42.18    7.55           4.88           8.79   \n\n        PEG  Current ratio  EV Rs.Cr.  CMP / FCF  CMP / Sales  \n0      3.60           0.80  306948.71    -116.58         2.42  \n1      4.29           2.86   71944.25     332.81         8.43  \n2      0.40           1.37   13883.59      37.51         0.14  \n3      1.12           3.86   10953.67    -147.89         1.36  \n4      0.37           1.48    7037.57       9.99         3.67  \n...     ...            ...        ...        ...          ...  \n4427    NaN           1.47      89.05     216.96         0.74  \n4428 -16.59           1.40      78.50     -63.05         0.27  \n4429  -0.90           1.65      54.28      99.93         1.55  \n4430 -15.04           1.03      36.61     -23.49         0.37  \n4431    NaN           1.32      34.67      10.71         0.89  \n\n[4432 rows x 19 columns]",
      "text/html": "<div>\n<style scoped>\n    .dataframe tbody tr th:only-of-type {\n        vertical-align: middle;\n    }\n\n    .dataframe tbody tr th {\n        vertical-align: top;\n    }\n\n    .dataframe thead th {\n        text-align: right;\n    }\n</style>\n<table border=\"1\" class=\"dataframe\">\n  <thead>\n    <tr style=\"text-align: right;\">\n      <th></th>\n      <th>S.No.</th>\n      <th>SECTOR</th>\n      <th>Name</th>\n      <th>CMP Rs.</th>\n      <th>P/E</th>\n      <th>Mar Cap Rs.Cr.</th>\n      <th>Div Yld %</th>\n      <th>NP Qtr Rs.Cr.</th>\n      <th>Qtr Profit Var %</th>\n      <th>Sales Qtr Rs.Cr.</th>\n      <th>Qtr Sales Var %</th>\n      <th>ROCE %</th>\n      <th>6mth return %</th>\n      <th>3mth return %</th>\n      <th>PEG</th>\n      <th>Current ratio</th>\n      <th>EV Rs.Cr.</th>\n      <th>CMP / FCF</th>\n      <th>CMP / Sales</th>\n    </tr>\n  </thead>\n  <tbody>\n    <tr>\n      <th>0</th>\n      <td>1</td>\n      <td>Trading</td>\n      <td>Adani Enterp.</td>\n      <td>2251.25</td>\n      <td>98.52</td>\n      <td>256642.75</td>\n      <td>0.05</td>\n      <td>333.34</td>\n      <td>-40.38</td>\n      <td>22517.33</td>\n      <td>-41.02</td>\n      <td>9.49</td>\n      <td>13.17</td>\n      <td>-10.41</td>\n      <td>3.60</td>\n      <td>0.80</td>\n      <td>306948.71</td>\n      <td>-116.58</td>\n      <td>2.42</td>\n    </tr>\n    <tr>\n      <th>1</th>\n      <td>2</td>\n      <td>Trading</td>\n      <td>Mankind Pharma</td>\n      <td>1801.00</td>\n      <td>51.05</td>\n      <td>72145.99</td>\n      <td>0.00</td>\n      <td>472.88</td>\n      <td>12.53</td>\n      <td>2453.35</td>\n      <td>8.67</td>\n      <td>20.70</td>\n      <td>27.66</td>\n      <td>-2.31</td>\n      <td>4.29</td>\n      <td>2.86</td>\n      <td>71944.25</td>\n      <td>332.81</td>\n      <td>8.43</td>\n    </tr>\n    <tr>\n      <th>2</th>\n      <td>3</td>\n      <td>Trading</td>\n      <td>Redington</td>\n      <td>151.40</td>\n      <td>9.56</td>\n      <td>11834.76</td>\n      <td>4.79</td>\n      <td>311.64</td>\n      <td>-21.58</td>\n      <td>22220.15</td>\n      <td>16.64</td>\n      <td>24.92</td>\n      <td>-15.78</td>\n      <td>-5.85</td>\n      <td>0.40</td>\n      <td>1.37</td>\n      <td>13883.59</td>\n      <td>37.51</td>\n      <td>0.14</td>\n    </tr>\n    <tr>\n      <th>3</th>\n      <td>4</td>\n      <td>Trading</td>\n      <td>Aegis Logistics</td>\n      <td>294.55</td>\n      <td>20.31</td>\n      <td>10338.72</td>\n      <td>1.96</td>\n      <td>150.01</td>\n      <td>35.97</td>\n      <td>1234.86</td>\n      <td>-42.58</td>\n      <td>15.90</td>\n      <td>-24.06</td>\n      <td>-20.57</td>\n      <td>1.12</td>\n      <td>3.86</td>\n      <td>10953.67</td>\n      <td>-147.89</td>\n      <td>1.36</td>\n    </tr>\n    <tr>\n      <th>4</th>\n      <td>5</td>\n      <td>Trading</td>\n      <td>MMTC</td>\n      <td>54.54</td>\n      <td>17.96</td>\n      <td>8181.00</td>\n      <td>0.00</td>\n      <td>14.66</td>\n      <td>80.33</td>\n      <td>214.47</td>\n      <td>-85.81</td>\n      <td>23.01</td>\n      <td>75.45</td>\n      <td>41.42</td>\n      <td>0.37</td>\n      <td>1.48</td>\n      <td>7037.57</td>\n      <td>9.99</td>\n      <td>3.67</td>\n    </tr>\n    <tr>\n      <th>...</th>\n      <td>...</td>\n      <td>...</td>\n      <td>...</td>\n      <td>...</td>\n      <td>...</td>\n      <td>...</td>\n      <td>...</td>\n      <td>...</td>\n      <td>...</td>\n      <td>...</td>\n      <td>...</td>\n      <td>...</td>\n      <td>...</td>\n      <td>...</td>\n      <td>...</td>\n      <td>...</td>\n      <td>...</td>\n      <td>...</td>\n      <td>...</td>\n    </tr>\n    <tr>\n      <th>4427</th>\n      <td>4428</td>\n      <td>Agro Chemicals</td>\n      <td>Crop Life Scienc</td>\n      <td>40.60</td>\n      <td>25.03</td>\n      <td>69.59</td>\n      <td>0.00</td>\n      <td>NaN</td>\n      <td>NaN</td>\n      <td>NaN</td>\n      <td>NaN</td>\n      <td>10.65</td>\n      <td>NaN</td>\n      <td>NaN</td>\n      <td>NaN</td>\n      <td>1.47</td>\n      <td>89.05</td>\n      <td>216.96</td>\n      <td>0.74</td>\n    </tr>\n    <tr>\n      <th>4428</th>\n      <td>4429</td>\n      <td>Agro Chemicals</td>\n      <td>Aristo Bio-Tech</td>\n      <td>85.00</td>\n      <td>16.26</td>\n      <td>57.86</td>\n      <td>0.30</td>\n      <td>1.00</td>\n      <td>NaN</td>\n      <td>88.81</td>\n      <td>NaN</td>\n      <td>16.11</td>\n      <td>39.24</td>\n      <td>15.60</td>\n      <td>-16.59</td>\n      <td>1.40</td>\n      <td>78.50</td>\n      <td>-63.05</td>\n      <td>0.27</td>\n    </tr>\n    <tr>\n      <th>4429</th>\n      <td>4430</td>\n      <td>Agro Chemicals</td>\n      <td>Super Crop Safe</td>\n      <td>9.28</td>\n      <td>24.71</td>\n      <td>37.32</td>\n      <td>0.00</td>\n      <td>0.18</td>\n      <td>148.65</td>\n      <td>5.81</td>\n      <td>35.43</td>\n      <td>6.22</td>\n      <td>82.98</td>\n      <td>1.28</td>\n      <td>-0.90</td>\n      <td>1.65</td>\n      <td>54.28</td>\n      <td>99.93</td>\n      <td>1.55</td>\n    </tr>\n    <tr>\n      <th>4430</th>\n      <td>4431</td>\n      <td>Agro Chemicals</td>\n      <td>Bhaskar Agrochem</td>\n      <td>40.50</td>\n      <td>150.72</td>\n      <td>21.10</td>\n      <td>0.00</td>\n      <td>-2.03</td>\n      <td>-4.64</td>\n      <td>7.33</td>\n      <td>36.75</td>\n      <td>12.22</td>\n      <td>-39.60</td>\n      <td>-31.54</td>\n      <td>-15.04</td>\n      <td>1.03</td>\n      <td>36.61</td>\n      <td>-23.49</td>\n      <td>0.37</td>\n    </tr>\n    <tr>\n      <th>4431</th>\n      <td>4432</td>\n      <td>Agro Chemicals</td>\n      <td>Phyto Chem (I)</td>\n      <td>43.00</td>\n      <td>NaN</td>\n      <td>18.49</td>\n      <td>0.00</td>\n      <td>-0.16</td>\n      <td>-108.08</td>\n      <td>7.21</td>\n      <td>-42.18</td>\n      <td>7.55</td>\n      <td>4.88</td>\n      <td>8.79</td>\n      <td>NaN</td>\n      <td>1.32</td>\n      <td>34.67</td>\n      <td>10.71</td>\n      <td>0.89</td>\n    </tr>\n  </tbody>\n</table>\n<p>4432 rows × 19 columns</p>\n</div>"
     },
     "execution_count": 159,
     "metadata": {},
     "output_type": "execute_result"
    }
   ],
   "source": [
    "df"
   ],
   "metadata": {
    "collapsed": false,
    "ExecuteTime": {
     "end_time": "2024-03-01T09:45:28.730297600Z",
     "start_time": "2024-03-01T09:45:28.700437300Z"
    }
   },
   "id": "d1404692fb1f4aa6",
   "execution_count": 159
  },
  {
   "cell_type": "code",
   "outputs": [
    {
     "data": {
      "text/plain": "      S.No.              Name  CMP Rs.     P/E  Mar Cap Rs.Cr.   Div Yld %  \\\n0         1     Adani Enterp.  2251.25   98.52        256642.75       0.05   \n1         2    Mankind Pharma  1801.00   51.05         72145.99       0.00   \n2         3         Redington   151.40    9.56         11834.76       4.79   \n3         4   Aegis Logistics   294.55   20.31         10338.72       1.96   \n4         5              MMTC    54.54   17.96          8181.00       0.00   \n...     ...               ...      ...     ...              ...        ...   \n4427   4428  Crop Life Scienc    40.60   25.03            69.59       0.00   \n4428   4429   Aristo Bio-Tech    85.00   16.26            57.86       0.30   \n4429   4430   Super Crop Safe     9.28   24.71            37.32       0.00   \n4430   4431  Bhaskar Agrochem    40.50  150.72            21.10       0.00   \n4431   4432    Phyto Chem (I)    43.00     NaN            18.49       0.00   \n\n      NP Qtr Rs.Cr.  Qtr Profit Var %  Sales Qtr Rs.Cr.  Qtr Sales Var %  \\\n0            333.34            -40.38          22517.33           -41.02   \n1            472.88             12.53           2453.35             8.67   \n2            311.64            -21.58          22220.15            16.64   \n3            150.01             35.97           1234.86           -42.58   \n4             14.66             80.33            214.47           -85.81   \n...             ...               ...               ...              ...   \n4427            NaN               NaN               NaN              NaN   \n4428           1.00               NaN             88.81              NaN   \n4429           0.18            148.65              5.81            35.43   \n4430          -2.03             -4.64              7.33            36.75   \n4431          -0.16           -108.08              7.21           -42.18   \n\n      ROCE %  6mth return %  3mth return %    PEG  Current ratio  EV Rs.Cr.  \\\n0       9.49          13.17         -10.41   3.60           0.80  306948.71   \n1      20.70          27.66          -2.31   4.29           2.86   71944.25   \n2      24.92         -15.78          -5.85   0.40           1.37   13883.59   \n3      15.90         -24.06         -20.57   1.12           3.86   10953.67   \n4      23.01          75.45          41.42   0.37           1.48    7037.57   \n...      ...            ...            ...    ...            ...        ...   \n4427   10.65            NaN            NaN    NaN           1.47      89.05   \n4428   16.11          39.24          15.60 -16.59           1.40      78.50   \n4429    6.22          82.98           1.28  -0.90           1.65      54.28   \n4430   12.22         -39.60         -31.54 -15.04           1.03      36.61   \n4431    7.55           4.88           8.79    NaN           1.32      34.67   \n\n      CMP / FCF  CMP / Sales  \n0       -116.58         2.42  \n1        332.81         8.43  \n2         37.51         0.14  \n3       -147.89         1.36  \n4          9.99         3.67  \n...         ...          ...  \n4427     216.96         0.74  \n4428     -63.05         0.27  \n4429      99.93         1.55  \n4430     -23.49         0.37  \n4431      10.71         0.89  \n\n[4432 rows x 18 columns]",
      "text/html": "<div>\n<style scoped>\n    .dataframe tbody tr th:only-of-type {\n        vertical-align: middle;\n    }\n\n    .dataframe tbody tr th {\n        vertical-align: top;\n    }\n\n    .dataframe thead th {\n        text-align: right;\n    }\n</style>\n<table border=\"1\" class=\"dataframe\">\n  <thead>\n    <tr style=\"text-align: right;\">\n      <th></th>\n      <th>S.No.</th>\n      <th>Name</th>\n      <th>CMP Rs.</th>\n      <th>P/E</th>\n      <th>Mar Cap Rs.Cr.</th>\n      <th>Div Yld %</th>\n      <th>NP Qtr Rs.Cr.</th>\n      <th>Qtr Profit Var %</th>\n      <th>Sales Qtr Rs.Cr.</th>\n      <th>Qtr Sales Var %</th>\n      <th>ROCE %</th>\n      <th>6mth return %</th>\n      <th>3mth return %</th>\n      <th>PEG</th>\n      <th>Current ratio</th>\n      <th>EV Rs.Cr.</th>\n      <th>CMP / FCF</th>\n      <th>CMP / Sales</th>\n    </tr>\n  </thead>\n  <tbody>\n    <tr>\n      <th>0</th>\n      <td>1</td>\n      <td>Adani Enterp.</td>\n      <td>2251.25</td>\n      <td>98.52</td>\n      <td>256642.75</td>\n      <td>0.05</td>\n      <td>333.34</td>\n      <td>-40.38</td>\n      <td>22517.33</td>\n      <td>-41.02</td>\n      <td>9.49</td>\n      <td>13.17</td>\n      <td>-10.41</td>\n      <td>3.60</td>\n      <td>0.80</td>\n      <td>306948.71</td>\n      <td>-116.58</td>\n      <td>2.42</td>\n    </tr>\n    <tr>\n      <th>1</th>\n      <td>2</td>\n      <td>Mankind Pharma</td>\n      <td>1801.00</td>\n      <td>51.05</td>\n      <td>72145.99</td>\n      <td>0.00</td>\n      <td>472.88</td>\n      <td>12.53</td>\n      <td>2453.35</td>\n      <td>8.67</td>\n      <td>20.70</td>\n      <td>27.66</td>\n      <td>-2.31</td>\n      <td>4.29</td>\n      <td>2.86</td>\n      <td>71944.25</td>\n      <td>332.81</td>\n      <td>8.43</td>\n    </tr>\n    <tr>\n      <th>2</th>\n      <td>3</td>\n      <td>Redington</td>\n      <td>151.40</td>\n      <td>9.56</td>\n      <td>11834.76</td>\n      <td>4.79</td>\n      <td>311.64</td>\n      <td>-21.58</td>\n      <td>22220.15</td>\n      <td>16.64</td>\n      <td>24.92</td>\n      <td>-15.78</td>\n      <td>-5.85</td>\n      <td>0.40</td>\n      <td>1.37</td>\n      <td>13883.59</td>\n      <td>37.51</td>\n      <td>0.14</td>\n    </tr>\n    <tr>\n      <th>3</th>\n      <td>4</td>\n      <td>Aegis Logistics</td>\n      <td>294.55</td>\n      <td>20.31</td>\n      <td>10338.72</td>\n      <td>1.96</td>\n      <td>150.01</td>\n      <td>35.97</td>\n      <td>1234.86</td>\n      <td>-42.58</td>\n      <td>15.90</td>\n      <td>-24.06</td>\n      <td>-20.57</td>\n      <td>1.12</td>\n      <td>3.86</td>\n      <td>10953.67</td>\n      <td>-147.89</td>\n      <td>1.36</td>\n    </tr>\n    <tr>\n      <th>4</th>\n      <td>5</td>\n      <td>MMTC</td>\n      <td>54.54</td>\n      <td>17.96</td>\n      <td>8181.00</td>\n      <td>0.00</td>\n      <td>14.66</td>\n      <td>80.33</td>\n      <td>214.47</td>\n      <td>-85.81</td>\n      <td>23.01</td>\n      <td>75.45</td>\n      <td>41.42</td>\n      <td>0.37</td>\n      <td>1.48</td>\n      <td>7037.57</td>\n      <td>9.99</td>\n      <td>3.67</td>\n    </tr>\n    <tr>\n      <th>...</th>\n      <td>...</td>\n      <td>...</td>\n      <td>...</td>\n      <td>...</td>\n      <td>...</td>\n      <td>...</td>\n      <td>...</td>\n      <td>...</td>\n      <td>...</td>\n      <td>...</td>\n      <td>...</td>\n      <td>...</td>\n      <td>...</td>\n      <td>...</td>\n      <td>...</td>\n      <td>...</td>\n      <td>...</td>\n      <td>...</td>\n    </tr>\n    <tr>\n      <th>4427</th>\n      <td>4428</td>\n      <td>Crop Life Scienc</td>\n      <td>40.60</td>\n      <td>25.03</td>\n      <td>69.59</td>\n      <td>0.00</td>\n      <td>NaN</td>\n      <td>NaN</td>\n      <td>NaN</td>\n      <td>NaN</td>\n      <td>10.65</td>\n      <td>NaN</td>\n      <td>NaN</td>\n      <td>NaN</td>\n      <td>1.47</td>\n      <td>89.05</td>\n      <td>216.96</td>\n      <td>0.74</td>\n    </tr>\n    <tr>\n      <th>4428</th>\n      <td>4429</td>\n      <td>Aristo Bio-Tech</td>\n      <td>85.00</td>\n      <td>16.26</td>\n      <td>57.86</td>\n      <td>0.30</td>\n      <td>1.00</td>\n      <td>NaN</td>\n      <td>88.81</td>\n      <td>NaN</td>\n      <td>16.11</td>\n      <td>39.24</td>\n      <td>15.60</td>\n      <td>-16.59</td>\n      <td>1.40</td>\n      <td>78.50</td>\n      <td>-63.05</td>\n      <td>0.27</td>\n    </tr>\n    <tr>\n      <th>4429</th>\n      <td>4430</td>\n      <td>Super Crop Safe</td>\n      <td>9.28</td>\n      <td>24.71</td>\n      <td>37.32</td>\n      <td>0.00</td>\n      <td>0.18</td>\n      <td>148.65</td>\n      <td>5.81</td>\n      <td>35.43</td>\n      <td>6.22</td>\n      <td>82.98</td>\n      <td>1.28</td>\n      <td>-0.90</td>\n      <td>1.65</td>\n      <td>54.28</td>\n      <td>99.93</td>\n      <td>1.55</td>\n    </tr>\n    <tr>\n      <th>4430</th>\n      <td>4431</td>\n      <td>Bhaskar Agrochem</td>\n      <td>40.50</td>\n      <td>150.72</td>\n      <td>21.10</td>\n      <td>0.00</td>\n      <td>-2.03</td>\n      <td>-4.64</td>\n      <td>7.33</td>\n      <td>36.75</td>\n      <td>12.22</td>\n      <td>-39.60</td>\n      <td>-31.54</td>\n      <td>-15.04</td>\n      <td>1.03</td>\n      <td>36.61</td>\n      <td>-23.49</td>\n      <td>0.37</td>\n    </tr>\n    <tr>\n      <th>4431</th>\n      <td>4432</td>\n      <td>Phyto Chem (I)</td>\n      <td>43.00</td>\n      <td>NaN</td>\n      <td>18.49</td>\n      <td>0.00</td>\n      <td>-0.16</td>\n      <td>-108.08</td>\n      <td>7.21</td>\n      <td>-42.18</td>\n      <td>7.55</td>\n      <td>4.88</td>\n      <td>8.79</td>\n      <td>NaN</td>\n      <td>1.32</td>\n      <td>34.67</td>\n      <td>10.71</td>\n      <td>0.89</td>\n    </tr>\n  </tbody>\n</table>\n<p>4432 rows × 18 columns</p>\n</div>"
     },
     "execution_count": 160,
     "metadata": {},
     "output_type": "execute_result"
    }
   ],
   "source": [
    "# Dropping SECTOR column\n",
    "df = df.drop(['SECTOR'], axis=1)\n",
    "df"
   ],
   "metadata": {
    "collapsed": false,
    "ExecuteTime": {
     "end_time": "2024-03-01T09:45:34.593125300Z",
     "start_time": "2024-03-01T09:45:34.565967400Z"
    }
   },
   "id": "9bac5cacd7160252",
   "execution_count": 160
  },
  {
   "cell_type": "code",
   "outputs": [
    {
     "data": {
      "text/plain": "S.No.                  0\nName                   0\nCMP Rs.                0\nP/E                 1191\nMar Cap Rs.Cr.         0\nDiv Yld %             20\nNP Qtr Rs.Cr.         81\nQtr Profit Var %     512\nSales Qtr Rs.Cr.      81\nQtr Sales Var %      853\nROCE %               161\n6mth return %        191\n3mth return %        120\nPEG                 1772\nCurrent ratio         27\nEV Rs.Cr.              9\nCMP / FCF            157\nCMP / Sales          286\ndtype: int64"
     },
     "execution_count": 161,
     "metadata": {},
     "output_type": "execute_result"
    }
   ],
   "source": [
    "# Viewing null columns\n",
    "df.isnull().sum()"
   ],
   "metadata": {
    "collapsed": false,
    "ExecuteTime": {
     "end_time": "2024-03-01T09:45:39.330605600Z",
     "start_time": "2024-03-01T09:45:39.305582600Z"
    }
   },
   "id": "9b86539d606cda",
   "execution_count": 161
  },
  {
   "cell_type": "code",
   "outputs": [],
   "source": [
    "# Inserting mean values to each  null cells\n",
    "df['P/E'] = df['P/E'].fillna(df['P/E'].mean())\n",
    "df['Div Yld\\xa0%'] = df['Div Yld\\xa0%'].fillna(df['Div Yld\\xa0%'].mean())\n",
    "df['NP Qtr\\xa0Rs.Cr.'] = df['NP Qtr\\xa0Rs.Cr.'].fillna(df['NP Qtr\\xa0Rs.Cr.'].mean())\n",
    "df['Qtr Profit Var\\xa0%'] = df['Qtr Profit Var\\xa0%'].fillna(df['Qtr Profit Var\\xa0%'].mean())\n",
    "df['Sales Qtr\\xa0Rs.Cr.'] = df['Sales Qtr\\xa0Rs.Cr.'].fillna(df['Sales Qtr\\xa0Rs.Cr.'].mean())\n",
    "df['Qtr Sales Var\\xa0%'] = df['Qtr Sales Var\\xa0%'].fillna(df['Qtr Sales Var\\xa0%'].mean())"
   ],
   "metadata": {
    "collapsed": false,
    "ExecuteTime": {
     "end_time": "2024-03-01T09:45:42.729134800Z",
     "start_time": "2024-03-01T09:45:42.707700700Z"
    }
   },
   "id": "5e0d5b8c04143823",
   "execution_count": 162
  },
  {
   "cell_type": "code",
   "outputs": [
    {
     "data": {
      "text/plain": "      S.No.              Name  CMP Rs.         P/E  Mar Cap Rs.Cr.   \\\n0         1     Adani Enterp.  2251.25   98.520000        256642.75   \n1         2    Mankind Pharma  1801.00   51.050000         72145.99   \n2         3         Redington   151.40    9.560000         11834.76   \n3         4   Aegis Logistics   294.55   20.310000         10338.72   \n4         5              MMTC    54.54   17.960000          8181.00   \n...     ...               ...      ...         ...              ...   \n4427   4428  Crop Life Scienc    40.60   25.030000            69.59   \n4428   4429   Aristo Bio-Tech    85.00   16.260000            57.86   \n4429   4430   Super Crop Safe     9.28   24.710000            37.32   \n4430   4431  Bhaskar Agrochem    40.50  150.720000            21.10   \n4431   4432    Phyto Chem (I)    43.00   84.714391            18.49   \n\n      Div Yld %  NP Qtr Rs.Cr.  Qtr Profit Var %  Sales Qtr Rs.Cr.  \\\n0          0.05     333.340000        -40.380000      22517.330000   \n1          0.00     472.880000         12.530000       2453.350000   \n2          4.79     311.640000        -21.580000      22220.150000   \n3          1.96     150.010000         35.970000       1234.860000   \n4          0.00      14.660000         80.330000        214.470000   \n...         ...            ...               ...               ...   \n4427       0.00      86.080246        218.801107        972.092868   \n4428       0.30       1.000000        218.801107         88.810000   \n4429       0.00       0.180000        148.650000          5.810000   \n4430       0.00      -2.030000         -4.640000          7.330000   \n4431       0.00      -0.160000       -108.080000          7.210000   \n\n      Qtr Sales Var %  ROCE %  6mth return %  3mth return %    PEG  \\\n0          -41.020000    9.49          13.17         -10.41   3.60   \n1            8.670000   20.70          27.66          -2.31   4.29   \n2           16.640000   24.92         -15.78          -5.85   0.40   \n3          -42.580000   15.90         -24.06         -20.57   1.12   \n4          -85.810000   23.01          75.45          41.42   0.37   \n...               ...     ...            ...            ...    ...   \n4427       260.598919   10.65            NaN            NaN    NaN   \n4428       260.598919   16.11          39.24          15.60 -16.59   \n4429        35.430000    6.22          82.98           1.28  -0.90   \n4430        36.750000   12.22         -39.60         -31.54 -15.04   \n4431       -42.180000    7.55           4.88           8.79    NaN   \n\n      Current ratio  EV Rs.Cr.  CMP / FCF  CMP / Sales  \n0              0.80  306948.71    -116.58         2.42  \n1              2.86   71944.25     332.81         8.43  \n2              1.37   13883.59      37.51         0.14  \n3              3.86   10953.67    -147.89         1.36  \n4              1.48    7037.57       9.99         3.67  \n...             ...        ...        ...          ...  \n4427           1.47      89.05     216.96         0.74  \n4428           1.40      78.50     -63.05         0.27  \n4429           1.65      54.28      99.93         1.55  \n4430           1.03      36.61     -23.49         0.37  \n4431           1.32      34.67      10.71         0.89  \n\n[4432 rows x 18 columns]",
      "text/html": "<div>\n<style scoped>\n    .dataframe tbody tr th:only-of-type {\n        vertical-align: middle;\n    }\n\n    .dataframe tbody tr th {\n        vertical-align: top;\n    }\n\n    .dataframe thead th {\n        text-align: right;\n    }\n</style>\n<table border=\"1\" class=\"dataframe\">\n  <thead>\n    <tr style=\"text-align: right;\">\n      <th></th>\n      <th>S.No.</th>\n      <th>Name</th>\n      <th>CMP Rs.</th>\n      <th>P/E</th>\n      <th>Mar Cap Rs.Cr.</th>\n      <th>Div Yld %</th>\n      <th>NP Qtr Rs.Cr.</th>\n      <th>Qtr Profit Var %</th>\n      <th>Sales Qtr Rs.Cr.</th>\n      <th>Qtr Sales Var %</th>\n      <th>ROCE %</th>\n      <th>6mth return %</th>\n      <th>3mth return %</th>\n      <th>PEG</th>\n      <th>Current ratio</th>\n      <th>EV Rs.Cr.</th>\n      <th>CMP / FCF</th>\n      <th>CMP / Sales</th>\n    </tr>\n  </thead>\n  <tbody>\n    <tr>\n      <th>0</th>\n      <td>1</td>\n      <td>Adani Enterp.</td>\n      <td>2251.25</td>\n      <td>98.520000</td>\n      <td>256642.75</td>\n      <td>0.05</td>\n      <td>333.340000</td>\n      <td>-40.380000</td>\n      <td>22517.330000</td>\n      <td>-41.020000</td>\n      <td>9.49</td>\n      <td>13.17</td>\n      <td>-10.41</td>\n      <td>3.60</td>\n      <td>0.80</td>\n      <td>306948.71</td>\n      <td>-116.58</td>\n      <td>2.42</td>\n    </tr>\n    <tr>\n      <th>1</th>\n      <td>2</td>\n      <td>Mankind Pharma</td>\n      <td>1801.00</td>\n      <td>51.050000</td>\n      <td>72145.99</td>\n      <td>0.00</td>\n      <td>472.880000</td>\n      <td>12.530000</td>\n      <td>2453.350000</td>\n      <td>8.670000</td>\n      <td>20.70</td>\n      <td>27.66</td>\n      <td>-2.31</td>\n      <td>4.29</td>\n      <td>2.86</td>\n      <td>71944.25</td>\n      <td>332.81</td>\n      <td>8.43</td>\n    </tr>\n    <tr>\n      <th>2</th>\n      <td>3</td>\n      <td>Redington</td>\n      <td>151.40</td>\n      <td>9.560000</td>\n      <td>11834.76</td>\n      <td>4.79</td>\n      <td>311.640000</td>\n      <td>-21.580000</td>\n      <td>22220.150000</td>\n      <td>16.640000</td>\n      <td>24.92</td>\n      <td>-15.78</td>\n      <td>-5.85</td>\n      <td>0.40</td>\n      <td>1.37</td>\n      <td>13883.59</td>\n      <td>37.51</td>\n      <td>0.14</td>\n    </tr>\n    <tr>\n      <th>3</th>\n      <td>4</td>\n      <td>Aegis Logistics</td>\n      <td>294.55</td>\n      <td>20.310000</td>\n      <td>10338.72</td>\n      <td>1.96</td>\n      <td>150.010000</td>\n      <td>35.970000</td>\n      <td>1234.860000</td>\n      <td>-42.580000</td>\n      <td>15.90</td>\n      <td>-24.06</td>\n      <td>-20.57</td>\n      <td>1.12</td>\n      <td>3.86</td>\n      <td>10953.67</td>\n      <td>-147.89</td>\n      <td>1.36</td>\n    </tr>\n    <tr>\n      <th>4</th>\n      <td>5</td>\n      <td>MMTC</td>\n      <td>54.54</td>\n      <td>17.960000</td>\n      <td>8181.00</td>\n      <td>0.00</td>\n      <td>14.660000</td>\n      <td>80.330000</td>\n      <td>214.470000</td>\n      <td>-85.810000</td>\n      <td>23.01</td>\n      <td>75.45</td>\n      <td>41.42</td>\n      <td>0.37</td>\n      <td>1.48</td>\n      <td>7037.57</td>\n      <td>9.99</td>\n      <td>3.67</td>\n    </tr>\n    <tr>\n      <th>...</th>\n      <td>...</td>\n      <td>...</td>\n      <td>...</td>\n      <td>...</td>\n      <td>...</td>\n      <td>...</td>\n      <td>...</td>\n      <td>...</td>\n      <td>...</td>\n      <td>...</td>\n      <td>...</td>\n      <td>...</td>\n      <td>...</td>\n      <td>...</td>\n      <td>...</td>\n      <td>...</td>\n      <td>...</td>\n      <td>...</td>\n    </tr>\n    <tr>\n      <th>4427</th>\n      <td>4428</td>\n      <td>Crop Life Scienc</td>\n      <td>40.60</td>\n      <td>25.030000</td>\n      <td>69.59</td>\n      <td>0.00</td>\n      <td>86.080246</td>\n      <td>218.801107</td>\n      <td>972.092868</td>\n      <td>260.598919</td>\n      <td>10.65</td>\n      <td>NaN</td>\n      <td>NaN</td>\n      <td>NaN</td>\n      <td>1.47</td>\n      <td>89.05</td>\n      <td>216.96</td>\n      <td>0.74</td>\n    </tr>\n    <tr>\n      <th>4428</th>\n      <td>4429</td>\n      <td>Aristo Bio-Tech</td>\n      <td>85.00</td>\n      <td>16.260000</td>\n      <td>57.86</td>\n      <td>0.30</td>\n      <td>1.000000</td>\n      <td>218.801107</td>\n      <td>88.810000</td>\n      <td>260.598919</td>\n      <td>16.11</td>\n      <td>39.24</td>\n      <td>15.60</td>\n      <td>-16.59</td>\n      <td>1.40</td>\n      <td>78.50</td>\n      <td>-63.05</td>\n      <td>0.27</td>\n    </tr>\n    <tr>\n      <th>4429</th>\n      <td>4430</td>\n      <td>Super Crop Safe</td>\n      <td>9.28</td>\n      <td>24.710000</td>\n      <td>37.32</td>\n      <td>0.00</td>\n      <td>0.180000</td>\n      <td>148.650000</td>\n      <td>5.810000</td>\n      <td>35.430000</td>\n      <td>6.22</td>\n      <td>82.98</td>\n      <td>1.28</td>\n      <td>-0.90</td>\n      <td>1.65</td>\n      <td>54.28</td>\n      <td>99.93</td>\n      <td>1.55</td>\n    </tr>\n    <tr>\n      <th>4430</th>\n      <td>4431</td>\n      <td>Bhaskar Agrochem</td>\n      <td>40.50</td>\n      <td>150.720000</td>\n      <td>21.10</td>\n      <td>0.00</td>\n      <td>-2.030000</td>\n      <td>-4.640000</td>\n      <td>7.330000</td>\n      <td>36.750000</td>\n      <td>12.22</td>\n      <td>-39.60</td>\n      <td>-31.54</td>\n      <td>-15.04</td>\n      <td>1.03</td>\n      <td>36.61</td>\n      <td>-23.49</td>\n      <td>0.37</td>\n    </tr>\n    <tr>\n      <th>4431</th>\n      <td>4432</td>\n      <td>Phyto Chem (I)</td>\n      <td>43.00</td>\n      <td>84.714391</td>\n      <td>18.49</td>\n      <td>0.00</td>\n      <td>-0.160000</td>\n      <td>-108.080000</td>\n      <td>7.210000</td>\n      <td>-42.180000</td>\n      <td>7.55</td>\n      <td>4.88</td>\n      <td>8.79</td>\n      <td>NaN</td>\n      <td>1.32</td>\n      <td>34.67</td>\n      <td>10.71</td>\n      <td>0.89</td>\n    </tr>\n  </tbody>\n</table>\n<p>4432 rows × 18 columns</p>\n</div>"
     },
     "execution_count": 163,
     "metadata": {},
     "output_type": "execute_result"
    }
   ],
   "source": [
    "df"
   ],
   "metadata": {
    "collapsed": false,
    "ExecuteTime": {
     "end_time": "2024-03-01T09:45:44.510171800Z",
     "start_time": "2024-03-01T09:45:44.484069900Z"
    }
   },
   "id": "3289d71edf4182f0",
   "execution_count": 163
  },
  {
   "cell_type": "code",
   "outputs": [
    {
     "data": {
      "text/plain": "S.No.                  0\nName                   0\nCMP Rs.                0\nP/E                    0\nMar Cap Rs.Cr.         0\nDiv Yld %              0\nNP Qtr Rs.Cr.          0\nQtr Profit Var %       0\nSales Qtr Rs.Cr.       0\nQtr Sales Var %        0\nROCE %               161\n6mth return %        191\n3mth return %        120\nPEG                 1772\nCurrent ratio         27\nEV Rs.Cr.              9\nCMP / FCF            157\nCMP / Sales          286\ndtype: int64"
     },
     "execution_count": 164,
     "metadata": {},
     "output_type": "execute_result"
    }
   ],
   "source": [
    "# Now again viewing null columns\n",
    "df.isnull().sum()"
   ],
   "metadata": {
    "collapsed": false,
    "ExecuteTime": {
     "end_time": "2024-03-01T09:45:46.961827600Z",
     "start_time": "2024-03-01T09:45:46.936751600Z"
    }
   },
   "id": "16713067071a5c54",
   "execution_count": 164
  },
  {
   "cell_type": "code",
   "outputs": [
    {
     "data": {
      "text/plain": "(4432, 18)"
     },
     "execution_count": 165,
     "metadata": {},
     "output_type": "execute_result"
    }
   ],
   "source": [
    "# Viewing shape\n",
    "df.shape"
   ],
   "metadata": {
    "collapsed": false,
    "ExecuteTime": {
     "end_time": "2024-03-01T09:45:49.355971200Z",
     "start_time": "2024-03-01T09:45:49.347972900Z"
    }
   },
   "id": "177d778ce6785d14",
   "execution_count": 165
  },
  {
   "cell_type": "code",
   "outputs": [
    {
     "data": {
      "text/plain": "      S.No.              Name         P/E  Mar Cap Rs.Cr.   Div Yld %  \\\n0         1     Adani Enterp.   98.520000        256642.75       0.05   \n1         2    Mankind Pharma   51.050000         72145.99       0.00   \n2         3         Redington    9.560000         11834.76       4.79   \n3         4   Aegis Logistics   20.310000         10338.72       1.96   \n4         5              MMTC   17.960000          8181.00       0.00   \n...     ...               ...         ...              ...        ...   \n4427   4428  Crop Life Scienc   25.030000            69.59       0.00   \n4428   4429   Aristo Bio-Tech   16.260000            57.86       0.30   \n4429   4430   Super Crop Safe   24.710000            37.32       0.00   \n4430   4431  Bhaskar Agrochem  150.720000            21.10       0.00   \n4431   4432    Phyto Chem (I)   84.714391            18.49       0.00   \n\n      NP Qtr Rs.Cr.  Qtr Profit Var %  Sales Qtr Rs.Cr.  Qtr Sales Var %  \\\n0        333.340000        -40.380000      22517.330000       -41.020000   \n1        472.880000         12.530000       2453.350000         8.670000   \n2        311.640000        -21.580000      22220.150000        16.640000   \n3        150.010000         35.970000       1234.860000       -42.580000   \n4         14.660000         80.330000        214.470000       -85.810000   \n...             ...               ...               ...              ...   \n4427      86.080246        218.801107        972.092868       260.598919   \n4428       1.000000        218.801107         88.810000       260.598919   \n4429       0.180000        148.650000          5.810000        35.430000   \n4430      -2.030000         -4.640000          7.330000        36.750000   \n4431      -0.160000       -108.080000          7.210000       -42.180000   \n\n      ROCE %  6mth return %  3mth return %    PEG  Current ratio  EV Rs.Cr.  \\\n0       9.49          13.17         -10.41   3.60           0.80  306948.71   \n1      20.70          27.66          -2.31   4.29           2.86   71944.25   \n2      24.92         -15.78          -5.85   0.40           1.37   13883.59   \n3      15.90         -24.06         -20.57   1.12           3.86   10953.67   \n4      23.01          75.45          41.42   0.37           1.48    7037.57   \n...      ...            ...            ...    ...            ...        ...   \n4427   10.65            NaN            NaN    NaN           1.47      89.05   \n4428   16.11          39.24          15.60 -16.59           1.40      78.50   \n4429    6.22          82.98           1.28  -0.90           1.65      54.28   \n4430   12.22         -39.60         -31.54 -15.04           1.03      36.61   \n4431    7.55           4.88           8.79    NaN           1.32      34.67   \n\n      CMP / FCF  CMP / Sales  \n0       -116.58         2.42  \n1        332.81         8.43  \n2         37.51         0.14  \n3       -147.89         1.36  \n4          9.99         3.67  \n...         ...          ...  \n4427     216.96         0.74  \n4428     -63.05         0.27  \n4429      99.93         1.55  \n4430     -23.49         0.37  \n4431      10.71         0.89  \n\n[4432 rows x 17 columns]",
      "text/html": "<div>\n<style scoped>\n    .dataframe tbody tr th:only-of-type {\n        vertical-align: middle;\n    }\n\n    .dataframe tbody tr th {\n        vertical-align: top;\n    }\n\n    .dataframe thead th {\n        text-align: right;\n    }\n</style>\n<table border=\"1\" class=\"dataframe\">\n  <thead>\n    <tr style=\"text-align: right;\">\n      <th></th>\n      <th>S.No.</th>\n      <th>Name</th>\n      <th>P/E</th>\n      <th>Mar Cap Rs.Cr.</th>\n      <th>Div Yld %</th>\n      <th>NP Qtr Rs.Cr.</th>\n      <th>Qtr Profit Var %</th>\n      <th>Sales Qtr Rs.Cr.</th>\n      <th>Qtr Sales Var %</th>\n      <th>ROCE %</th>\n      <th>6mth return %</th>\n      <th>3mth return %</th>\n      <th>PEG</th>\n      <th>Current ratio</th>\n      <th>EV Rs.Cr.</th>\n      <th>CMP / FCF</th>\n      <th>CMP / Sales</th>\n    </tr>\n  </thead>\n  <tbody>\n    <tr>\n      <th>0</th>\n      <td>1</td>\n      <td>Adani Enterp.</td>\n      <td>98.520000</td>\n      <td>256642.75</td>\n      <td>0.05</td>\n      <td>333.340000</td>\n      <td>-40.380000</td>\n      <td>22517.330000</td>\n      <td>-41.020000</td>\n      <td>9.49</td>\n      <td>13.17</td>\n      <td>-10.41</td>\n      <td>3.60</td>\n      <td>0.80</td>\n      <td>306948.71</td>\n      <td>-116.58</td>\n      <td>2.42</td>\n    </tr>\n    <tr>\n      <th>1</th>\n      <td>2</td>\n      <td>Mankind Pharma</td>\n      <td>51.050000</td>\n      <td>72145.99</td>\n      <td>0.00</td>\n      <td>472.880000</td>\n      <td>12.530000</td>\n      <td>2453.350000</td>\n      <td>8.670000</td>\n      <td>20.70</td>\n      <td>27.66</td>\n      <td>-2.31</td>\n      <td>4.29</td>\n      <td>2.86</td>\n      <td>71944.25</td>\n      <td>332.81</td>\n      <td>8.43</td>\n    </tr>\n    <tr>\n      <th>2</th>\n      <td>3</td>\n      <td>Redington</td>\n      <td>9.560000</td>\n      <td>11834.76</td>\n      <td>4.79</td>\n      <td>311.640000</td>\n      <td>-21.580000</td>\n      <td>22220.150000</td>\n      <td>16.640000</td>\n      <td>24.92</td>\n      <td>-15.78</td>\n      <td>-5.85</td>\n      <td>0.40</td>\n      <td>1.37</td>\n      <td>13883.59</td>\n      <td>37.51</td>\n      <td>0.14</td>\n    </tr>\n    <tr>\n      <th>3</th>\n      <td>4</td>\n      <td>Aegis Logistics</td>\n      <td>20.310000</td>\n      <td>10338.72</td>\n      <td>1.96</td>\n      <td>150.010000</td>\n      <td>35.970000</td>\n      <td>1234.860000</td>\n      <td>-42.580000</td>\n      <td>15.90</td>\n      <td>-24.06</td>\n      <td>-20.57</td>\n      <td>1.12</td>\n      <td>3.86</td>\n      <td>10953.67</td>\n      <td>-147.89</td>\n      <td>1.36</td>\n    </tr>\n    <tr>\n      <th>4</th>\n      <td>5</td>\n      <td>MMTC</td>\n      <td>17.960000</td>\n      <td>8181.00</td>\n      <td>0.00</td>\n      <td>14.660000</td>\n      <td>80.330000</td>\n      <td>214.470000</td>\n      <td>-85.810000</td>\n      <td>23.01</td>\n      <td>75.45</td>\n      <td>41.42</td>\n      <td>0.37</td>\n      <td>1.48</td>\n      <td>7037.57</td>\n      <td>9.99</td>\n      <td>3.67</td>\n    </tr>\n    <tr>\n      <th>...</th>\n      <td>...</td>\n      <td>...</td>\n      <td>...</td>\n      <td>...</td>\n      <td>...</td>\n      <td>...</td>\n      <td>...</td>\n      <td>...</td>\n      <td>...</td>\n      <td>...</td>\n      <td>...</td>\n      <td>...</td>\n      <td>...</td>\n      <td>...</td>\n      <td>...</td>\n      <td>...</td>\n      <td>...</td>\n    </tr>\n    <tr>\n      <th>4427</th>\n      <td>4428</td>\n      <td>Crop Life Scienc</td>\n      <td>25.030000</td>\n      <td>69.59</td>\n      <td>0.00</td>\n      <td>86.080246</td>\n      <td>218.801107</td>\n      <td>972.092868</td>\n      <td>260.598919</td>\n      <td>10.65</td>\n      <td>NaN</td>\n      <td>NaN</td>\n      <td>NaN</td>\n      <td>1.47</td>\n      <td>89.05</td>\n      <td>216.96</td>\n      <td>0.74</td>\n    </tr>\n    <tr>\n      <th>4428</th>\n      <td>4429</td>\n      <td>Aristo Bio-Tech</td>\n      <td>16.260000</td>\n      <td>57.86</td>\n      <td>0.30</td>\n      <td>1.000000</td>\n      <td>218.801107</td>\n      <td>88.810000</td>\n      <td>260.598919</td>\n      <td>16.11</td>\n      <td>39.24</td>\n      <td>15.60</td>\n      <td>-16.59</td>\n      <td>1.40</td>\n      <td>78.50</td>\n      <td>-63.05</td>\n      <td>0.27</td>\n    </tr>\n    <tr>\n      <th>4429</th>\n      <td>4430</td>\n      <td>Super Crop Safe</td>\n      <td>24.710000</td>\n      <td>37.32</td>\n      <td>0.00</td>\n      <td>0.180000</td>\n      <td>148.650000</td>\n      <td>5.810000</td>\n      <td>35.430000</td>\n      <td>6.22</td>\n      <td>82.98</td>\n      <td>1.28</td>\n      <td>-0.90</td>\n      <td>1.65</td>\n      <td>54.28</td>\n      <td>99.93</td>\n      <td>1.55</td>\n    </tr>\n    <tr>\n      <th>4430</th>\n      <td>4431</td>\n      <td>Bhaskar Agrochem</td>\n      <td>150.720000</td>\n      <td>21.10</td>\n      <td>0.00</td>\n      <td>-2.030000</td>\n      <td>-4.640000</td>\n      <td>7.330000</td>\n      <td>36.750000</td>\n      <td>12.22</td>\n      <td>-39.60</td>\n      <td>-31.54</td>\n      <td>-15.04</td>\n      <td>1.03</td>\n      <td>36.61</td>\n      <td>-23.49</td>\n      <td>0.37</td>\n    </tr>\n    <tr>\n      <th>4431</th>\n      <td>4432</td>\n      <td>Phyto Chem (I)</td>\n      <td>84.714391</td>\n      <td>18.49</td>\n      <td>0.00</td>\n      <td>-0.160000</td>\n      <td>-108.080000</td>\n      <td>7.210000</td>\n      <td>-42.180000</td>\n      <td>7.55</td>\n      <td>4.88</td>\n      <td>8.79</td>\n      <td>NaN</td>\n      <td>1.32</td>\n      <td>34.67</td>\n      <td>10.71</td>\n      <td>0.89</td>\n    </tr>\n  </tbody>\n</table>\n<p>4432 rows × 17 columns</p>\n</div>"
     },
     "execution_count": 166,
     "metadata": {},
     "output_type": "execute_result"
    }
   ],
   "source": [
    "# Dividing into independent and dependent features\n",
    "X = df.drop('CMP\\xa0Rs.', axis=1)\n",
    "X"
   ],
   "metadata": {
    "collapsed": false,
    "ExecuteTime": {
     "end_time": "2024-03-01T09:45:51.073133100Z",
     "start_time": "2024-03-01T09:45:51.037036100Z"
    }
   },
   "id": "d843acfcf3cbbcf5",
   "execution_count": 166
  },
  {
   "cell_type": "code",
   "outputs": [
    {
     "data": {
      "text/plain": "0       2251.25\n1       1801.00\n2        151.40\n3        294.55\n4         54.54\n         ...   \n4427      40.60\n4428      85.00\n4429       9.28\n4430      40.50\n4431      43.00\nName: CMP Rs., Length: 4432, dtype: float64"
     },
     "execution_count": 167,
     "metadata": {},
     "output_type": "execute_result"
    }
   ],
   "source": [
    "Y = df['CMP\\xa0Rs.']\n",
    "Y"
   ],
   "metadata": {
    "collapsed": false,
    "ExecuteTime": {
     "end_time": "2024-03-01T09:45:54.216662200Z",
     "start_time": "2024-03-01T09:45:54.202792600Z"
    }
   },
   "id": "cf02967b26b33f87",
   "execution_count": 167
  },
  {
   "cell_type": "code",
   "outputs": [
    {
     "data": {
      "text/plain": "(4432, 17)"
     },
     "execution_count": 168,
     "metadata": {},
     "output_type": "execute_result"
    }
   ],
   "source": [
    "# Viewing shape\n",
    "X.shape"
   ],
   "metadata": {
    "collapsed": false,
    "ExecuteTime": {
     "end_time": "2024-03-01T09:45:59.888867200Z",
     "start_time": "2024-03-01T09:45:59.874864900Z"
    }
   },
   "id": "51843eafb21de8",
   "execution_count": 168
  },
  {
   "cell_type": "code",
   "outputs": [
    {
     "data": {
      "text/plain": "(4432,)"
     },
     "execution_count": 169,
     "metadata": {},
     "output_type": "execute_result"
    }
   ],
   "source": [
    "Y.shape"
   ],
   "metadata": {
    "collapsed": false,
    "ExecuteTime": {
     "end_time": "2024-03-01T09:46:01.794326Z",
     "start_time": "2024-03-01T09:46:01.783311Z"
    }
   },
   "id": "79e422c58f323c46",
   "execution_count": 169
  },
  {
   "cell_type": "code",
   "outputs": [
    {
     "name": "stdout",
     "output_type": "stream",
     "text": [
      "2.15.0\n"
     ]
    }
   ],
   "source": [
    "# Importing Tensorflow Library\n",
    "import tensorflow as tf\n",
    "\n",
    "print(tf.__version__)"
   ],
   "metadata": {
    "collapsed": false,
    "ExecuteTime": {
     "end_time": "2024-03-01T09:46:03.297132200Z",
     "start_time": "2024-03-01T09:46:03.282764400Z"
    }
   },
   "id": "2842aae2de88814a",
   "execution_count": 170
  },
  {
   "cell_type": "code",
   "outputs": [],
   "source": [
    "# RNN and tensorflow part starts\n",
    "from tensorflow.keras.layers import Embedding\n",
    "from tensorflow.keras.preprocessing.text import one_hot\n",
    "from tensorflow.keras.preprocessing.sequence import pad_sequences\n",
    "from tensorflow.keras.models import Sequential\n",
    "from tensorflow.keras.layers import RNN\n",
    "from tensorflow.keras.layers import Dense\n",
    "from tensorflow.keras.layers import Dropout"
   ],
   "metadata": {
    "collapsed": false,
    "ExecuteTime": {
     "end_time": "2024-03-01T09:46:05.077768100Z",
     "start_time": "2024-03-01T09:46:05.066049Z"
    }
   },
   "id": "fc324eee550544a4",
   "execution_count": 171
  },
  {
   "cell_type": "code",
   "outputs": [],
   "source": [
    "# portfolio\n",
    "portfolio = X.copy()"
   ],
   "metadata": {
    "collapsed": false,
    "ExecuteTime": {
     "end_time": "2024-03-01T09:46:09.033838600Z",
     "start_time": "2024-03-01T09:46:09.008833100Z"
    }
   },
   "id": "81bc9b803833f5ea",
   "execution_count": 173
  },
  {
   "cell_type": "code",
   "outputs": [
    {
     "data": {
      "text/plain": "('Adani Enterp.', 'Mankind Pharma', 'Redington')"
     },
     "execution_count": 174,
     "metadata": {},
     "output_type": "execute_result"
    }
   ],
   "source": [
    "portfolio['Name'][0], portfolio['Name'][1], portfolio['Name'][2]"
   ],
   "metadata": {
    "collapsed": false,
    "ExecuteTime": {
     "end_time": "2024-03-01T09:46:10.624970100Z",
     "start_time": "2024-03-01T09:46:10.601733200Z"
    }
   },
   "id": "3845a73a3c0f83df",
   "execution_count": 174
  },
  {
   "cell_type": "code",
   "outputs": [
    {
     "data": {
      "text/plain": "      S.No.              Name         P/E  Mar Cap Rs.Cr.   Div Yld %  \\\n0         1     Adani Enterp.   98.520000        256642.75       0.05   \n1         2    Mankind Pharma   51.050000         72145.99       0.00   \n2         3         Redington    9.560000         11834.76       4.79   \n3         4   Aegis Logistics   20.310000         10338.72       1.96   \n4         5              MMTC   17.960000          8181.00       0.00   \n...     ...               ...         ...              ...        ...   \n4427   4428  Crop Life Scienc   25.030000            69.59       0.00   \n4428   4429   Aristo Bio-Tech   16.260000            57.86       0.30   \n4429   4430   Super Crop Safe   24.710000            37.32       0.00   \n4430   4431  Bhaskar Agrochem  150.720000            21.10       0.00   \n4431   4432    Phyto Chem (I)   84.714391            18.49       0.00   \n\n      NP Qtr Rs.Cr.  Qtr Profit Var %  Sales Qtr Rs.Cr.  Qtr Sales Var %  \\\n0        333.340000        -40.380000      22517.330000       -41.020000   \n1        472.880000         12.530000       2453.350000         8.670000   \n2        311.640000        -21.580000      22220.150000        16.640000   \n3        150.010000         35.970000       1234.860000       -42.580000   \n4         14.660000         80.330000        214.470000       -85.810000   \n...             ...               ...               ...              ...   \n4427      86.080246        218.801107        972.092868       260.598919   \n4428       1.000000        218.801107         88.810000       260.598919   \n4429       0.180000        148.650000          5.810000        35.430000   \n4430      -2.030000         -4.640000          7.330000        36.750000   \n4431      -0.160000       -108.080000          7.210000       -42.180000   \n\n      ROCE %  6mth return %  3mth return %    PEG  Current ratio  EV Rs.Cr.  \\\n0       9.49          13.17         -10.41   3.60           0.80  306948.71   \n1      20.70          27.66          -2.31   4.29           2.86   71944.25   \n2      24.92         -15.78          -5.85   0.40           1.37   13883.59   \n3      15.90         -24.06         -20.57   1.12           3.86   10953.67   \n4      23.01          75.45          41.42   0.37           1.48    7037.57   \n...      ...            ...            ...    ...            ...        ...   \n4427   10.65            NaN            NaN    NaN           1.47      89.05   \n4428   16.11          39.24          15.60 -16.59           1.40      78.50   \n4429    6.22          82.98           1.28  -0.90           1.65      54.28   \n4430   12.22         -39.60         -31.54 -15.04           1.03      36.61   \n4431    7.55           4.88           8.79    NaN           1.32      34.67   \n\n      CMP / FCF  CMP / Sales  \n0       -116.58         2.42  \n1        332.81         8.43  \n2         37.51         0.14  \n3       -147.89         1.36  \n4          9.99         3.67  \n...         ...          ...  \n4427     216.96         0.74  \n4428     -63.05         0.27  \n4429      99.93         1.55  \n4430     -23.49         0.37  \n4431      10.71         0.89  \n\n[4432 rows x 17 columns]",
      "text/html": "<div>\n<style scoped>\n    .dataframe tbody tr th:only-of-type {\n        vertical-align: middle;\n    }\n\n    .dataframe tbody tr th {\n        vertical-align: top;\n    }\n\n    .dataframe thead th {\n        text-align: right;\n    }\n</style>\n<table border=\"1\" class=\"dataframe\">\n  <thead>\n    <tr style=\"text-align: right;\">\n      <th></th>\n      <th>S.No.</th>\n      <th>Name</th>\n      <th>P/E</th>\n      <th>Mar Cap Rs.Cr.</th>\n      <th>Div Yld %</th>\n      <th>NP Qtr Rs.Cr.</th>\n      <th>Qtr Profit Var %</th>\n      <th>Sales Qtr Rs.Cr.</th>\n      <th>Qtr Sales Var %</th>\n      <th>ROCE %</th>\n      <th>6mth return %</th>\n      <th>3mth return %</th>\n      <th>PEG</th>\n      <th>Current ratio</th>\n      <th>EV Rs.Cr.</th>\n      <th>CMP / FCF</th>\n      <th>CMP / Sales</th>\n    </tr>\n  </thead>\n  <tbody>\n    <tr>\n      <th>0</th>\n      <td>1</td>\n      <td>Adani Enterp.</td>\n      <td>98.520000</td>\n      <td>256642.75</td>\n      <td>0.05</td>\n      <td>333.340000</td>\n      <td>-40.380000</td>\n      <td>22517.330000</td>\n      <td>-41.020000</td>\n      <td>9.49</td>\n      <td>13.17</td>\n      <td>-10.41</td>\n      <td>3.60</td>\n      <td>0.80</td>\n      <td>306948.71</td>\n      <td>-116.58</td>\n      <td>2.42</td>\n    </tr>\n    <tr>\n      <th>1</th>\n      <td>2</td>\n      <td>Mankind Pharma</td>\n      <td>51.050000</td>\n      <td>72145.99</td>\n      <td>0.00</td>\n      <td>472.880000</td>\n      <td>12.530000</td>\n      <td>2453.350000</td>\n      <td>8.670000</td>\n      <td>20.70</td>\n      <td>27.66</td>\n      <td>-2.31</td>\n      <td>4.29</td>\n      <td>2.86</td>\n      <td>71944.25</td>\n      <td>332.81</td>\n      <td>8.43</td>\n    </tr>\n    <tr>\n      <th>2</th>\n      <td>3</td>\n      <td>Redington</td>\n      <td>9.560000</td>\n      <td>11834.76</td>\n      <td>4.79</td>\n      <td>311.640000</td>\n      <td>-21.580000</td>\n      <td>22220.150000</td>\n      <td>16.640000</td>\n      <td>24.92</td>\n      <td>-15.78</td>\n      <td>-5.85</td>\n      <td>0.40</td>\n      <td>1.37</td>\n      <td>13883.59</td>\n      <td>37.51</td>\n      <td>0.14</td>\n    </tr>\n    <tr>\n      <th>3</th>\n      <td>4</td>\n      <td>Aegis Logistics</td>\n      <td>20.310000</td>\n      <td>10338.72</td>\n      <td>1.96</td>\n      <td>150.010000</td>\n      <td>35.970000</td>\n      <td>1234.860000</td>\n      <td>-42.580000</td>\n      <td>15.90</td>\n      <td>-24.06</td>\n      <td>-20.57</td>\n      <td>1.12</td>\n      <td>3.86</td>\n      <td>10953.67</td>\n      <td>-147.89</td>\n      <td>1.36</td>\n    </tr>\n    <tr>\n      <th>4</th>\n      <td>5</td>\n      <td>MMTC</td>\n      <td>17.960000</td>\n      <td>8181.00</td>\n      <td>0.00</td>\n      <td>14.660000</td>\n      <td>80.330000</td>\n      <td>214.470000</td>\n      <td>-85.810000</td>\n      <td>23.01</td>\n      <td>75.45</td>\n      <td>41.42</td>\n      <td>0.37</td>\n      <td>1.48</td>\n      <td>7037.57</td>\n      <td>9.99</td>\n      <td>3.67</td>\n    </tr>\n    <tr>\n      <th>...</th>\n      <td>...</td>\n      <td>...</td>\n      <td>...</td>\n      <td>...</td>\n      <td>...</td>\n      <td>...</td>\n      <td>...</td>\n      <td>...</td>\n      <td>...</td>\n      <td>...</td>\n      <td>...</td>\n      <td>...</td>\n      <td>...</td>\n      <td>...</td>\n      <td>...</td>\n      <td>...</td>\n      <td>...</td>\n    </tr>\n    <tr>\n      <th>4427</th>\n      <td>4428</td>\n      <td>Crop Life Scienc</td>\n      <td>25.030000</td>\n      <td>69.59</td>\n      <td>0.00</td>\n      <td>86.080246</td>\n      <td>218.801107</td>\n      <td>972.092868</td>\n      <td>260.598919</td>\n      <td>10.65</td>\n      <td>NaN</td>\n      <td>NaN</td>\n      <td>NaN</td>\n      <td>1.47</td>\n      <td>89.05</td>\n      <td>216.96</td>\n      <td>0.74</td>\n    </tr>\n    <tr>\n      <th>4428</th>\n      <td>4429</td>\n      <td>Aristo Bio-Tech</td>\n      <td>16.260000</td>\n      <td>57.86</td>\n      <td>0.30</td>\n      <td>1.000000</td>\n      <td>218.801107</td>\n      <td>88.810000</td>\n      <td>260.598919</td>\n      <td>16.11</td>\n      <td>39.24</td>\n      <td>15.60</td>\n      <td>-16.59</td>\n      <td>1.40</td>\n      <td>78.50</td>\n      <td>-63.05</td>\n      <td>0.27</td>\n    </tr>\n    <tr>\n      <th>4429</th>\n      <td>4430</td>\n      <td>Super Crop Safe</td>\n      <td>24.710000</td>\n      <td>37.32</td>\n      <td>0.00</td>\n      <td>0.180000</td>\n      <td>148.650000</td>\n      <td>5.810000</td>\n      <td>35.430000</td>\n      <td>6.22</td>\n      <td>82.98</td>\n      <td>1.28</td>\n      <td>-0.90</td>\n      <td>1.65</td>\n      <td>54.28</td>\n      <td>99.93</td>\n      <td>1.55</td>\n    </tr>\n    <tr>\n      <th>4430</th>\n      <td>4431</td>\n      <td>Bhaskar Agrochem</td>\n      <td>150.720000</td>\n      <td>21.10</td>\n      <td>0.00</td>\n      <td>-2.030000</td>\n      <td>-4.640000</td>\n      <td>7.330000</td>\n      <td>36.750000</td>\n      <td>12.22</td>\n      <td>-39.60</td>\n      <td>-31.54</td>\n      <td>-15.04</td>\n      <td>1.03</td>\n      <td>36.61</td>\n      <td>-23.49</td>\n      <td>0.37</td>\n    </tr>\n    <tr>\n      <th>4431</th>\n      <td>4432</td>\n      <td>Phyto Chem (I)</td>\n      <td>84.714391</td>\n      <td>18.49</td>\n      <td>0.00</td>\n      <td>-0.160000</td>\n      <td>-108.080000</td>\n      <td>7.210000</td>\n      <td>-42.180000</td>\n      <td>7.55</td>\n      <td>4.88</td>\n      <td>8.79</td>\n      <td>NaN</td>\n      <td>1.32</td>\n      <td>34.67</td>\n      <td>10.71</td>\n      <td>0.89</td>\n    </tr>\n  </tbody>\n</table>\n<p>4432 rows × 17 columns</p>\n</div>"
     },
     "execution_count": 175,
     "metadata": {},
     "output_type": "execute_result"
    }
   ],
   "source": [
    "portfolio"
   ],
   "metadata": {
    "collapsed": false,
    "ExecuteTime": {
     "end_time": "2024-03-01T09:46:12.739648500Z",
     "start_time": "2024-03-01T09:46:12.719648200Z"
    }
   },
   "id": "66654d7ae2665c3b",
   "execution_count": 175
  },
  {
   "cell_type": "code",
   "outputs": [
    {
     "data": {
      "text/plain": "      index  S.No.              Name         P/E  Mar Cap Rs.Cr.   Div Yld %  \\\n0         0      1     Adani Enterp.   98.520000        256642.75       0.05   \n1         1      2    Mankind Pharma   51.050000         72145.99       0.00   \n2         2      3         Redington    9.560000         11834.76       4.79   \n3         3      4   Aegis Logistics   20.310000         10338.72       1.96   \n4         4      5              MMTC   17.960000          8181.00       0.00   \n...     ...    ...               ...         ...              ...        ...   \n4427   4427   4428  Crop Life Scienc   25.030000            69.59       0.00   \n4428   4428   4429   Aristo Bio-Tech   16.260000            57.86       0.30   \n4429   4429   4430   Super Crop Safe   24.710000            37.32       0.00   \n4430   4430   4431  Bhaskar Agrochem  150.720000            21.10       0.00   \n4431   4431   4432    Phyto Chem (I)   84.714391            18.49       0.00   \n\n      NP Qtr Rs.Cr.  Qtr Profit Var %  Sales Qtr Rs.Cr.  Qtr Sales Var %  \\\n0        333.340000        -40.380000      22517.330000       -41.020000   \n1        472.880000         12.530000       2453.350000         8.670000   \n2        311.640000        -21.580000      22220.150000        16.640000   \n3        150.010000         35.970000       1234.860000       -42.580000   \n4         14.660000         80.330000        214.470000       -85.810000   \n...             ...               ...               ...              ...   \n4427      86.080246        218.801107        972.092868       260.598919   \n4428       1.000000        218.801107         88.810000       260.598919   \n4429       0.180000        148.650000          5.810000        35.430000   \n4430      -2.030000         -4.640000          7.330000        36.750000   \n4431      -0.160000       -108.080000          7.210000       -42.180000   \n\n      ROCE %  6mth return %  3mth return %    PEG  Current ratio  EV Rs.Cr.  \\\n0       9.49          13.17         -10.41   3.60           0.80  306948.71   \n1      20.70          27.66          -2.31   4.29           2.86   71944.25   \n2      24.92         -15.78          -5.85   0.40           1.37   13883.59   \n3      15.90         -24.06         -20.57   1.12           3.86   10953.67   \n4      23.01          75.45          41.42   0.37           1.48    7037.57   \n...      ...            ...            ...    ...            ...        ...   \n4427   10.65            NaN            NaN    NaN           1.47      89.05   \n4428   16.11          39.24          15.60 -16.59           1.40      78.50   \n4429    6.22          82.98           1.28  -0.90           1.65      54.28   \n4430   12.22         -39.60         -31.54 -15.04           1.03      36.61   \n4431    7.55           4.88           8.79    NaN           1.32      34.67   \n\n      CMP / FCF  CMP / Sales  \n0       -116.58         2.42  \n1        332.81         8.43  \n2         37.51         0.14  \n3       -147.89         1.36  \n4          9.99         3.67  \n...         ...          ...  \n4427     216.96         0.74  \n4428     -63.05         0.27  \n4429      99.93         1.55  \n4430     -23.49         0.37  \n4431      10.71         0.89  \n\n[4432 rows x 18 columns]",
      "text/html": "<div>\n<style scoped>\n    .dataframe tbody tr th:only-of-type {\n        vertical-align: middle;\n    }\n\n    .dataframe tbody tr th {\n        vertical-align: top;\n    }\n\n    .dataframe thead th {\n        text-align: right;\n    }\n</style>\n<table border=\"1\" class=\"dataframe\">\n  <thead>\n    <tr style=\"text-align: right;\">\n      <th></th>\n      <th>index</th>\n      <th>S.No.</th>\n      <th>Name</th>\n      <th>P/E</th>\n      <th>Mar Cap Rs.Cr.</th>\n      <th>Div Yld %</th>\n      <th>NP Qtr Rs.Cr.</th>\n      <th>Qtr Profit Var %</th>\n      <th>Sales Qtr Rs.Cr.</th>\n      <th>Qtr Sales Var %</th>\n      <th>ROCE %</th>\n      <th>6mth return %</th>\n      <th>3mth return %</th>\n      <th>PEG</th>\n      <th>Current ratio</th>\n      <th>EV Rs.Cr.</th>\n      <th>CMP / FCF</th>\n      <th>CMP / Sales</th>\n    </tr>\n  </thead>\n  <tbody>\n    <tr>\n      <th>0</th>\n      <td>0</td>\n      <td>1</td>\n      <td>Adani Enterp.</td>\n      <td>98.520000</td>\n      <td>256642.75</td>\n      <td>0.05</td>\n      <td>333.340000</td>\n      <td>-40.380000</td>\n      <td>22517.330000</td>\n      <td>-41.020000</td>\n      <td>9.49</td>\n      <td>13.17</td>\n      <td>-10.41</td>\n      <td>3.60</td>\n      <td>0.80</td>\n      <td>306948.71</td>\n      <td>-116.58</td>\n      <td>2.42</td>\n    </tr>\n    <tr>\n      <th>1</th>\n      <td>1</td>\n      <td>2</td>\n      <td>Mankind Pharma</td>\n      <td>51.050000</td>\n      <td>72145.99</td>\n      <td>0.00</td>\n      <td>472.880000</td>\n      <td>12.530000</td>\n      <td>2453.350000</td>\n      <td>8.670000</td>\n      <td>20.70</td>\n      <td>27.66</td>\n      <td>-2.31</td>\n      <td>4.29</td>\n      <td>2.86</td>\n      <td>71944.25</td>\n      <td>332.81</td>\n      <td>8.43</td>\n    </tr>\n    <tr>\n      <th>2</th>\n      <td>2</td>\n      <td>3</td>\n      <td>Redington</td>\n      <td>9.560000</td>\n      <td>11834.76</td>\n      <td>4.79</td>\n      <td>311.640000</td>\n      <td>-21.580000</td>\n      <td>22220.150000</td>\n      <td>16.640000</td>\n      <td>24.92</td>\n      <td>-15.78</td>\n      <td>-5.85</td>\n      <td>0.40</td>\n      <td>1.37</td>\n      <td>13883.59</td>\n      <td>37.51</td>\n      <td>0.14</td>\n    </tr>\n    <tr>\n      <th>3</th>\n      <td>3</td>\n      <td>4</td>\n      <td>Aegis Logistics</td>\n      <td>20.310000</td>\n      <td>10338.72</td>\n      <td>1.96</td>\n      <td>150.010000</td>\n      <td>35.970000</td>\n      <td>1234.860000</td>\n      <td>-42.580000</td>\n      <td>15.90</td>\n      <td>-24.06</td>\n      <td>-20.57</td>\n      <td>1.12</td>\n      <td>3.86</td>\n      <td>10953.67</td>\n      <td>-147.89</td>\n      <td>1.36</td>\n    </tr>\n    <tr>\n      <th>4</th>\n      <td>4</td>\n      <td>5</td>\n      <td>MMTC</td>\n      <td>17.960000</td>\n      <td>8181.00</td>\n      <td>0.00</td>\n      <td>14.660000</td>\n      <td>80.330000</td>\n      <td>214.470000</td>\n      <td>-85.810000</td>\n      <td>23.01</td>\n      <td>75.45</td>\n      <td>41.42</td>\n      <td>0.37</td>\n      <td>1.48</td>\n      <td>7037.57</td>\n      <td>9.99</td>\n      <td>3.67</td>\n    </tr>\n    <tr>\n      <th>...</th>\n      <td>...</td>\n      <td>...</td>\n      <td>...</td>\n      <td>...</td>\n      <td>...</td>\n      <td>...</td>\n      <td>...</td>\n      <td>...</td>\n      <td>...</td>\n      <td>...</td>\n      <td>...</td>\n      <td>...</td>\n      <td>...</td>\n      <td>...</td>\n      <td>...</td>\n      <td>...</td>\n      <td>...</td>\n      <td>...</td>\n    </tr>\n    <tr>\n      <th>4427</th>\n      <td>4427</td>\n      <td>4428</td>\n      <td>Crop Life Scienc</td>\n      <td>25.030000</td>\n      <td>69.59</td>\n      <td>0.00</td>\n      <td>86.080246</td>\n      <td>218.801107</td>\n      <td>972.092868</td>\n      <td>260.598919</td>\n      <td>10.65</td>\n      <td>NaN</td>\n      <td>NaN</td>\n      <td>NaN</td>\n      <td>1.47</td>\n      <td>89.05</td>\n      <td>216.96</td>\n      <td>0.74</td>\n    </tr>\n    <tr>\n      <th>4428</th>\n      <td>4428</td>\n      <td>4429</td>\n      <td>Aristo Bio-Tech</td>\n      <td>16.260000</td>\n      <td>57.86</td>\n      <td>0.30</td>\n      <td>1.000000</td>\n      <td>218.801107</td>\n      <td>88.810000</td>\n      <td>260.598919</td>\n      <td>16.11</td>\n      <td>39.24</td>\n      <td>15.60</td>\n      <td>-16.59</td>\n      <td>1.40</td>\n      <td>78.50</td>\n      <td>-63.05</td>\n      <td>0.27</td>\n    </tr>\n    <tr>\n      <th>4429</th>\n      <td>4429</td>\n      <td>4430</td>\n      <td>Super Crop Safe</td>\n      <td>24.710000</td>\n      <td>37.32</td>\n      <td>0.00</td>\n      <td>0.180000</td>\n      <td>148.650000</td>\n      <td>5.810000</td>\n      <td>35.430000</td>\n      <td>6.22</td>\n      <td>82.98</td>\n      <td>1.28</td>\n      <td>-0.90</td>\n      <td>1.65</td>\n      <td>54.28</td>\n      <td>99.93</td>\n      <td>1.55</td>\n    </tr>\n    <tr>\n      <th>4430</th>\n      <td>4430</td>\n      <td>4431</td>\n      <td>Bhaskar Agrochem</td>\n      <td>150.720000</td>\n      <td>21.10</td>\n      <td>0.00</td>\n      <td>-2.030000</td>\n      <td>-4.640000</td>\n      <td>7.330000</td>\n      <td>36.750000</td>\n      <td>12.22</td>\n      <td>-39.60</td>\n      <td>-31.54</td>\n      <td>-15.04</td>\n      <td>1.03</td>\n      <td>36.61</td>\n      <td>-23.49</td>\n      <td>0.37</td>\n    </tr>\n    <tr>\n      <th>4431</th>\n      <td>4431</td>\n      <td>4432</td>\n      <td>Phyto Chem (I)</td>\n      <td>84.714391</td>\n      <td>18.49</td>\n      <td>0.00</td>\n      <td>-0.160000</td>\n      <td>-108.080000</td>\n      <td>7.210000</td>\n      <td>-42.180000</td>\n      <td>7.55</td>\n      <td>4.88</td>\n      <td>8.79</td>\n      <td>NaN</td>\n      <td>1.32</td>\n      <td>34.67</td>\n      <td>10.71</td>\n      <td>0.89</td>\n    </tr>\n  </tbody>\n</table>\n<p>4432 rows × 18 columns</p>\n</div>"
     },
     "execution_count": 176,
     "metadata": {},
     "output_type": "execute_result"
    }
   ],
   "source": [
    "# reset the index\n",
    "portfolio.reset_index(inplace=True)\n",
    "portfolio"
   ],
   "metadata": {
    "collapsed": false,
    "ExecuteTime": {
     "end_time": "2024-03-01T09:46:15.150012600Z",
     "start_time": "2024-03-01T09:46:15.125009300Z"
    }
   },
   "id": "531da8d7489e39e6",
   "execution_count": 176
  },
  {
   "cell_type": "code",
   "outputs": [
    {
     "data": {
      "text/plain": "[[990, 780],\n [901, 698],\n [960],\n [946, 542],\n [479],\n [711],\n [98, 983],\n [263, 320],\n [663, 184],\n [114, 528],\n [894, 83, 148],\n [361, 219],\n [76, 309],\n [253, 139],\n [846, 319],\n [393, 560],\n [381, 465],\n [378, 666, 677],\n [218, 528],\n [301, 347, 129],\n [581, 528],\n [69, 983],\n [888, 319],\n [791, 94],\n [62, 176, 53],\n [301, 609, 528],\n [358, 547],\n [852, 785],\n [514, 937],\n [569],\n [230, 233],\n [708, 698],\n [908, 337],\n [792, 11, 777],\n [270, 903],\n [571, 701],\n [12, 528],\n [818, 958, 143],\n [750, 856],\n [191, 41, 447],\n [687, 504],\n [192, 705],\n [711],\n [922],\n [661, 256],\n [716, 468],\n [144, 449],\n [681, 785],\n [182, 483, 301],\n [454, 661],\n [811, 698],\n [988, 386],\n [8, 80, 124],\n [47, 71],\n [616, 767, 687, 177],\n [93, 666],\n [11, 528],\n [798, 62],\n [952, 483],\n [304, 121],\n [146, 978, 816],\n [279, 101],\n [579, 261, 177],\n [862, 811, 677],\n [226, 400],\n [973, 468],\n [159, 957],\n [564, 221],\n [307, 528],\n [298, 872, 503],\n [177, 780],\n [994, 643],\n [909, 591, 519, 528],\n [800, 579],\n [16, 992],\n [257, 905],\n [329, 21],\n [835, 378],\n [636, 524],\n [193, 330],\n [89, 63],\n [337],\n [207, 271],\n [829, 955],\n [94, 528, 800],\n [572, 579],\n [949, 434],\n [254, 528],\n [356, 698],\n [67, 62],\n [956, 557],\n [105, 948],\n [446, 376, 840, 547],\n [979, 777],\n [285, 14],\n [724, 69],\n [958, 547, 468],\n [263, 291],\n [961, 698],\n [904, 489],\n [584, 983],\n [543],\n [39, 307],\n [747, 983],\n [7, 286],\n [390, 44, 177],\n [626, 528],\n [796, 406, 996],\n [344, 24],\n [470, 483],\n [483, 483, 341],\n [107, 983],\n [865, 632],\n [76, 948],\n [1, 756, 468],\n [976, 956],\n [425],\n [663, 260, 588, 816],\n [60, 937],\n [329, 689],\n [163, 401],\n [168, 793],\n [376, 177],\n [607, 528],\n [939, 434],\n [380, 897],\n [937, 791],\n [962, 648],\n [779, 519],\n [385, 490],\n [666, 945],\n [188, 143],\n [605, 8],\n [511, 468],\n [384, 359],\n [525, 528],\n [761, 75, 902],\n [439],\n [276, 897],\n [666, 297, 489],\n [272, 765, 504],\n [358, 609],\n [719, 186],\n [33, 911],\n [153, 746],\n [572, 795],\n [2, 307],\n [923],\n [422, 770],\n [625, 219, 27],\n [544, 389],\n [525, 489],\n [166, 309],\n [353, 303],\n [8, 483, 986],\n [135, 960],\n [42, 579],\n [139, 560],\n [781, 689],\n [151, 94, 631],\n [56, 30],\n [96, 757],\n [926, 308],\n [539, 521],\n [39, 519],\n [358, 277, 688],\n [402, 579],\n [146, 23],\n [222, 143],\n [8, 565, 909, 150],\n [325, 301],\n [988, 177],\n [645, 471],\n [716, 481],\n [664, 475],\n [516, 689],\n [304, 224],\n [504, 504, 143],\n [50, 257],\n [237, 983],\n [443, 687],\n [385, 770],\n [447, 61, 483],\n [375, 483],\n [274, 528],\n [996],\n [796, 347],\n [748, 634],\n [792, 18],\n [983, 811],\n [525, 983],\n [547, 425],\n [466, 698],\n [864, 352],\n [565, 143, 623],\n [522, 777],\n [749, 908],\n [425, 528],\n [26, 184],\n [895],\n [417, 184],\n [365, 352, 857],\n [821, 648],\n [138, 219],\n [575, 846],\n [205, 557],\n [674, 843, 819],\n [858, 869],\n [109, 27],\n [874, 937],\n [946, 518],\n [17, 579],\n [26, 870],\n [384, 321],\n [483, 591, 347, 926],\n [586, 840],\n [902, 474],\n [863, 698, 148],\n [234, 782],\n [794, 319],\n [574, 11],\n [835, 964],\n [996, 964],\n [49, 688],\n [8, 347, 410],\n [546, 983],\n [157, 117],\n [55, 352],\n [904, 90],\n [153, 578, 216],\n [186, 519],\n [619, 249],\n [622, 790],\n [34, 790],\n [11, 406],\n [432, 690, 301],\n [845],\n [734, 653],\n [415, 365],\n [618, 394],\n [642, 528],\n [618, 471],\n [788, 341],\n [242, 536],\n [241, 391],\n [31, 656],\n [658, 874],\n [673, 272],\n [809],\n [820, 459],\n [222, 471],\n [619, 770],\n [632, 138],\n [277, 330],\n [526, 352],\n [456, 579],\n [714, 477, 471],\n [8, 581, 291],\n [98, 168],\n [687, 674, 455],\n [257, 252],\n [238, 8, 545],\n [625, 528],\n [113, 471],\n [93, 623],\n [41, 64, 475],\n [479, 983],\n [227, 233],\n [900, 79, 62],\n [738, 874],\n [533, 777],\n [174, 545],\n [453, 170],\n [415, 515, 365],\n [626, 987],\n [380, 796],\n [399, 903],\n [960, 447],\n [854, 780],\n [461, 457],\n [750, 434],\n [324, 82],\n [367, 387],\n [191, 528, 489],\n [272, 643],\n [532, 688],\n [254, 547],\n [189, 121],\n [851, 468],\n [219, 944],\n [145, 281],\n [948, 216],\n [471, 989],\n [211, 833],\n [117, 53],\n [632, 107],\n [245, 319],\n [240, 874],\n [550, 298],\n [254, 489],\n [880, 75, 722],\n [212, 719],\n [550, 11],\n [142, 143],\n [310, 177],\n [24, 931, 69],\n [181, 936, 96],\n [77, 579],\n [710, 232, 143],\n [307, 965],\n [616, 726, 661],\n [103, 780],\n [667, 955],\n [827, 301],\n [887, 365],\n [762, 94],\n [983, 256],\n [920, 785],\n [610, 509],\n [757, 94],\n [926, 453],\n [842, 406],\n [741, 468],\n [728, 560],\n [753, 964],\n [129, 321, 358],\n [450, 81],\n [437, 121],\n [99, 408],\n [417, 808],\n [776],\n [611, 110],\n [582, 777],\n [986, 787],\n [810, 509],\n [824, 720],\n [947, 468],\n [535, 568],\n [490, 301, 902],\n [681, 347],\n [325, 528, 471],\n [180, 271],\n [773, 976],\n [565, 843],\n [24, 983],\n [284, 15],\n [68, 740],\n [710, 983],\n [463, 550],\n [63, 609, 549],\n [280, 849],\n [460, 840],\n [955, 688],\n [930, 704],\n [933, 398, 474],\n [261, 504, 141],\n [873, 177],\n [493, 39],\n [212, 435],\n [57, 471],\n [324, 639],\n [321, 216],\n [389, 408],\n [264, 728],\n [868, 120, 649],\n [221, 94, 782],\n [414, 835],\n [349, 483],\n [166, 186],\n [493, 594, 677],\n [904, 865],\n [959, 858],\n [371, 689],\n [115, 483, 677],\n [497, 856],\n [262, 320],\n [916, 406, 530],\n [335, 903],\n [84],\n [437, 891],\n [225, 308],\n [219, 364],\n [591, 785],\n [67, 809],\n [877, 440],\n [338, 143],\n [463, 825],\n [85, 189],\n [542, 943],\n [181, 983],\n [17, 629, 11],\n [505, 455],\n [297, 121],\n [677, 996, 177],\n [138, 474, 721],\n [594, 307],\n [323],\n [463, 706],\n [163, 814],\n [126, 89],\n [244, 735],\n [770, 23],\n [70, 588],\n [580, 948],\n [596, 49],\n [673, 711, 982],\n [591, 126],\n [91, 143],\n [793, 261],\n [827, 538],\n [950, 840],\n [617, 597],\n [630, 765],\n [564, 27],\n [958, 226],\n [726, 550, 996],\n [182, 181],\n [69, 688],\n [607, 141],\n [892, 319],\n [379, 489],\n [226, 307],\n [406, 613],\n [184, 761],\n [824, 989],\n [883, 483],\n [898, 141],\n [669, 113],\n [677, 265],\n [674, 176],\n [884, 41, 156],\n [468, 176],\n [236, 685],\n [102, 939, 176],\n [551, 830],\n [302, 436],\n [196, 634],\n [977, 82],\n [210, 94, 389],\n [248, 24],\n [176, 468],\n [913, 278],\n [524],\n [912, 177],\n [706, 524],\n [301, 24],\n [942, 379],\n [38, 524],\n [711, 380],\n [884, 865, 302],\n [442, 69],\n [318, 479],\n [210, 704],\n [652, 253],\n [483, 302, 278],\n [775, 176],\n [526, 608],\n [674, 140],\n [743, 113],\n [450, 176],\n [826, 945],\n [560, 176],\n [26, 479],\n [683, 483, 983],\n [947, 945],\n [468, 252],\n [604, 909],\n [396, 660],\n [357, 53],\n [907, 462],\n [725, 311, 479],\n [675, 907],\n [249, 33],\n [975, 468, 365],\n [711, 698],\n [816, 76],\n [900, 856],\n [539, 489],\n [884, 957, 24],\n [177, 379],\n [498, 176],\n [214, 504],\n [438, 524],\n [63, 290, 475],\n [960],\n [163, 290],\n [385, 84, 314],\n [339, 529],\n [547, 958, 301, 143],\n [597, 290],\n [619, 290],\n [215],\n [370, 290],\n [960, 737, 290],\n [380, 522],\n [325, 629, 314],\n [408, 290],\n [647, 290],\n [303, 290],\n [990, 290],\n [669, 238],\n [143, 290],\n [990, 347, 290],\n [487, 479],\n [674, 290, 683],\n [674, 290, 588],\n [138, 301],\n [678, 290],\n [907, 801, 621],\n [246, 902, 512],\n [729],\n [549, 579],\n [848, 610],\n [978, 883],\n [259, 884, 403],\n [88, 621],\n [929, 653],\n [425, 334],\n [384, 945],\n [463, 290],\n [327, 290],\n [584, 216, 635],\n [215, 290],\n [266, 436],\n [924, 319],\n [920, 290],\n [378, 290],\n [756, 818, 528],\n [585, 290],\n [697, 870],\n [659, 75],\n [20, 290],\n [663, 290],\n [565, 651],\n [962, 290],\n [810, 290],\n [800, 348, 314],\n [35, 471],\n [457, 858],\n [922, 365],\n [860, 761],\n [48],\n [770, 475],\n [945, 687, 219],\n [690, 319, 488],\n [478, 688],\n [483, 238, 339],\n [429],\n [217],\n [571, 319],\n [625, 528],\n [481, 772, 752],\n [850, 47],\n [461, 126],\n [96, 126],\n [63],\n [436],\n [490, 534, 319],\n [788, 261],\n [945, 307],\n [550, 75],\n [43, 623, 319],\n [34, 319],\n [282, 623],\n [591, 347, 742],\n [107, 253],\n [802, 742, 981],\n [1, 818, 489],\n [486, 563],\n [327, 951, 752],\n [798, 434],\n [276, 440],\n [518, 742],\n [436, 165, 989],\n [646],\n [36, 319, 752],\n [327, 951, 500],\n [386, 696],\n [493],\n [344, 601],\n [375, 463],\n [909, 563],\n [449, 319],\n [3, 319, 989],\n [623, 197],\n [520, 181],\n [315, 466],\n [358, 604],\n [323, 319],\n [949, 742],\n [907, 226],\n [420, 509],\n [780, 282, 688],\n [321, 545, 742],\n [240, 280],\n [528, 343, 742],\n [949, 319],\n [528, 545, 742],\n [690, 575, 679],\n [94, 406],\n [730, 94, 449],\n [893, 94, 599],\n [965, 65, 94],\n [965, 296],\n [916, 123],\n [25, 176, 421],\n [673, 528, 190],\n [37, 629],\n [623, 140],\n [350, 772],\n [112, 665],\n [295, 792],\n [29, 899],\n [206, 142],\n [4, 825],\n [480, 899],\n [383, 177],\n [326, 899],\n [367, 65],\n [436, 44],\n [461, 947],\n [355],\n [566],\n [112, 524],\n [974],\n [885],\n [177, 339],\n [466, 697],\n [4, 981],\n [291, 958, 536],\n [887],\n [127, 523],\n [247, 504, 365],\n [102, 698],\n [510],\n [216],\n [532, 330],\n [697, 509],\n [443, 528],\n [501, 239],\n [424, 46],\n [220, 177],\n [143, 588, 899, 835],\n [862, 515],\n [939, 835],\n [204, 772],\n [6, 892],\n [119, 567],\n [484, 642],\n [303, 330],\n [142, 576],\n [60],\n [238, 790, 688],\n [423, 524],\n [44, 999],\n [613, 239],\n [220, 921],\n [176, 829],\n [497, 468],\n [757, 31],\n [866, 818],\n [856, 969],\n [673],\n [792, 470],\n [212],\n [416, 706],\n [762, 956],\n [669, 177],\n [327, 287],\n [949, 934],\n [378, 792],\n [799, 177],\n [540],\n [174],\n [184, 921, 969],\n [88, 486],\n [549, 374, 177],\n [391, 689],\n [767, 177],\n [589, 822],\n [161, 557],\n [956, 528],\n [239, 872],\n [258, 45, 177],\n [270, 688],\n [774, 31],\n [202, 818],\n [609, 177],\n [726, 177],\n [216, 857],\n [625, 790],\n [429, 981],\n [130, 177],\n [488, 239],\n [292, 337],\n [681, 632],\n [860, 358],\n [246, 177],\n [975, 944, 975],\n [3, 327],\n [846, 632],\n [37, 434],\n [340, 790],\n [2, 468, 565],\n [10, 177],\n [396, 921],\n [93, 622],\n [326, 330],\n [389, 528],\n [727, 588, 177],\n [714, 524],\n [333, 528],\n [533, 792],\n [871, 568],\n [739, 981],\n [37, 177],\n [856, 790],\n [261, 481],\n [700],\n [195, 528],\n [124, 434],\n [897, 177],\n [999, 588, 661],\n [564, 817],\n [595],\n [319],\n [677],\n [814, 468],\n [860, 818],\n [397, 896],\n [196, 509],\n [667, 177],\n [7, 907],\n [571],\n [279],\n [176, 177],\n [443, 362],\n [935, 980, 330],\n [77, 434],\n [298, 65],\n [83, 806],\n [393, 528],\n [295, 177],\n [705, 31],\n [292, 790],\n [699, 801],\n [761, 629],\n [480, 615],\n [596, 946],\n [238, 818, 330, 547],\n [451, 792],\n [9, 177],\n [326, 892],\n [81],\n [69, 567],\n [409, 177],\n [23, 790],\n [279, 481],\n [724, 177],\n [739, 177],\n [153, 468],\n [413, 177],\n [862, 177],\n [694, 528],\n [894, 18],\n [717, 440, 509],\n [253, 524],\n [726, 785],\n [300, 177],\n [921, 24],\n [50, 772],\n [565, 321],\n [447, 899],\n [665, 177],\n [960, 177],\n [77, 785],\n [539, 330],\n [574, 677],\n [241],\n [227, 330],\n [53, 292],\n [270, 899],\n [274, 934],\n [549, 38, 969],\n [378, 528],\n [612],\n [731, 899],\n [982, 177],\n [304, 434, 818],\n [940, 969, 177],\n [31, 320],\n [876, 177],\n [57, 981],\n [319],\n [761, 536],\n [316, 681],\n [329, 462],\n [921, 509],\n [774],\n [640, 969],\n [732, 969, 790],\n [306, 674, 515],\n [704, 177],\n [304, 941],\n [151, 790],\n [954, 899],\n [405, 857, 547],\n [557, 20],\n [916, 55],\n [378, 969],\n [646],\n [935, 14],\n [724, 899],\n [384, 536],\n [699, 515],\n [290, 20],\n [912],\n [884, 31],\n [805, 267],\n [49, 903],\n [176, 330],\n [225, 253],\n [16, 27],\n [31, 969, 819],\n [486, 307],\n [788, 861],\n [894, 468],\n [284, 468],\n [425, 966],\n [781, 528],\n [839, 471],\n [275, 486],\n [454, 566],\n [848, 687, 115],\n [827, 434],\n [419, 899, 956],\n [693, 216],\n [616, 757],\n [247, 764],\n [867, 835],\n [217, 981],\n [4, 879],\n [547, 623, 934],\n [23, 638],\n [727, 680],\n [721, 956],\n [155, 177],\n [778, 899],\n [688, 330],\n [581, 524],\n [827, 566],\n [885, 177],\n [688, 321, 40],\n [138, 777],\n [324, 434],\n [886, 31],\n [70, 589],\n [225, 434],\n [483, 177, 899],\n [990, 678],\n [766, 440],\n [285, 132, 70],\n [806, 889, 782],\n [301, 565, 471],\n [283, 691],\n [841],\n [958, 708, 184, 400],\n [763],\n [896, 782],\n [756, 958, 782],\n [842, 303],\n [28, 875],\n [260, 782],\n [651, 782],\n [451, 319, 996],\n [428, 205],\n [414, 644],\n [184, 782],\n [475, 528],\n [184],\n [35],\n [152],\n [483, 909, 301, 143],\n [338],\n [40, 66],\n [104, 580],\n [114, 132],\n [633, 763],\n [60, 975, 884],\n [731, 215],\n [687, 652, 764],\n [764],\n [611, 522],\n [996, 342],\n [345, 840],\n [481, 677],\n [238, 983],\n [941, 847],\n [778, 132],\n [55, 623],\n [745, 630],\n [795, 983],\n [880, 407],\n [715, 606],\n [533, 360],\n [225, 263, 132],\n [387, 528],\n [687, 497],\n [778, 33],\n [39, 263, 177],\n [959, 560],\n [617, 580],\n [531, 155],\n [853, 623],\n [840, 718],\n [640, 742],\n [374],\n [143, 301, 818, 291],\n [522, 980],\n [165, 141, 202],\n [63, 742, 536],\n [688, 772],\n [720, 979],\n [756, 926],\n [135, 455],\n [752, 31],\n [947],\n [879, 56, 606],\n [198, 567],\n [730, 99, 547],\n [81],\n [585, 899, 790],\n [290, 700],\n [270],\n [925, 428, 365],\n [517, 489],\n [773, 471],\n [37, 691, 475],\n [425, 578],\n [758, 798],\n [530, 579],\n [336, 528],\n [81, 206],\n [337, 121],\n [385, 342, 946],\n [257, 956],\n [767, 567],\n [573, 742],\n [58, 772],\n [981],\n [665, 202],\n [48],\n [481, 984],\n [931, 957],\n [663, 742],\n [665, 644],\n [694, 648, 874],\n [309, 758],\n [923],\n [788, 870],\n [916, 743],\n [468, 947],\n [663, 742],\n [116, 143],\n [705, 96, 936],\n [619, 869],\n [324, 739],\n [677, 528, 509],\n [222],\n [386, 833],\n [335, 291],\n [612, 984],\n [212, 983],\n [198, 785],\n [298, 587],\n [997, 455],\n [258, 687, 215],\n [363, 644],\n [734, 632],\n [790, 568],\n [579, 924],\n [266, 319],\n [688, 576, 221],\n [249, 792],\n [637],\n [347, 588, 640],\n [96, 984],\n [9, 219],\n [387, 772],\n [389, 221],\n [599, 984],\n [847, 494],\n [352, 527],\n [231, 500],\n [970, 483],\n [253, 23, 791],\n [795, 785],\n [391, 953],\n [263, 208],\n [763, 223],\n ...]"
     },
     "execution_count": 198,
     "metadata": {},
     "output_type": "execute_result"
    }
   ],
   "source": [
    "# Converting text to integer\n",
    "vocab_size = 1000\n",
    "onehot_repr = [one_hot(words, vocab_size) for words in portfolio['Name']]\n",
    "onehot_repr"
   ],
   "metadata": {
    "collapsed": false,
    "ExecuteTime": {
     "end_time": "2024-03-01T09:49:57.107805800Z",
     "start_time": "2024-03-01T09:49:57.058927700Z"
    }
   },
   "id": "19b12911d7852c0c",
   "execution_count": 198
  },
  {
   "cell_type": "code",
   "outputs": [
    {
     "data": {
      "text/plain": "array([[  0,   0,   0, 990, 780],\n       [  0,   0,   0, 901, 698],\n       [  0,   0,   0,   0, 960],\n       ...,\n       [  0,   0, 342, 120, 428],\n       [  0,   0,   0, 430, 408],\n       [  0,   0, 765,  27, 547]])"
     },
     "execution_count": 199,
     "metadata": {},
     "output_type": "execute_result"
    }
   ],
   "source": [
    "# Embedding representations\n",
    "sent_length = 5\n",
    "embedded_docs = pad_sequences(onehot_repr, padding='pre', maxlen=sent_length)\n",
    "embedded_docs"
   ],
   "metadata": {
    "collapsed": false,
    "ExecuteTime": {
     "end_time": "2024-03-01T09:49:59.558253800Z",
     "start_time": "2024-03-01T09:49:59.523495Z"
    }
   },
   "id": "b69f3e09638aeaf1",
   "execution_count": 199
  },
  {
   "cell_type": "code",
   "outputs": [],
   "source": [
    "from tensorflow.keras.layers import SimpleRNN"
   ],
   "metadata": {
    "collapsed": false,
    "ExecuteTime": {
     "end_time": "2024-03-01T09:50:02.035408400Z",
     "start_time": "2024-03-01T09:50:02.022391900Z"
    }
   },
   "id": "cbf687407d13b59b",
   "execution_count": 200
  },
  {
   "cell_type": "code",
   "outputs": [],
   "source": [
    "# Building SimpleRNN model\n",
    "embedding_vector_features = 40\n",
    "model = Sequential()\n",
    "model.add(Embedding(vocab_size, embedding_vector_features, input_length=sent_length))\n",
    "model.add(SimpleRNN(200))\n",
    "# model.add(Dropout(0.3))\n",
    "model.add(Dense(1, activation='sigmoid'))"
   ],
   "metadata": {
    "collapsed": false,
    "ExecuteTime": {
     "end_time": "2024-03-01T09:50:21.584708500Z",
     "start_time": "2024-03-01T09:50:21.515750700Z"
    }
   },
   "id": "9b6f40a408683b18",
   "execution_count": 201
  },
  {
   "cell_type": "code",
   "outputs": [
    {
     "name": "stdout",
     "output_type": "stream",
     "text": [
      "Model: \"sequential_24\"\n",
      "_________________________________________________________________\n",
      " Layer (type)                Output Shape              Param #   \n",
      "=================================================================\n",
      " embedding_15 (Embedding)    (None, 5, 40)             40000     \n",
      "                                                                 \n",
      " simple_rnn_4 (SimpleRNN)    (None, 200)               48200     \n",
      "                                                                 \n",
      " dense_6 (Dense)             (None, 1)                 201       \n",
      "                                                                 \n",
      "=================================================================\n",
      "Total params: 88401 (345.32 KB)\n",
      "Trainable params: 88401 (345.32 KB)\n",
      "Non-trainable params: 0 (0.00 Byte)\n",
      "_________________________________________________________________\n",
      "None\n"
     ]
    }
   ],
   "source": [
    "model.compile(loss='binary_crossentropy', optimizer='adam', metrics=['accuracy'])\n",
    "print(model.summary())"
   ],
   "metadata": {
    "collapsed": false,
    "ExecuteTime": {
     "end_time": "2024-03-01T09:50:59.653832200Z",
     "start_time": "2024-03-01T09:50:59.616730300Z"
    }
   },
   "id": "29a23deb0e2ae3b0",
   "execution_count": 207
  },
  {
   "cell_type": "code",
   "outputs": [
    {
     "data": {
      "text/plain": "(array([[  0,   0,   0, 990, 780],\n        [  0,   0,   0, 901, 698],\n        [  0,   0,   0,   0, 960],\n        ...,\n        [  0,   0, 342, 120, 428],\n        [  0,   0,   0, 430, 408],\n        [  0,   0, 765,  27, 547]]),\n array([2251.25, 1801.  ,  151.4 , ...,    9.28,   40.5 ,   43.  ]))"
     },
     "execution_count": 208,
     "metadata": {},
     "output_type": "execute_result"
    }
   ],
   "source": [
    "# Converting to array using numpy\n",
    "import numpy as np\n",
    "\n",
    "X = np.array(embedded_docs)\n",
    "Y = np.array(Y)\n",
    "X, Y"
   ],
   "metadata": {
    "collapsed": false,
    "ExecuteTime": {
     "end_time": "2024-03-01T09:51:01.568854400Z",
     "start_time": "2024-03-01T09:51:01.542295100Z"
    }
   },
   "id": "f3a54569d00a60d4",
   "execution_count": 208
  },
  {
   "cell_type": "code",
   "outputs": [],
   "source": [
    "# Train Test Split\n",
    "from sklearn.model_selection import train_test_split\n",
    "\n",
    "X_train, X_test, Y_train, Y_test = train_test_split(X, Y, test_size=0.2, random_state=0)"
   ],
   "metadata": {
    "collapsed": false,
    "ExecuteTime": {
     "end_time": "2024-03-01T09:51:03.396874900Z",
     "start_time": "2024-03-01T09:51:03.386861200Z"
    }
   },
   "id": "a94639457e908a91",
   "execution_count": 209
  },
  {
   "cell_type": "code",
   "outputs": [
    {
     "name": "stdout",
     "output_type": "stream",
     "text": [
      "Epoch 1/10\n",
      "56/56 [==============================] - 0s 4ms/step - loss: -178928.0156 - accuracy: 8.4626e-04 - val_loss: 1.3383 - val_accuracy: 0.9966\n",
      "Epoch 2/10\n",
      "56/56 [==============================] - 0s 3ms/step - loss: -183199.9688 - accuracy: 8.4626e-04 - val_loss: 1.3704 - val_accuracy: 0.9966\n",
      "Epoch 3/10\n",
      "56/56 [==============================] - 0s 3ms/step - loss: -187425.0781 - accuracy: 8.4626e-04 - val_loss: 1.4019 - val_accuracy: 0.9966\n",
      "Epoch 4/10\n",
      "56/56 [==============================] - 0s 3ms/step - loss: -191734.5625 - accuracy: 8.4626e-04 - val_loss: 1.4327 - val_accuracy: 0.9966\n",
      "Epoch 5/10\n",
      "56/56 [==============================] - 0s 3ms/step - loss: -196016.3906 - accuracy: 8.4626e-04 - val_loss: 1.4642 - val_accuracy: 0.9966\n",
      "Epoch 6/10\n",
      "56/56 [==============================] - 0s 3ms/step - loss: -200272.6406 - accuracy: 8.4626e-04 - val_loss: 1.4973 - val_accuracy: 0.9966\n",
      "Epoch 7/10\n",
      "56/56 [==============================] - 0s 3ms/step - loss: -204593.5156 - accuracy: 8.4626e-04 - val_loss: 1.5284 - val_accuracy: 0.9966\n",
      "Epoch 8/10\n",
      "56/56 [==============================] - 0s 3ms/step - loss: -208859.5156 - accuracy: 8.4626e-04 - val_loss: 1.5593 - val_accuracy: 0.9966\n",
      "Epoch 9/10\n",
      "56/56 [==============================] - 0s 3ms/step - loss: -213115.1406 - accuracy: 8.4626e-04 - val_loss: 1.5909 - val_accuracy: 0.9966\n",
      "Epoch 10/10\n",
      "56/56 [==============================] - 0s 3ms/step - loss: -217392.7031 - accuracy: 8.4626e-04 - val_loss: 1.6235 - val_accuracy: 0.9966\n"
     ]
    }
   ],
   "source": [
    "history = model.fit(X_train, Y_train, validation_data=(X_test, Y_test), epochs=10, batch_size=64)"
   ],
   "metadata": {
    "collapsed": false,
    "ExecuteTime": {
     "end_time": "2024-03-01T09:57:39.833016200Z",
     "start_time": "2024-03-01T09:57:37.908705300Z"
    }
   },
   "id": "ce0d060977ba3539",
   "execution_count": 228
  },
  {
   "cell_type": "code",
   "outputs": [
    {
     "name": "stdout",
     "output_type": "stream",
     "text": [
      "28/28 [==============================] - 0s 2ms/step\n"
     ]
    },
    {
     "data": {
      "text/plain": "array([[1],\n       [1],\n       [1],\n       [1],\n       [1],\n       [1],\n       [1],\n       [1],\n       [1],\n       [1],\n       [1],\n       [1],\n       [1],\n       [1],\n       [1],\n       [1],\n       [1],\n       [1],\n       [1],\n       [1],\n       [1],\n       [1],\n       [1],\n       [1],\n       [1],\n       [1],\n       [1],\n       [1],\n       [1],\n       [1],\n       [1],\n       [1],\n       [1],\n       [1],\n       [1],\n       [1],\n       [1],\n       [1],\n       [1],\n       [1],\n       [1],\n       [1],\n       [1],\n       [1],\n       [1],\n       [1],\n       [1],\n       [1],\n       [1],\n       [1],\n       [1],\n       [1],\n       [1],\n       [1],\n       [1],\n       [1],\n       [1],\n       [1],\n       [1],\n       [1],\n       [1],\n       [1],\n       [1],\n       [1],\n       [1],\n       [1],\n       [1],\n       [1],\n       [1],\n       [1],\n       [1],\n       [1],\n       [1],\n       [1],\n       [1],\n       [1],\n       [1],\n       [1],\n       [1],\n       [1],\n       [1],\n       [1],\n       [1],\n       [1],\n       [1],\n       [1],\n       [1],\n       [1],\n       [1],\n       [1],\n       [1],\n       [1],\n       [1],\n       [1],\n       [1],\n       [1],\n       [1],\n       [1],\n       [1],\n       [1],\n       [1],\n       [1],\n       [1],\n       [1],\n       [1],\n       [1],\n       [1],\n       [1],\n       [1],\n       [1],\n       [1],\n       [1],\n       [1],\n       [1],\n       [1],\n       [1],\n       [1],\n       [1],\n       [1],\n       [1],\n       [1],\n       [1],\n       [1],\n       [1],\n       [1],\n       [1],\n       [1],\n       [1],\n       [1],\n       [1],\n       [1],\n       [1],\n       [1],\n       [1],\n       [1],\n       [1],\n       [1],\n       [1],\n       [1],\n       [1],\n       [1],\n       [1],\n       [1],\n       [1],\n       [1],\n       [1],\n       [1],\n       [1],\n       [1],\n       [1],\n       [1],\n       [1],\n       [1],\n       [1],\n       [1],\n       [1],\n       [1],\n       [1],\n       [1],\n       [1],\n       [1],\n       [1],\n       [1],\n       [1],\n       [1],\n       [1],\n       [1],\n       [1],\n       [1],\n       [1],\n       [1],\n       [1],\n       [1],\n       [1],\n       [1],\n       [1],\n       [1],\n       [1],\n       [1],\n       [1],\n       [1],\n       [1],\n       [1],\n       [1],\n       [1],\n       [1],\n       [1],\n       [1],\n       [1],\n       [1],\n       [1],\n       [1],\n       [1],\n       [1],\n       [1],\n       [1],\n       [1],\n       [1],\n       [1],\n       [1],\n       [1],\n       [1],\n       [1],\n       [1],\n       [1],\n       [1],\n       [1],\n       [1],\n       [1],\n       [1],\n       [1],\n       [1],\n       [1],\n       [1],\n       [1],\n       [1],\n       [1],\n       [1],\n       [1],\n       [1],\n       [1],\n       [1],\n       [1],\n       [1],\n       [1],\n       [1],\n       [1],\n       [1],\n       [1],\n       [1],\n       [1],\n       [1],\n       [1],\n       [1],\n       [1],\n       [1],\n       [1],\n       [1],\n       [1],\n       [1],\n       [1],\n       [1],\n       [1],\n       [1],\n       [1],\n       [1],\n       [1],\n       [1],\n       [1],\n       [1],\n       [1],\n       [1],\n       [1],\n       [1],\n       [1],\n       [1],\n       [1],\n       [1],\n       [1],\n       [1],\n       [1],\n       [1],\n       [1],\n       [1],\n       [1],\n       [1],\n       [1],\n       [1],\n       [1],\n       [1],\n       [1],\n       [1],\n       [1],\n       [1],\n       [1],\n       [1],\n       [1],\n       [1],\n       [1],\n       [1],\n       [1],\n       [1],\n       [1],\n       [1],\n       [1],\n       [1],\n       [1],\n       [1],\n       [1],\n       [1],\n       [1],\n       [1],\n       [1],\n       [1],\n       [1],\n       [1],\n       [1],\n       [1],\n       [1],\n       [1],\n       [1],\n       [1],\n       [1],\n       [1],\n       [1],\n       [1],\n       [1],\n       [1],\n       [1],\n       [1],\n       [1],\n       [1],\n       [1],\n       [1],\n       [1],\n       [1],\n       [1],\n       [1],\n       [1],\n       [1],\n       [1],\n       [1],\n       [1],\n       [1],\n       [1],\n       [1],\n       [1],\n       [1],\n       [1],\n       [1],\n       [1],\n       [1],\n       [1],\n       [1],\n       [1],\n       [1],\n       [1],\n       [1],\n       [1],\n       [1],\n       [1],\n       [1],\n       [1],\n       [1],\n       [1],\n       [1],\n       [1],\n       [1],\n       [1],\n       [1],\n       [1],\n       [1],\n       [1],\n       [1],\n       [1],\n       [1],\n       [1],\n       [1],\n       [1],\n       [1],\n       [1],\n       [1],\n       [1],\n       [1],\n       [1],\n       [1],\n       [1],\n       [1],\n       [1],\n       [1],\n       [1],\n       [1],\n       [1],\n       [1],\n       [1],\n       [1],\n       [1],\n       [1],\n       [1],\n       [1],\n       [1],\n       [1],\n       [1],\n       [1],\n       [1],\n       [1],\n       [1],\n       [1],\n       [1],\n       [1],\n       [1],\n       [1],\n       [1],\n       [1],\n       [1],\n       [1],\n       [1],\n       [1],\n       [1],\n       [1],\n       [1],\n       [1],\n       [1],\n       [1],\n       [1],\n       [1],\n       [1],\n       [1],\n       [1],\n       [1],\n       [1],\n       [1],\n       [1],\n       [1],\n       [1],\n       [1],\n       [1],\n       [1],\n       [1],\n       [1],\n       [1],\n       [1],\n       [1],\n       [1],\n       [1],\n       [1],\n       [1],\n       [1],\n       [1],\n       [1],\n       [1],\n       [1],\n       [1],\n       [1],\n       [1],\n       [1],\n       [1],\n       [1],\n       [1],\n       [1],\n       [1],\n       [1],\n       [1],\n       [1],\n       [1],\n       [1],\n       [1],\n       [1],\n       [1],\n       [1],\n       [1],\n       [1],\n       [1],\n       [1],\n       [1],\n       [1],\n       [1],\n       [1],\n       [1],\n       [1],\n       [1],\n       [1],\n       [1],\n       [1],\n       [1],\n       [1],\n       [1],\n       [1],\n       [1],\n       [1],\n       [1],\n       [1],\n       [1],\n       [1],\n       [1],\n       [1],\n       [1],\n       [1],\n       [1],\n       [1],\n       [1],\n       [1],\n       [1],\n       [1],\n       [1],\n       [1],\n       [1],\n       [1],\n       [1],\n       [1],\n       [1],\n       [1],\n       [1],\n       [1],\n       [1],\n       [1],\n       [1],\n       [1],\n       [1],\n       [1],\n       [1],\n       [1],\n       [1],\n       [1],\n       [1],\n       [1],\n       [1],\n       [1],\n       [1],\n       [1],\n       [1],\n       [1],\n       [1],\n       [1],\n       [1],\n       [1],\n       [1],\n       [1],\n       [1],\n       [1],\n       [1],\n       [1],\n       [1],\n       [1],\n       [1],\n       [1],\n       [1],\n       [1],\n       [1],\n       [1],\n       [1],\n       [1],\n       [1],\n       [1],\n       [1],\n       [1],\n       [1],\n       [1],\n       [1],\n       [1],\n       [1],\n       [1],\n       [1],\n       [1],\n       [1],\n       [1],\n       [1],\n       [1],\n       [1],\n       [1],\n       [1],\n       [1],\n       [1],\n       [1],\n       [1],\n       [1],\n       [1],\n       [1],\n       [1],\n       [1],\n       [1],\n       [1],\n       [1],\n       [1],\n       [1],\n       [1],\n       [1],\n       [1],\n       [1],\n       [1],\n       [1],\n       [1],\n       [1],\n       [1],\n       [1],\n       [1],\n       [1],\n       [1],\n       [1],\n       [1],\n       [1],\n       [1],\n       [1],\n       [1],\n       [1],\n       [1],\n       [1],\n       [1],\n       [1],\n       [1],\n       [1],\n       [1],\n       [1],\n       [1],\n       [1],\n       [1],\n       [1],\n       [1],\n       [1],\n       [1],\n       [1],\n       [1],\n       [1],\n       [1],\n       [1],\n       [1],\n       [1],\n       [1],\n       [1],\n       [1],\n       [1],\n       [1],\n       [1],\n       [1],\n       [1],\n       [1],\n       [1],\n       [1],\n       [1],\n       [1],\n       [1],\n       [1],\n       [1],\n       [1],\n       [1],\n       [1],\n       [1],\n       [1],\n       [1],\n       [1],\n       [1],\n       [1],\n       [1],\n       [1],\n       [1],\n       [1],\n       [1],\n       [1],\n       [1],\n       [1],\n       [1],\n       [1],\n       [1],\n       [1],\n       [1],\n       [1],\n       [1],\n       [1],\n       [1],\n       [1],\n       [1],\n       [1],\n       [1],\n       [1],\n       [1],\n       [1],\n       [1],\n       [1],\n       [1],\n       [1],\n       [1],\n       [1],\n       [1],\n       [1],\n       [1],\n       [1],\n       [1],\n       [1],\n       [1],\n       [1],\n       [1],\n       [1],\n       [1],\n       [1],\n       [1],\n       [1],\n       [1],\n       [1],\n       [1],\n       [1],\n       [1],\n       [1],\n       [1],\n       [1],\n       [1],\n       [1],\n       [1],\n       [1],\n       [1],\n       [1],\n       [1],\n       [1],\n       [1],\n       [1],\n       [1],\n       [1],\n       [1],\n       [1],\n       [1],\n       [1],\n       [1],\n       [1],\n       [1],\n       [1],\n       [1],\n       [1],\n       [1],\n       [1],\n       [1],\n       [1],\n       [1],\n       [1],\n       [1],\n       [1],\n       [1],\n       [1],\n       [1],\n       [1],\n       [1],\n       [1],\n       [1],\n       [1],\n       [1],\n       [1],\n       [1],\n       [1],\n       [1],\n       [1],\n       [1],\n       [1],\n       [1],\n       [1],\n       [1],\n       [1],\n       [1],\n       [1],\n       [1],\n       [1],\n       [1],\n       [1],\n       [1],\n       [1],\n       [1],\n       [1],\n       [1],\n       [1],\n       [1],\n       [1],\n       [1],\n       [1],\n       [1],\n       [1],\n       [1],\n       [1],\n       [1],\n       [1],\n       [1],\n       [1],\n       [1],\n       [1],\n       [1],\n       [1],\n       [1],\n       [1],\n       [1],\n       [1],\n       [1],\n       [1],\n       [1],\n       [1],\n       [1],\n       [1],\n       [1],\n       [1],\n       [1],\n       [1],\n       [1],\n       [1],\n       [1],\n       [1],\n       [1],\n       [1],\n       [1],\n       [1],\n       [1],\n       [1],\n       [1],\n       [1],\n       [1],\n       [1],\n       [1],\n       [1],\n       [1],\n       [1],\n       [1],\n       [1],\n       [1],\n       [1],\n       [1],\n       [1],\n       [1],\n       [1],\n       [1],\n       [1],\n       [1],\n       [1],\n       [1],\n       [1],\n       [1],\n       [1],\n       [1],\n       [1],\n       [1],\n       [1],\n       [1],\n       [1],\n       [1],\n       [1],\n       [1],\n       [1],\n       [1],\n       [1],\n       [1],\n       [1],\n       [1],\n       [1],\n       [1],\n       [1],\n       [1],\n       [1],\n       [1],\n       [1],\n       [1],\n       [1],\n       [1],\n       [1],\n       [1],\n       [1],\n       [1],\n       [1],\n       [1],\n       [1],\n       [1],\n       [1],\n       [1],\n       [1],\n       [1],\n       [1],\n       [1],\n       [1],\n       [1],\n       [1],\n       [1],\n       [1],\n       [1],\n       [1],\n       [1],\n       [1],\n       [1],\n       [1],\n       [1],\n       [1],\n       [1],\n       [1],\n       [1],\n       [1],\n       [1],\n       [1],\n       [1],\n       [1],\n       [1],\n       [1],\n       [1],\n       [1],\n       [1],\n       [1],\n       [1],\n       [1],\n       [1],\n       [1],\n       [1],\n       [1],\n       [1],\n       [1],\n       [1],\n       [1],\n       [1]])"
     },
     "execution_count": 231,
     "metadata": {},
     "output_type": "execute_result"
    }
   ],
   "source": [
    "# Performance of the model\n",
    "y_pred = model.predict(X_test)\n",
    "y_pred = np.where(y_pred > 0.5, 1, 0)\n",
    "y_pred"
   ],
   "metadata": {
    "collapsed": false,
    "ExecuteTime": {
     "end_time": "2024-03-01T09:58:05.341910600Z",
     "start_time": "2024-03-01T09:58:05.200248Z"
    }
   },
   "id": "9598556b8d4e6962",
   "execution_count": 231
  },
  {
   "cell_type": "code",
   "outputs": [
    {
     "data": {
      "text/plain": "array([1, 1, 1, 1, 1, 1, 1, 1, 1, 1, 1, 1, 1, 1, 1, 1, 1, 1, 1, 1, 1, 1,\n       1, 1, 1, 1, 1, 1, 1, 1, 1, 1, 1, 1, 1, 1, 1, 1, 1, 1, 1, 1, 1, 1,\n       1, 1, 1, 1, 1, 1, 1, 1, 1, 1, 1, 1, 1, 1, 1, 1, 1, 1, 1, 1, 1, 1,\n       1, 1, 1, 1, 1, 1, 1, 1, 1, 1, 1, 1, 1, 1, 1, 1, 1, 1, 1, 1, 1, 1,\n       1, 1, 1, 1, 1, 1, 1, 1, 1, 1, 1, 1, 1, 1, 1, 1, 1, 1, 1, 1, 1, 1,\n       1, 1, 1, 1, 1, 1, 1, 1, 1, 1, 1, 1, 1, 1, 1, 1, 1, 1, 1, 1, 1, 1,\n       1, 1, 1, 1, 1, 1, 1, 1, 1, 1, 1, 1, 1, 1, 1, 1, 1, 1, 1, 1, 1, 1,\n       1, 1, 1, 1, 1, 1, 1, 1, 1, 1, 1, 1, 1, 1, 1, 1, 1, 1, 1, 1, 1, 1,\n       1, 1, 1, 1, 1, 1, 1, 1, 1, 1, 1, 1, 1, 1, 1, 1, 1, 1, 1, 1, 1, 1,\n       1, 1, 1, 1, 1, 1, 1, 1, 1, 1, 1, 1, 1, 1, 1, 1, 1, 1, 1, 1, 1, 1,\n       1, 1, 1, 1, 1, 1, 1, 1, 1, 1, 1, 1, 1, 1, 1, 1, 1, 1, 1, 1, 1, 1,\n       1, 1, 1, 1, 1, 1, 1, 1, 1, 1, 1, 1, 1, 1, 1, 1, 1, 1, 1, 1, 1, 1,\n       1, 1, 1, 1, 1, 1, 1, 1, 1, 1, 1, 1, 1, 1, 1, 1, 1, 1, 1, 1, 1, 0,\n       1, 1, 1, 1, 1, 1, 1, 1, 1, 1, 1, 1, 1, 1, 1, 1, 1, 1, 1, 1, 1, 1,\n       1, 1, 1, 1, 1, 1, 1, 1, 1, 1, 1, 1, 1, 1, 1, 1, 1, 1, 1, 1, 1, 1,\n       1, 1, 1, 1, 1, 1, 1, 1, 1, 1, 1, 1, 1, 1, 1, 1, 1, 1, 1, 1, 1, 1,\n       1, 1, 1, 1, 1, 1, 1, 1, 1, 1, 1, 1, 1, 1, 1, 1, 1, 1, 1, 1, 1, 1,\n       1, 1, 1, 1, 1, 1, 1, 1, 1, 1, 1, 1, 1, 1, 1, 1, 1, 1, 1, 1, 1, 1,\n       0, 1, 1, 1, 1, 1, 1, 1, 1, 1, 1, 1, 1, 1, 1, 1, 1, 1, 1, 1, 1, 1,\n       1, 1, 1, 1, 1, 1, 1, 1, 1, 1, 1, 1, 1, 1, 1, 1, 1, 1, 1, 1, 1, 1,\n       1, 1, 1, 1, 1, 1, 1, 1, 1, 1, 1, 1, 1, 1, 1, 1, 1, 1, 1, 1, 1, 1,\n       1, 1, 1, 1, 1, 1, 1, 1, 1, 1, 1, 1, 1, 1, 1, 1, 1, 1, 1, 1, 1, 1,\n       1, 1, 1, 1, 1, 1, 1, 1, 1, 1, 1, 1, 1, 1, 1, 1, 1, 1, 1, 1, 1, 1,\n       1, 1, 1, 1, 1, 1, 1, 1, 1, 1, 1, 1, 1, 1, 1, 1, 1, 1, 1, 1, 1, 1,\n       1, 1, 1, 1, 1, 1, 1, 1, 1, 1, 1, 1, 1, 1, 1, 1, 1, 1, 1, 1, 1, 1,\n       1, 1, 1, 1, 1, 1, 1, 0, 1, 1, 1, 1, 1, 1, 1, 1, 1, 1, 1, 1, 1, 1,\n       1, 1, 1, 1, 1, 1, 1, 1, 1, 1, 1, 1, 1, 1, 1, 1, 1, 1, 1, 1, 1, 1,\n       1, 1, 1, 1, 1, 1, 1, 1, 1, 1, 1, 1, 1, 1, 1, 1, 1, 1, 1, 1, 1, 1,\n       1, 1, 1, 1, 1, 1, 1, 1, 1, 1, 1, 1, 1, 1, 1, 1, 1, 1, 1, 1, 1, 1,\n       1, 1, 1, 1, 1, 1, 1, 1, 1, 1, 1, 1, 1, 1, 1, 1, 1, 1, 1, 1, 1, 1,\n       1, 1, 1, 1, 1, 1, 1, 1, 1, 1, 1, 1, 1, 1, 1, 1, 1, 1, 1, 1, 1, 1,\n       1, 1, 1, 1, 1, 1, 1, 1, 1, 1, 1, 1, 1, 1, 1, 1, 1, 1, 1, 1, 1, 1,\n       1, 1, 1, 1, 1, 1, 1, 1, 1, 1, 1, 1, 1, 1, 1, 1, 1, 1, 1, 1, 1, 1,\n       1, 1, 1, 1, 1, 1, 1, 1, 1, 1, 1, 1, 1, 1, 1, 1, 1, 1, 1, 1, 1, 1,\n       1, 1, 1, 1, 1, 1, 1, 1, 1, 1, 1, 1, 1, 1, 1, 1, 1, 1, 1, 1, 1, 1,\n       1, 1, 1, 1, 1, 1, 1, 1, 1, 1, 1, 1, 1, 1, 1, 1, 1, 1, 1, 1, 1, 1,\n       1, 1, 1, 1, 1, 1, 1, 1, 1, 1, 1, 1, 1, 1, 1, 1, 1, 1, 1, 1, 1, 1,\n       1, 1, 1, 1, 1, 1, 1, 1, 1, 1, 1, 1, 1, 1, 1, 1, 1, 1, 1, 1, 1, 1,\n       1, 1, 1, 1, 1, 1, 1, 1, 1, 1, 1, 1, 1, 1, 1, 1, 1, 1, 1, 1, 1, 1,\n       1, 1, 1, 1, 1, 1, 1, 1, 1, 1, 1, 1, 1, 1, 1, 1, 1, 1, 1, 1, 1, 1,\n       1, 1, 1, 1, 1, 1, 1])"
     },
     "execution_count": 232,
     "metadata": {},
     "output_type": "execute_result"
    }
   ],
   "source": [
    "Y_test = np.array(Y_test)\n",
    "Y_test = np.where(Y_test > 0.5, 1, 0)\n",
    "Y_test"
   ],
   "metadata": {
    "collapsed": false,
    "ExecuteTime": {
     "end_time": "2024-03-01T09:58:07.182433400Z",
     "start_time": "2024-03-01T09:58:07.165920Z"
    }
   },
   "id": "1a56cd5c9c6f29c8",
   "execution_count": 232
  },
  {
   "cell_type": "code",
   "outputs": [
    {
     "data": {
      "text/plain": "0.9966178128523112"
     },
     "execution_count": 239,
     "metadata": {},
     "output_type": "execute_result"
    }
   ],
   "source": [
    "# Accuracy of the model\n",
    "from sklearn.metrics import accuracy_score\n",
    "accuracy = accuracy_score(Y_test, y_pred)\n",
    "accuracy"
   ],
   "metadata": {
    "collapsed": false,
    "ExecuteTime": {
     "end_time": "2024-03-01T10:02:39.724486800Z",
     "start_time": "2024-03-01T10:02:39.715452400Z"
    }
   },
   "id": "179b54eb53288315",
   "execution_count": 239
  },
  {
   "cell_type": "code",
   "outputs": [
    {
     "data": {
      "text/plain": "<Axes: >"
     },
     "execution_count": 258,
     "metadata": {},
     "output_type": "execute_result"
    },
    {
     "data": {
      "text/plain": "<Figure size 640x480 with 1 Axes>",
      "image/png": "[encoded data removed]"
     },
     "metadata": {},
     "output_type": "display_data"
    }
   ],
   "source": [
    "# Plotting the accuracy variable using seaborn library with label\n",
    "import seaborn as sns\n",
    "sns.set()\n",
    "sns.lineplot(x=history.epoch, y=history.history['accuracy'], label='Accuracy')\n",
    "sns.lineplot(x=history.epoch, y=history.history['val_accuracy'], label='Validation Accuracy')"
   ],
   "metadata": {
    "collapsed": false,
    "ExecuteTime": {
     "end_time": "2024-03-01T10:07:20.497806900Z",
     "start_time": "2024-03-01T10:07:20.343395300Z"
    }
   },
   "id": "1d3ef28d1e066ee8",
   "execution_count": 258
  },
  {
   "cell_type": "code",
   "outputs": [
    {
     "data": {
      "text/plain": "<Axes: >"
     },
     "execution_count": 259,
     "metadata": {},
     "output_type": "execute_result"
    },
    {
     "data": {
      "text/plain": "<Figure size 640x480 with 1 Axes>",
      "image/png": "[encoded data removed]"
     },
     "metadata": {},
     "output_type": "display_data"
    }
   ],
   "source": [
    "# Plotting the loss variable using seaborn library with label\n",
    "sns.lineplot(x=history.epoch, y=history.history['loss'], label='Loss')\n",
    "sns.lineplot(x=history.epoch, y=history.history['val_loss'], label='Validation Loss')"
   ],
   "metadata": {
    "collapsed": false,
    "ExecuteTime": {
     "end_time": "2024-03-01T10:07:32.528836700Z",
     "start_time": "2024-03-01T10:07:32.378602400Z"
    }
   },
   "id": "fc1cdc54355c9f7d",
   "execution_count": 259
  }
 ],
 "metadata": {
  "kernelspec": {
   "display_name": "Python 3",
   "language": "python",
   "name": "python3"
  },
  "language_info": {
   "codemirror_mode": {
    "name": "ipython",
    "version": 2
   },
   "file_extension": ".py",
   "mimetype": "text/x-python",
   "name": "python",
   "nbconvert_exporter": "python",
   "pygments_lexer": "ipython2",
   "version": "2.7.6"
  }
 },
 "nbformat": 4,
 "nbformat_minor": 5
}
